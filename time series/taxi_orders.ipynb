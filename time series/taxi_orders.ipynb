{
 "cells": [
  {
   "cell_type": "markdown",
   "metadata": {},
   "source": [
    "Привет, меня зовут Артем Хуршудов. Сегодня я проверю твой проект.\n",
    "<br> Дальнейшее общение будет происходить на \"ты\" если это не вызывает никаких проблем.\n",
    "<br> Желательно реагировать на каждый мой комментарий ('исправил', 'не понятно как исправить ошибку', ...)\n",
    "<br> Пожалуйста, не удаляй комментарии ревьюера, так как они повышают качество повторного ревью.\n",
    "\n",
    "Комментарии будут в <font color='green'>зеленой</font>, <font color='blue'>синей</font> или <font color='red'>красной</font> рамках:\n",
    "\n",
    "<div class=\"alert alert-block alert-success\">\n",
    "<b>Успех:</b> Если все сделано отлично\n",
    "</div>\n",
    "\n",
    "<div class=\"alert alert-block alert-info\">\n",
    "<b>Совет: </b> Если можно немного улучшить\n",
    "</div>\n",
    "\n",
    "<div class=\"alert alert-block alert-danger\">\n",
    "<b>Ошибка:</b> Если требуются исправления. Работа не может быть принята с красными комментариями.\n",
    "</div>\n",
    "\n",
    "-------------------\n",
    "\n",
    "Будет очень хорошо, если ты будешь помечать свои действия следующим образом:\n",
    "<div class=\"alert alert-block alert-warning\">\n",
    "<b>Комментарий студента:</b> ...\n",
    "</div>\n",
    "\n",
    "<div class=\"alert alert-block alert-warning\">\n",
    "<b>Изменения:</b> Были внесены следующие изменения ...\n",
    "</div>\n",
    "\n",
    "#### <font color='orange'>Полезные ссылки:</font>\n",
    "* Полезная лекция про временные ряды: https://www.youtube.com/watch?v=u433nrxdf5k .\n",
    "\n",
    "### <font color='orange'>Общее впечатление</font>\n",
    "* Большое спасибо за проделанную работу. Видно, что приложено много усилий.\n",
    "* Отлично, что ноутбук хорошо структурирован. Приятно проверять такие работы.\n",
    "* Тебе удалось добиться очень хорошего качества, поздравляю!\n",
    "* Проект может быть зачтен, но я его отправлю назад, чтобы у тебя была возможность задать вопросы и внести правки, при желании. Однако, ты можешь просто вернуть проект в таком же виде и я его зачту."
   ]
  },
  {
   "cell_type": "markdown",
   "metadata": {},
   "source": [
    "### <font color='orange'>Общее впечатление (ревью 2)</font>\n",
    "* Проект зачтен!\n",
    "* Удачи в дальнейшем обучении и следующих работах!"
   ]
  },
  {
   "cell_type": "markdown",
   "metadata": {
    "toc": true
   },
   "source": [
    "<h1>Содержание<span class=\"tocSkip\"></span></h1>\n",
    "<div class=\"toc\"><ul class=\"toc-item\"><li><ul class=\"toc-item\"><li><ul class=\"toc-item\"><li><span><a href=\"#Полезные-ссылки:\" data-toc-modified-id=\"Полезные-ссылки:-0.0.1\"><span class=\"toc-item-num\">0.0.1&nbsp;&nbsp;</span><font color=\"orange\">Полезные ссылки:</font></a></span></li></ul></li><li><span><a href=\"#Общее-впечатление\" data-toc-modified-id=\"Общее-впечатление-0.1\"><span class=\"toc-item-num\">0.1&nbsp;&nbsp;</span><font color=\"orange\">Общее впечатление</font></a></span></li><li><span><a href=\"#Общее-впечатление-(ревью-2)\" data-toc-modified-id=\"Общее-впечатление-(ревью-2)-0.2\"><span class=\"toc-item-num\">0.2&nbsp;&nbsp;</span><font color=\"orange\">Общее впечатление (ревью 2)</font></a></span></li></ul></li><li><span><a href=\"#Подготовка\" data-toc-modified-id=\"Подготовка-1\"><span class=\"toc-item-num\">1&nbsp;&nbsp;</span>Подготовка</a></span></li><li><span><a href=\"#Анализ\" data-toc-modified-id=\"Анализ-2\"><span class=\"toc-item-num\">2&nbsp;&nbsp;</span>Анализ</a></span></li><li><span><a href=\"#Обучение\" data-toc-modified-id=\"Обучение-3\"><span class=\"toc-item-num\">3&nbsp;&nbsp;</span>Обучение</a></span><ul class=\"toc-item\"><li><span><a href=\"#Подготовка-данных\" data-toc-modified-id=\"Подготовка-данных-3.1\"><span class=\"toc-item-num\">3.1&nbsp;&nbsp;</span>Подготовка данных</a></span></li><li><span><a href=\"#Линейная-регрессия\" data-toc-modified-id=\"Линейная-регрессия-3.2\"><span class=\"toc-item-num\">3.2&nbsp;&nbsp;</span>Линейная регрессия</a></span></li><li><span><a href=\"#Случайный-лес\" data-toc-modified-id=\"Случайный-лес-3.3\"><span class=\"toc-item-num\">3.3&nbsp;&nbsp;</span>Случайный лес</a></span></li><li><span><a href=\"#LightGBM\" data-toc-modified-id=\"LightGBM-3.4\"><span class=\"toc-item-num\">3.4&nbsp;&nbsp;</span>LightGBM</a></span></li></ul></li><li><span><a href=\"#Тестирование\" data-toc-modified-id=\"Тестирование-4\"><span class=\"toc-item-num\">4&nbsp;&nbsp;</span>Тестирование</a></span></li><li><span><a href=\"#Чек-лист-проверки\" data-toc-modified-id=\"Чек-лист-проверки-5\"><span class=\"toc-item-num\">5&nbsp;&nbsp;</span>Чек-лист проверки</a></span></li></ul></div>"
   ]
  },
  {
   "cell_type": "markdown",
   "metadata": {},
   "source": [
    "#  Прогнозирование заказов такси"
   ]
  },
  {
   "cell_type": "markdown",
   "metadata": {},
   "source": [
    "Компания «Чётенькое такси» собрала исторические данные о заказах такси в аэропортах. Чтобы привлекать больше водителей в период пиковой нагрузки, нужно спрогнозировать количество заказов такси на следующий час. Постройте модель для такого предсказания.\n",
    "\n",
    "Значение метрики *RMSE* на тестовой выборке должно быть не больше 48.\n",
    "\n",
    "Вам нужно:\n",
    "\n",
    "1. Загрузить данные и выполнить их ресемплирование по одному часу.\n",
    "2. Проанализировать данные.\n",
    "3. Обучить разные модели с различными гиперпараметрами. Сделать тестовую выборку размером 10% от исходных данных.\n",
    "4. Проверить данные на тестовой выборке и сделать выводы.\n",
    "\n",
    "\n",
    "Данные лежат в файле `taxi.csv`. Количество заказов находится в столбце `num_orders` (от англ. *number of orders*, «число заказов»)."
   ]
  },
  {
   "cell_type": "markdown",
   "metadata": {},
   "source": [
    "## Подготовка"
   ]
  },
  {
   "cell_type": "code",
   "execution_count": 1,
   "metadata": {},
   "outputs": [],
   "source": [
    "from lightgbm import LGBMRegressor\n",
    "import matplotlib.pyplot as plt\n",
    "import numpy as np\n",
    "import seaborn as sns\n",
    "from sklearn.dummy import DummyRegressor\n",
    "from sklearn.ensemble import RandomForestRegressor\n",
    "from sklearn.linear_model import LinearRegression\n",
    "from sklearn.metrics import make_scorer, mean_squared_error\n",
    "from sklearn.model_selection import GridSearchCV, train_test_split, TimeSeriesSplit\n",
    "from sklearn.preprocessing import StandardScaler\n",
    "from statsmodels.tsa.seasonal import seasonal_decompose\n",
    "import pandas as pd\n",
    "\n",
    "import warnings\n",
    "warnings.filterwarnings('ignore')"
   ]
  },
  {
   "cell_type": "markdown",
   "metadata": {},
   "source": [
    "<div class=\"alert alert-block alert-success\">\n",
    "<b>Успех:</b> Отлично, что все импорты собраны в первой ячейке ноутбука! Если у того, кто будет запускать твой ноутбук будут отсутствовать некоторые библиотеки, то он это увидит сразу, а не в процессе!\n",
    "</div>"
   ]
  },
  {
   "cell_type": "code",
   "execution_count": 2,
   "metadata": {},
   "outputs": [],
   "source": [
    "data = pd.read_csv('/datasets/taxi.csv', index_col=[0], parse_dates=[0])"
   ]
  },
  {
   "cell_type": "code",
   "execution_count": 3,
   "metadata": {},
   "outputs": [
    {
     "data": {
      "text/html": [
       "<div>\n",
       "<style scoped>\n",
       "    .dataframe tbody tr th:only-of-type {\n",
       "        vertical-align: middle;\n",
       "    }\n",
       "\n",
       "    .dataframe tbody tr th {\n",
       "        vertical-align: top;\n",
       "    }\n",
       "\n",
       "    .dataframe thead th {\n",
       "        text-align: right;\n",
       "    }\n",
       "</style>\n",
       "<table border=\"1\" class=\"dataframe\">\n",
       "  <thead>\n",
       "    <tr style=\"text-align: right;\">\n",
       "      <th></th>\n",
       "      <th>num_orders</th>\n",
       "    </tr>\n",
       "    <tr>\n",
       "      <th>datetime</th>\n",
       "      <th></th>\n",
       "    </tr>\n",
       "  </thead>\n",
       "  <tbody>\n",
       "    <tr>\n",
       "      <th>2018-03-01 00:00:00</th>\n",
       "      <td>9</td>\n",
       "    </tr>\n",
       "    <tr>\n",
       "      <th>2018-03-01 00:10:00</th>\n",
       "      <td>14</td>\n",
       "    </tr>\n",
       "    <tr>\n",
       "      <th>2018-03-01 00:20:00</th>\n",
       "      <td>28</td>\n",
       "    </tr>\n",
       "    <tr>\n",
       "      <th>2018-03-01 00:30:00</th>\n",
       "      <td>20</td>\n",
       "    </tr>\n",
       "    <tr>\n",
       "      <th>2018-03-01 00:40:00</th>\n",
       "      <td>32</td>\n",
       "    </tr>\n",
       "  </tbody>\n",
       "</table>\n",
       "</div>"
      ],
      "text/plain": [
       "                     num_orders\n",
       "datetime                       \n",
       "2018-03-01 00:00:00           9\n",
       "2018-03-01 00:10:00          14\n",
       "2018-03-01 00:20:00          28\n",
       "2018-03-01 00:30:00          20\n",
       "2018-03-01 00:40:00          32"
      ]
     },
     "execution_count": 3,
     "metadata": {},
     "output_type": "execute_result"
    }
   ],
   "source": [
    "data.head()"
   ]
  },
  {
   "cell_type": "code",
   "execution_count": 4,
   "metadata": {},
   "outputs": [
    {
     "name": "stdout",
     "output_type": "stream",
     "text": [
      "<class 'pandas.core.frame.DataFrame'>\n",
      "DatetimeIndex: 26496 entries, 2018-03-01 00:00:00 to 2018-08-31 23:50:00\n",
      "Data columns (total 1 columns):\n",
      " #   Column      Non-Null Count  Dtype\n",
      "---  ------      --------------  -----\n",
      " 0   num_orders  26496 non-null  int64\n",
      "dtypes: int64(1)\n",
      "memory usage: 414.0 KB\n"
     ]
    }
   ],
   "source": [
    "data.info()"
   ]
  },
  {
   "cell_type": "code",
   "execution_count": 5,
   "metadata": {},
   "outputs": [
    {
     "data": {
      "text/plain": [
       "num_orders    0\n",
       "dtype: int64"
      ]
     },
     "execution_count": 5,
     "metadata": {},
     "output_type": "execute_result"
    }
   ],
   "source": [
    "data.isna().sum()"
   ]
  },
  {
   "cell_type": "markdown",
   "metadata": {},
   "source": [
    "Пропусков нет."
   ]
  },
  {
   "cell_type": "code",
   "execution_count": 6,
   "metadata": {},
   "outputs": [
    {
     "data": {
      "text/plain": [
       "True"
      ]
     },
     "execution_count": 6,
     "metadata": {},
     "output_type": "execute_result"
    }
   ],
   "source": [
    "data.index.is_monotonic"
   ]
  },
  {
   "cell_type": "markdown",
   "metadata": {},
   "source": [
    "Данные расположены в правильном порядке."
   ]
  },
  {
   "cell_type": "code",
   "execution_count": 7,
   "metadata": {},
   "outputs": [
    {
     "data": {
      "text/plain": [
       "(Timestamp('2018-03-01 00:00:00'), Timestamp('2018-08-31 23:50:00'))"
      ]
     },
     "execution_count": 7,
     "metadata": {},
     "output_type": "execute_result"
    }
   ],
   "source": [
    "data.index.min(), data.index.max()"
   ]
  },
  {
   "cell_type": "markdown",
   "metadata": {},
   "source": [
    "Приведены данные с 1 марта по 31 августа 2018 года."
   ]
  },
  {
   "cell_type": "code",
   "execution_count": 8,
   "metadata": {},
   "outputs": [],
   "source": [
    "data = data.resample('1H').sum()"
   ]
  },
  {
   "cell_type": "code",
   "execution_count": 9,
   "metadata": {},
   "outputs": [
    {
     "data": {
      "text/html": [
       "<div>\n",
       "<style scoped>\n",
       "    .dataframe tbody tr th:only-of-type {\n",
       "        vertical-align: middle;\n",
       "    }\n",
       "\n",
       "    .dataframe tbody tr th {\n",
       "        vertical-align: top;\n",
       "    }\n",
       "\n",
       "    .dataframe thead th {\n",
       "        text-align: right;\n",
       "    }\n",
       "</style>\n",
       "<table border=\"1\" class=\"dataframe\">\n",
       "  <thead>\n",
       "    <tr style=\"text-align: right;\">\n",
       "      <th></th>\n",
       "      <th>num_orders</th>\n",
       "    </tr>\n",
       "    <tr>\n",
       "      <th>datetime</th>\n",
       "      <th></th>\n",
       "    </tr>\n",
       "  </thead>\n",
       "  <tbody>\n",
       "    <tr>\n",
       "      <th>2018-03-01 00:00:00</th>\n",
       "      <td>124</td>\n",
       "    </tr>\n",
       "    <tr>\n",
       "      <th>2018-03-01 01:00:00</th>\n",
       "      <td>85</td>\n",
       "    </tr>\n",
       "    <tr>\n",
       "      <th>2018-03-01 02:00:00</th>\n",
       "      <td>71</td>\n",
       "    </tr>\n",
       "    <tr>\n",
       "      <th>2018-03-01 03:00:00</th>\n",
       "      <td>66</td>\n",
       "    </tr>\n",
       "    <tr>\n",
       "      <th>2018-03-01 04:00:00</th>\n",
       "      <td>43</td>\n",
       "    </tr>\n",
       "  </tbody>\n",
       "</table>\n",
       "</div>"
      ],
      "text/plain": [
       "                     num_orders\n",
       "datetime                       \n",
       "2018-03-01 00:00:00         124\n",
       "2018-03-01 01:00:00          85\n",
       "2018-03-01 02:00:00          71\n",
       "2018-03-01 03:00:00          66\n",
       "2018-03-01 04:00:00          43"
      ]
     },
     "execution_count": 9,
     "metadata": {},
     "output_type": "execute_result"
    }
   ],
   "source": [
    "data.head()"
   ]
  },
  {
   "cell_type": "markdown",
   "metadata": {},
   "source": [
    "<div class=\"alert alert-block alert-success\">\n",
    "<b>Успех:</b> Данные загружены корректно, первичный осмотр проведен. Ресемплинг был сделан верно.\n",
    "</div>"
   ]
  },
  {
   "cell_type": "markdown",
   "metadata": {},
   "source": [
    "## Анализ"
   ]
  },
  {
   "cell_type": "markdown",
   "metadata": {},
   "source": [
    "Разложим временной ряд на составляющие, построим их графики."
   ]
  },
  {
   "cell_type": "code",
   "execution_count": 10,
   "metadata": {},
   "outputs": [
    {
     "data": {
      "image/png": "[encoded data removed]",
      "text/plain": [
       "<Figure size 1080x288 with 1 Axes>"
      ]
     },
     "metadata": {
      "needs_background": "light"
     },
     "output_type": "display_data"
    }
   ],
   "source": [
    "data.resample('1D').sum().plot(kind='line', figsize=(15, 4))\n",
    "plt.grid()\n",
    "plt.title('Изменение количества заказов по дням');"
   ]
  },
  {
   "cell_type": "code",
   "execution_count": 11,
   "metadata": {},
   "outputs": [],
   "source": [
    "decomposed = seasonal_decompose(data)"
   ]
  },
  {
   "cell_type": "code",
   "execution_count": 12,
   "metadata": {},
   "outputs": [
    {
     "data": {
      "image/png": "[encoded data removed]",
      "text/plain": [
       "<Figure size 1080x288 with 1 Axes>"
      ]
     },
     "metadata": {
      "needs_background": "light"
     },
     "output_type": "display_data"
    }
   ],
   "source": [
    "decomposed.trend.plot(figsize=(15, 4))\n",
    "plt.grid()\n",
    "plt.title('Тренд');"
   ]
  },
  {
   "cell_type": "code",
   "execution_count": 13,
   "metadata": {},
   "outputs": [
    {
     "data": {
      "text/plain": [
       "Text(0.5, 1.0, 'Сезонность')"
      ]
     },
     "execution_count": 13,
     "metadata": {},
     "output_type": "execute_result"
    },
    {
     "data": {
      "image/png": "[encoded data removed]",
      "text/plain": [
       "<Figure size 1080x288 with 1 Axes>"
      ]
     },
     "metadata": {
      "needs_background": "light"
     },
     "output_type": "display_data"
    }
   ],
   "source": [
    "decomposed.seasonal['2018-03-01': '2018-03-04'].plot(kind='line', figsize=(15, 4))\n",
    "plt.grid()\n",
    "plt.title('Сезонность')"
   ]
  },
  {
   "cell_type": "code",
   "execution_count": 14,
   "metadata": {
    "scrolled": true
   },
   "outputs": [
    {
     "data": {
      "image/png": "[encoded data removed]",
      "text/plain": [
       "<Figure size 1080x288 with 1 Axes>"
      ]
     },
     "metadata": {
      "needs_background": "light"
     },
     "output_type": "display_data"
    }
   ],
   "source": [
    "decomposed.resid.plot(figsize=(15, 4))\n",
    "plt.grid()\n",
    "plt.title('Остатки');"
   ]
  },
  {
   "cell_type": "markdown",
   "metadata": {},
   "source": [
    "<div class=\"alert alert-block alert-success\">\n",
    "<b>Успех:</b> Декомпозиция была сделана верно. Хорошо, что сезонность была визуализирована на более коротком интервале!\n",
    "</div>"
   ]
  },
  {
   "cell_type": "markdown",
   "metadata": {},
   "source": [
    "Из даты достанем информативные временные признаки."
   ]
  },
  {
   "cell_type": "code",
   "execution_count": 15,
   "metadata": {},
   "outputs": [],
   "source": [
    "data['month'] = data.index.month\n",
    "data['dayofweek'] = data.index.day_of_week\n",
    "data['hour'] = data.index.hour"
   ]
  },
  {
   "cell_type": "code",
   "execution_count": 16,
   "metadata": {},
   "outputs": [
    {
     "data": {
      "text/html": [
       "<div>\n",
       "<style scoped>\n",
       "    .dataframe tbody tr th:only-of-type {\n",
       "        vertical-align: middle;\n",
       "    }\n",
       "\n",
       "    .dataframe tbody tr th {\n",
       "        vertical-align: top;\n",
       "    }\n",
       "\n",
       "    .dataframe thead th {\n",
       "        text-align: right;\n",
       "    }\n",
       "</style>\n",
       "<table border=\"1\" class=\"dataframe\">\n",
       "  <thead>\n",
       "    <tr style=\"text-align: right;\">\n",
       "      <th></th>\n",
       "      <th>num_orders</th>\n",
       "      <th>month</th>\n",
       "      <th>dayofweek</th>\n",
       "      <th>hour</th>\n",
       "    </tr>\n",
       "    <tr>\n",
       "      <th>datetime</th>\n",
       "      <th></th>\n",
       "      <th></th>\n",
       "      <th></th>\n",
       "      <th></th>\n",
       "    </tr>\n",
       "  </thead>\n",
       "  <tbody>\n",
       "    <tr>\n",
       "      <th>2018-03-01 00:00:00</th>\n",
       "      <td>124</td>\n",
       "      <td>3</td>\n",
       "      <td>3</td>\n",
       "      <td>0</td>\n",
       "    </tr>\n",
       "    <tr>\n",
       "      <th>2018-03-01 01:00:00</th>\n",
       "      <td>85</td>\n",
       "      <td>3</td>\n",
       "      <td>3</td>\n",
       "      <td>1</td>\n",
       "    </tr>\n",
       "    <tr>\n",
       "      <th>2018-03-01 02:00:00</th>\n",
       "      <td>71</td>\n",
       "      <td>3</td>\n",
       "      <td>3</td>\n",
       "      <td>2</td>\n",
       "    </tr>\n",
       "    <tr>\n",
       "      <th>2018-03-01 03:00:00</th>\n",
       "      <td>66</td>\n",
       "      <td>3</td>\n",
       "      <td>3</td>\n",
       "      <td>3</td>\n",
       "    </tr>\n",
       "    <tr>\n",
       "      <th>2018-03-01 04:00:00</th>\n",
       "      <td>43</td>\n",
       "      <td>3</td>\n",
       "      <td>3</td>\n",
       "      <td>4</td>\n",
       "    </tr>\n",
       "  </tbody>\n",
       "</table>\n",
       "</div>"
      ],
      "text/plain": [
       "                     num_orders  month  dayofweek  hour\n",
       "datetime                                               \n",
       "2018-03-01 00:00:00         124      3          3     0\n",
       "2018-03-01 01:00:00          85      3          3     1\n",
       "2018-03-01 02:00:00          71      3          3     2\n",
       "2018-03-01 03:00:00          66      3          3     3\n",
       "2018-03-01 04:00:00          43      3          3     4"
      ]
     },
     "execution_count": 16,
     "metadata": {},
     "output_type": "execute_result"
    }
   ],
   "source": [
    "data.head()"
   ]
  },
  {
   "cell_type": "markdown",
   "metadata": {},
   "source": [
    "Рассмотрим среднее количество заказов по часам."
   ]
  },
  {
   "cell_type": "code",
   "execution_count": 17,
   "metadata": {},
   "outputs": [],
   "source": [
    "by_hour = data.pivot_table(index='hour', values='num_orders', aggfunc='mean').sort_values(by='num_orders', ascending=False)"
   ]
  },
  {
   "cell_type": "code",
   "execution_count": 18,
   "metadata": {},
   "outputs": [
    {
     "data": {
      "text/html": [
       "<div>\n",
       "<style scoped>\n",
       "    .dataframe tbody tr th:only-of-type {\n",
       "        vertical-align: middle;\n",
       "    }\n",
       "\n",
       "    .dataframe tbody tr th {\n",
       "        vertical-align: top;\n",
       "    }\n",
       "\n",
       "    .dataframe thead th {\n",
       "        text-align: right;\n",
       "    }\n",
       "</style>\n",
       "<table border=\"1\" class=\"dataframe\">\n",
       "  <thead>\n",
       "    <tr style=\"text-align: right;\">\n",
       "      <th></th>\n",
       "      <th>num_orders</th>\n",
       "    </tr>\n",
       "    <tr>\n",
       "      <th>hour</th>\n",
       "      <th></th>\n",
       "    </tr>\n",
       "  </thead>\n",
       "  <tbody>\n",
       "    <tr>\n",
       "      <th>0</th>\n",
       "      <td>144.402174</td>\n",
       "    </tr>\n",
       "    <tr>\n",
       "      <th>16</th>\n",
       "      <td>114.146739</td>\n",
       "    </tr>\n",
       "    <tr>\n",
       "      <th>2</th>\n",
       "      <td>113.070652</td>\n",
       "    </tr>\n",
       "    <tr>\n",
       "      <th>23</th>\n",
       "      <td>109.766304</td>\n",
       "    </tr>\n",
       "    <tr>\n",
       "      <th>1</th>\n",
       "      <td>104.364130</td>\n",
       "    </tr>\n",
       "    <tr>\n",
       "      <th>3</th>\n",
       "      <td>102.021739</td>\n",
       "    </tr>\n",
       "    <tr>\n",
       "      <th>22</th>\n",
       "      <td>98.500000</td>\n",
       "    </tr>\n",
       "    <tr>\n",
       "      <th>21</th>\n",
       "      <td>95.211957</td>\n",
       "    </tr>\n",
       "    <tr>\n",
       "      <th>10</th>\n",
       "      <td>93.119565</td>\n",
       "    </tr>\n",
       "    <tr>\n",
       "      <th>17</th>\n",
       "      <td>92.722826</td>\n",
       "    </tr>\n",
       "    <tr>\n",
       "      <th>9</th>\n",
       "      <td>88.831522</td>\n",
       "    </tr>\n",
       "    <tr>\n",
       "      <th>15</th>\n",
       "      <td>87.945652</td>\n",
       "    </tr>\n",
       "    <tr>\n",
       "      <th>4</th>\n",
       "      <td>86.907609</td>\n",
       "    </tr>\n",
       "    <tr>\n",
       "      <th>11</th>\n",
       "      <td>82.489130</td>\n",
       "    </tr>\n",
       "    <tr>\n",
       "      <th>20</th>\n",
       "      <td>81.858696</td>\n",
       "    </tr>\n",
       "    <tr>\n",
       "      <th>19</th>\n",
       "      <td>77.336957</td>\n",
       "    </tr>\n",
       "    <tr>\n",
       "      <th>14</th>\n",
       "      <td>75.163043</td>\n",
       "    </tr>\n",
       "    <tr>\n",
       "      <th>8</th>\n",
       "      <td>73.048913</td>\n",
       "    </tr>\n",
       "    <tr>\n",
       "      <th>13</th>\n",
       "      <td>71.173913</td>\n",
       "    </tr>\n",
       "    <tr>\n",
       "      <th>18</th>\n",
       "      <td>69.358696</td>\n",
       "    </tr>\n",
       "    <tr>\n",
       "      <th>12</th>\n",
       "      <td>67.630435</td>\n",
       "    </tr>\n",
       "    <tr>\n",
       "      <th>5</th>\n",
       "      <td>42.630435</td>\n",
       "    </tr>\n",
       "    <tr>\n",
       "      <th>7</th>\n",
       "      <td>29.271739</td>\n",
       "    </tr>\n",
       "    <tr>\n",
       "      <th>6</th>\n",
       "      <td>25.173913</td>\n",
       "    </tr>\n",
       "  </tbody>\n",
       "</table>\n",
       "</div>"
      ],
      "text/plain": [
       "      num_orders\n",
       "hour            \n",
       "0     144.402174\n",
       "16    114.146739\n",
       "2     113.070652\n",
       "23    109.766304\n",
       "1     104.364130\n",
       "3     102.021739\n",
       "22     98.500000\n",
       "21     95.211957\n",
       "10     93.119565\n",
       "17     92.722826\n",
       "9      88.831522\n",
       "15     87.945652\n",
       "4      86.907609\n",
       "11     82.489130\n",
       "20     81.858696\n",
       "19     77.336957\n",
       "14     75.163043\n",
       "8      73.048913\n",
       "13     71.173913\n",
       "18     69.358696\n",
       "12     67.630435\n",
       "5      42.630435\n",
       "7      29.271739\n",
       "6      25.173913"
      ]
     },
     "execution_count": 18,
     "metadata": {},
     "output_type": "execute_result"
    }
   ],
   "source": [
    "by_hour"
   ]
  },
  {
   "cell_type": "code",
   "execution_count": 19,
   "metadata": {},
   "outputs": [
    {
     "data": {
      "image/png": "[encoded data removed]",
      "text/plain": [
       "<Figure size 720x504 with 1 Axes>"
      ]
     },
     "metadata": {},
     "output_type": "display_data"
    }
   ],
   "source": [
    "sns.set(rc={'figure.figsize':(10, 7)})\n",
    "sns.barplot(y=by_hour['num_orders'].index, x=by_hour['num_orders'], orient='h')\n",
    "plt.title('Среднее количество заказов по часам');"
   ]
  },
  {
   "cell_type": "markdown",
   "metadata": {},
   "source": [
    "Видна высокая активность в период 22:00 - 03:00, сильная просадка в 5:00 - 7:00."
   ]
  },
  {
   "cell_type": "code",
   "execution_count": 20,
   "metadata": {},
   "outputs": [],
   "source": [
    "by_month = data.pivot_table(index='month', values='num_orders', aggfunc='mean').sort_values(by='num_orders', ascending=False)"
   ]
  },
  {
   "cell_type": "code",
   "execution_count": 21,
   "metadata": {},
   "outputs": [
    {
     "data": {
      "text/html": [
       "<div>\n",
       "<style scoped>\n",
       "    .dataframe tbody tr th:only-of-type {\n",
       "        vertical-align: middle;\n",
       "    }\n",
       "\n",
       "    .dataframe tbody tr th {\n",
       "        vertical-align: top;\n",
       "    }\n",
       "\n",
       "    .dataframe thead th {\n",
       "        text-align: right;\n",
       "    }\n",
       "</style>\n",
       "<table border=\"1\" class=\"dataframe\">\n",
       "  <thead>\n",
       "    <tr style=\"text-align: right;\">\n",
       "      <th></th>\n",
       "      <th>num_orders</th>\n",
       "    </tr>\n",
       "    <tr>\n",
       "      <th>month</th>\n",
       "      <th></th>\n",
       "    </tr>\n",
       "  </thead>\n",
       "  <tbody>\n",
       "    <tr>\n",
       "      <th>8</th>\n",
       "      <td>127.651882</td>\n",
       "    </tr>\n",
       "    <tr>\n",
       "      <th>7</th>\n",
       "      <td>100.006720</td>\n",
       "    </tr>\n",
       "    <tr>\n",
       "      <th>6</th>\n",
       "      <td>83.202778</td>\n",
       "    </tr>\n",
       "    <tr>\n",
       "      <th>5</th>\n",
       "      <td>73.682796</td>\n",
       "    </tr>\n",
       "    <tr>\n",
       "      <th>4</th>\n",
       "      <td>63.804167</td>\n",
       "    </tr>\n",
       "    <tr>\n",
       "      <th>3</th>\n",
       "      <td>57.483871</td>\n",
       "    </tr>\n",
       "  </tbody>\n",
       "</table>\n",
       "</div>"
      ],
      "text/plain": [
       "       num_orders\n",
       "month            \n",
       "8      127.651882\n",
       "7      100.006720\n",
       "6       83.202778\n",
       "5       73.682796\n",
       "4       63.804167\n",
       "3       57.483871"
      ]
     },
     "execution_count": 21,
     "metadata": {},
     "output_type": "execute_result"
    }
   ],
   "source": [
    "by_month"
   ]
  },
  {
   "cell_type": "code",
   "execution_count": 22,
   "metadata": {},
   "outputs": [
    {
     "data": {
      "image/png": "[encoded data removed]",
      "text/plain": [
       "<Figure size 504x504 with 1 Axes>"
      ]
     },
     "metadata": {},
     "output_type": "display_data"
    }
   ],
   "source": [
    "sns.set(rc={'figure.figsize':(7, 7)})\n",
    "sns.barplot(y=by_month['num_orders'].index, x=by_month['num_orders'], orient='h')\n",
    "plt.title('Среднее количество заказов по месяцам');"
   ]
  },
  {
   "cell_type": "markdown",
   "metadata": {},
   "source": [
    "Количество заказов возрастает к лету."
   ]
  },
  {
   "cell_type": "code",
   "execution_count": 23,
   "metadata": {},
   "outputs": [],
   "source": [
    "by_dayofweek = data.pivot_table(index='dayofweek', values='num_orders', aggfunc='mean').sort_values(by='num_orders', ascending=False)"
   ]
  },
  {
   "cell_type": "code",
   "execution_count": 24,
   "metadata": {},
   "outputs": [
    {
     "data": {
      "text/html": [
       "<div>\n",
       "<style scoped>\n",
       "    .dataframe tbody tr th:only-of-type {\n",
       "        vertical-align: middle;\n",
       "    }\n",
       "\n",
       "    .dataframe tbody tr th {\n",
       "        vertical-align: top;\n",
       "    }\n",
       "\n",
       "    .dataframe thead th {\n",
       "        text-align: right;\n",
       "    }\n",
       "</style>\n",
       "<table border=\"1\" class=\"dataframe\">\n",
       "  <thead>\n",
       "    <tr style=\"text-align: right;\">\n",
       "      <th></th>\n",
       "      <th>num_orders</th>\n",
       "    </tr>\n",
       "    <tr>\n",
       "      <th>dayofweek</th>\n",
       "      <th></th>\n",
       "    </tr>\n",
       "  </thead>\n",
       "  <tbody>\n",
       "    <tr>\n",
       "      <th>4</th>\n",
       "      <td>91.140432</td>\n",
       "    </tr>\n",
       "    <tr>\n",
       "      <th>0</th>\n",
       "      <td>90.246795</td>\n",
       "    </tr>\n",
       "    <tr>\n",
       "      <th>3</th>\n",
       "      <td>85.660494</td>\n",
       "    </tr>\n",
       "    <tr>\n",
       "      <th>5</th>\n",
       "      <td>83.847756</td>\n",
       "    </tr>\n",
       "    <tr>\n",
       "      <th>2</th>\n",
       "      <td>83.754808</td>\n",
       "    </tr>\n",
       "    <tr>\n",
       "      <th>6</th>\n",
       "      <td>78.991987</td>\n",
       "    </tr>\n",
       "    <tr>\n",
       "      <th>1</th>\n",
       "      <td>77.011218</td>\n",
       "    </tr>\n",
       "  </tbody>\n",
       "</table>\n",
       "</div>"
      ],
      "text/plain": [
       "           num_orders\n",
       "dayofweek            \n",
       "4           91.140432\n",
       "0           90.246795\n",
       "3           85.660494\n",
       "5           83.847756\n",
       "2           83.754808\n",
       "6           78.991987\n",
       "1           77.011218"
      ]
     },
     "execution_count": 24,
     "metadata": {},
     "output_type": "execute_result"
    }
   ],
   "source": [
    "by_dayofweek"
   ]
  },
  {
   "cell_type": "code",
   "execution_count": 25,
   "metadata": {},
   "outputs": [
    {
     "data": {
      "image/png": "[encoded data removed]",
      "text/plain": [
       "<Figure size 504x504 with 1 Axes>"
      ]
     },
     "metadata": {},
     "output_type": "display_data"
    }
   ],
   "source": [
    "sns.set(rc={'figure.figsize':(7, 7)})\n",
    "sns.barplot(y=by_dayofweek['num_orders'].index, x=by_dayofweek['num_orders'], orient='h')\n",
    "plt.title('Среднее количество заказов по дням недели');"
   ]
  },
  {
   "cell_type": "markdown",
   "metadata": {},
   "source": [
    "Количество заказов по дням недели не сильно различается."
   ]
  },
  {
   "cell_type": "markdown",
   "metadata": {},
   "source": [
    "Сделаем функцию для добавления признаков."
   ]
  },
  {
   "cell_type": "code",
   "execution_count": 26,
   "metadata": {
    "scrolled": true
   },
   "outputs": [],
   "source": [
    "def add_features(df: pd.DataFrame, lags=[], moving_averages=[]) -> pd.DataFrame:\n",
    "    data = df.copy()\n",
    "    for lag in lags:\n",
    "        data['lag' + str(lag)] = data['num_orders'].shift(lag)\n",
    "    \n",
    "    for ma in moving_averages:\n",
    "        data['moving_average_' + str(ma)] = data['num_orders'].shift().rolling(ma).mean()\n",
    "    \n",
    "    return data"
   ]
  },
  {
   "cell_type": "markdown",
   "metadata": {},
   "source": [
    "<div class=\"alert alert-block alert-success\">\n",
    "<b>Успех:</b> Хорошо, что эта функция не изменяет глобальную переменную!\n",
    "</div>"
   ]
  },
  {
   "cell_type": "code",
   "execution_count": 27,
   "metadata": {},
   "outputs": [],
   "source": [
    "data_1 = add_features(data, [1, 2, 3], [5, 10, 20])"
   ]
  },
  {
   "cell_type": "code",
   "execution_count": 28,
   "metadata": {},
   "outputs": [
    {
     "data": {
      "text/html": [
       "<div>\n",
       "<style scoped>\n",
       "    .dataframe tbody tr th:only-of-type {\n",
       "        vertical-align: middle;\n",
       "    }\n",
       "\n",
       "    .dataframe tbody tr th {\n",
       "        vertical-align: top;\n",
       "    }\n",
       "\n",
       "    .dataframe thead th {\n",
       "        text-align: right;\n",
       "    }\n",
       "</style>\n",
       "<table border=\"1\" class=\"dataframe\">\n",
       "  <thead>\n",
       "    <tr style=\"text-align: right;\">\n",
       "      <th></th>\n",
       "      <th>num_orders</th>\n",
       "      <th>month</th>\n",
       "      <th>dayofweek</th>\n",
       "      <th>hour</th>\n",
       "      <th>lag1</th>\n",
       "      <th>lag2</th>\n",
       "      <th>lag3</th>\n",
       "      <th>moving_average_5</th>\n",
       "      <th>moving_average_10</th>\n",
       "      <th>moving_average_20</th>\n",
       "    </tr>\n",
       "    <tr>\n",
       "      <th>datetime</th>\n",
       "      <th></th>\n",
       "      <th></th>\n",
       "      <th></th>\n",
       "      <th></th>\n",
       "      <th></th>\n",
       "      <th></th>\n",
       "      <th></th>\n",
       "      <th></th>\n",
       "      <th></th>\n",
       "      <th></th>\n",
       "    </tr>\n",
       "  </thead>\n",
       "  <tbody>\n",
       "    <tr>\n",
       "      <th>2018-03-01 00:00:00</th>\n",
       "      <td>124</td>\n",
       "      <td>3</td>\n",
       "      <td>3</td>\n",
       "      <td>0</td>\n",
       "      <td>NaN</td>\n",
       "      <td>NaN</td>\n",
       "      <td>NaN</td>\n",
       "      <td>NaN</td>\n",
       "      <td>NaN</td>\n",
       "      <td>NaN</td>\n",
       "    </tr>\n",
       "    <tr>\n",
       "      <th>2018-03-01 01:00:00</th>\n",
       "      <td>85</td>\n",
       "      <td>3</td>\n",
       "      <td>3</td>\n",
       "      <td>1</td>\n",
       "      <td>124.0</td>\n",
       "      <td>NaN</td>\n",
       "      <td>NaN</td>\n",
       "      <td>NaN</td>\n",
       "      <td>NaN</td>\n",
       "      <td>NaN</td>\n",
       "    </tr>\n",
       "    <tr>\n",
       "      <th>2018-03-01 02:00:00</th>\n",
       "      <td>71</td>\n",
       "      <td>3</td>\n",
       "      <td>3</td>\n",
       "      <td>2</td>\n",
       "      <td>85.0</td>\n",
       "      <td>124.0</td>\n",
       "      <td>NaN</td>\n",
       "      <td>NaN</td>\n",
       "      <td>NaN</td>\n",
       "      <td>NaN</td>\n",
       "    </tr>\n",
       "    <tr>\n",
       "      <th>2018-03-01 03:00:00</th>\n",
       "      <td>66</td>\n",
       "      <td>3</td>\n",
       "      <td>3</td>\n",
       "      <td>3</td>\n",
       "      <td>71.0</td>\n",
       "      <td>85.0</td>\n",
       "      <td>124.0</td>\n",
       "      <td>NaN</td>\n",
       "      <td>NaN</td>\n",
       "      <td>NaN</td>\n",
       "    </tr>\n",
       "    <tr>\n",
       "      <th>2018-03-01 04:00:00</th>\n",
       "      <td>43</td>\n",
       "      <td>3</td>\n",
       "      <td>3</td>\n",
       "      <td>4</td>\n",
       "      <td>66.0</td>\n",
       "      <td>71.0</td>\n",
       "      <td>85.0</td>\n",
       "      <td>NaN</td>\n",
       "      <td>NaN</td>\n",
       "      <td>NaN</td>\n",
       "    </tr>\n",
       "    <tr>\n",
       "      <th>...</th>\n",
       "      <td>...</td>\n",
       "      <td>...</td>\n",
       "      <td>...</td>\n",
       "      <td>...</td>\n",
       "      <td>...</td>\n",
       "      <td>...</td>\n",
       "      <td>...</td>\n",
       "      <td>...</td>\n",
       "      <td>...</td>\n",
       "      <td>...</td>\n",
       "    </tr>\n",
       "    <tr>\n",
       "      <th>2018-08-31 19:00:00</th>\n",
       "      <td>136</td>\n",
       "      <td>8</td>\n",
       "      <td>4</td>\n",
       "      <td>19</td>\n",
       "      <td>207.0</td>\n",
       "      <td>217.0</td>\n",
       "      <td>197.0</td>\n",
       "      <td>174.0</td>\n",
       "      <td>173.3</td>\n",
       "      <td>169.35</td>\n",
       "    </tr>\n",
       "    <tr>\n",
       "      <th>2018-08-31 20:00:00</th>\n",
       "      <td>154</td>\n",
       "      <td>8</td>\n",
       "      <td>4</td>\n",
       "      <td>20</td>\n",
       "      <td>136.0</td>\n",
       "      <td>207.0</td>\n",
       "      <td>217.0</td>\n",
       "      <td>174.6</td>\n",
       "      <td>166.6</td>\n",
       "      <td>163.85</td>\n",
       "    </tr>\n",
       "    <tr>\n",
       "      <th>2018-08-31 21:00:00</th>\n",
       "      <td>159</td>\n",
       "      <td>8</td>\n",
       "      <td>4</td>\n",
       "      <td>21</td>\n",
       "      <td>154.0</td>\n",
       "      <td>136.0</td>\n",
       "      <td>207.0</td>\n",
       "      <td>182.2</td>\n",
       "      <td>162.9</td>\n",
       "      <td>157.75</td>\n",
       "    </tr>\n",
       "    <tr>\n",
       "      <th>2018-08-31 22:00:00</th>\n",
       "      <td>223</td>\n",
       "      <td>8</td>\n",
       "      <td>4</td>\n",
       "      <td>22</td>\n",
       "      <td>159.0</td>\n",
       "      <td>154.0</td>\n",
       "      <td>136.0</td>\n",
       "      <td>174.6</td>\n",
       "      <td>162.1</td>\n",
       "      <td>156.00</td>\n",
       "    </tr>\n",
       "    <tr>\n",
       "      <th>2018-08-31 23:00:00</th>\n",
       "      <td>205</td>\n",
       "      <td>8</td>\n",
       "      <td>4</td>\n",
       "      <td>23</td>\n",
       "      <td>223.0</td>\n",
       "      <td>159.0</td>\n",
       "      <td>154.0</td>\n",
       "      <td>175.8</td>\n",
       "      <td>170.8</td>\n",
       "      <td>155.65</td>\n",
       "    </tr>\n",
       "  </tbody>\n",
       "</table>\n",
       "<p>4416 rows × 10 columns</p>\n",
       "</div>"
      ],
      "text/plain": [
       "                     num_orders  month  dayofweek  hour   lag1   lag2   lag3  \\\n",
       "datetime                                                                       \n",
       "2018-03-01 00:00:00         124      3          3     0    NaN    NaN    NaN   \n",
       "2018-03-01 01:00:00          85      3          3     1  124.0    NaN    NaN   \n",
       "2018-03-01 02:00:00          71      3          3     2   85.0  124.0    NaN   \n",
       "2018-03-01 03:00:00          66      3          3     3   71.0   85.0  124.0   \n",
       "2018-03-01 04:00:00          43      3          3     4   66.0   71.0   85.0   \n",
       "...                         ...    ...        ...   ...    ...    ...    ...   \n",
       "2018-08-31 19:00:00         136      8          4    19  207.0  217.0  197.0   \n",
       "2018-08-31 20:00:00         154      8          4    20  136.0  207.0  217.0   \n",
       "2018-08-31 21:00:00         159      8          4    21  154.0  136.0  207.0   \n",
       "2018-08-31 22:00:00         223      8          4    22  159.0  154.0  136.0   \n",
       "2018-08-31 23:00:00         205      8          4    23  223.0  159.0  154.0   \n",
       "\n",
       "                     moving_average_5  moving_average_10  moving_average_20  \n",
       "datetime                                                                     \n",
       "2018-03-01 00:00:00               NaN                NaN                NaN  \n",
       "2018-03-01 01:00:00               NaN                NaN                NaN  \n",
       "2018-03-01 02:00:00               NaN                NaN                NaN  \n",
       "2018-03-01 03:00:00               NaN                NaN                NaN  \n",
       "2018-03-01 04:00:00               NaN                NaN                NaN  \n",
       "...                               ...                ...                ...  \n",
       "2018-08-31 19:00:00             174.0              173.3             169.35  \n",
       "2018-08-31 20:00:00             174.6              166.6             163.85  \n",
       "2018-08-31 21:00:00             182.2              162.9             157.75  \n",
       "2018-08-31 22:00:00             174.6              162.1             156.00  \n",
       "2018-08-31 23:00:00             175.8              170.8             155.65  \n",
       "\n",
       "[4416 rows x 10 columns]"
      ]
     },
     "execution_count": 28,
     "metadata": {},
     "output_type": "execute_result"
    }
   ],
   "source": [
    "data_1"
   ]
  },
  {
   "cell_type": "code",
   "execution_count": 29,
   "metadata": {},
   "outputs": [],
   "source": [
    "data_1.dropna(inplace=True)"
   ]
  },
  {
   "cell_type": "code",
   "execution_count": 30,
   "metadata": {},
   "outputs": [
    {
     "data": {
      "text/html": [
       "<div>\n",
       "<style scoped>\n",
       "    .dataframe tbody tr th:only-of-type {\n",
       "        vertical-align: middle;\n",
       "    }\n",
       "\n",
       "    .dataframe tbody tr th {\n",
       "        vertical-align: top;\n",
       "    }\n",
       "\n",
       "    .dataframe thead th {\n",
       "        text-align: right;\n",
       "    }\n",
       "</style>\n",
       "<table border=\"1\" class=\"dataframe\">\n",
       "  <thead>\n",
       "    <tr style=\"text-align: right;\">\n",
       "      <th></th>\n",
       "      <th>num_orders</th>\n",
       "      <th>month</th>\n",
       "      <th>dayofweek</th>\n",
       "      <th>hour</th>\n",
       "      <th>lag1</th>\n",
       "      <th>lag2</th>\n",
       "      <th>lag3</th>\n",
       "      <th>moving_average_5</th>\n",
       "      <th>moving_average_10</th>\n",
       "      <th>moving_average_20</th>\n",
       "    </tr>\n",
       "    <tr>\n",
       "      <th>datetime</th>\n",
       "      <th></th>\n",
       "      <th></th>\n",
       "      <th></th>\n",
       "      <th></th>\n",
       "      <th></th>\n",
       "      <th></th>\n",
       "      <th></th>\n",
       "      <th></th>\n",
       "      <th></th>\n",
       "      <th></th>\n",
       "    </tr>\n",
       "  </thead>\n",
       "  <tbody>\n",
       "    <tr>\n",
       "      <th>2018-03-01 20:00:00</th>\n",
       "      <td>61</td>\n",
       "      <td>3</td>\n",
       "      <td>3</td>\n",
       "      <td>20</td>\n",
       "      <td>45.0</td>\n",
       "      <td>73.0</td>\n",
       "      <td>44.0</td>\n",
       "      <td>54.2</td>\n",
       "      <td>54.1</td>\n",
       "      <td>53.30</td>\n",
       "    </tr>\n",
       "    <tr>\n",
       "      <th>2018-03-01 21:00:00</th>\n",
       "      <td>66</td>\n",
       "      <td>3</td>\n",
       "      <td>3</td>\n",
       "      <td>21</td>\n",
       "      <td>61.0</td>\n",
       "      <td>45.0</td>\n",
       "      <td>73.0</td>\n",
       "      <td>53.2</td>\n",
       "      <td>53.8</td>\n",
       "      <td>50.15</td>\n",
       "    </tr>\n",
       "    <tr>\n",
       "      <th>2018-03-01 22:00:00</th>\n",
       "      <td>113</td>\n",
       "      <td>3</td>\n",
       "      <td>3</td>\n",
       "      <td>22</td>\n",
       "      <td>66.0</td>\n",
       "      <td>61.0</td>\n",
       "      <td>45.0</td>\n",
       "      <td>57.8</td>\n",
       "      <td>50.8</td>\n",
       "      <td>49.20</td>\n",
       "    </tr>\n",
       "    <tr>\n",
       "      <th>2018-03-01 23:00:00</th>\n",
       "      <td>58</td>\n",
       "      <td>3</td>\n",
       "      <td>3</td>\n",
       "      <td>23</td>\n",
       "      <td>113.0</td>\n",
       "      <td>66.0</td>\n",
       "      <td>61.0</td>\n",
       "      <td>71.6</td>\n",
       "      <td>59.1</td>\n",
       "      <td>51.30</td>\n",
       "    </tr>\n",
       "    <tr>\n",
       "      <th>2018-03-02 00:00:00</th>\n",
       "      <td>90</td>\n",
       "      <td>3</td>\n",
       "      <td>4</td>\n",
       "      <td>0</td>\n",
       "      <td>58.0</td>\n",
       "      <td>113.0</td>\n",
       "      <td>66.0</td>\n",
       "      <td>68.6</td>\n",
       "      <td>61.7</td>\n",
       "      <td>50.90</td>\n",
       "    </tr>\n",
       "  </tbody>\n",
       "</table>\n",
       "</div>"
      ],
      "text/plain": [
       "                     num_orders  month  dayofweek  hour   lag1   lag2  lag3  \\\n",
       "datetime                                                                      \n",
       "2018-03-01 20:00:00          61      3          3    20   45.0   73.0  44.0   \n",
       "2018-03-01 21:00:00          66      3          3    21   61.0   45.0  73.0   \n",
       "2018-03-01 22:00:00         113      3          3    22   66.0   61.0  45.0   \n",
       "2018-03-01 23:00:00          58      3          3    23  113.0   66.0  61.0   \n",
       "2018-03-02 00:00:00          90      3          4     0   58.0  113.0  66.0   \n",
       "\n",
       "                     moving_average_5  moving_average_10  moving_average_20  \n",
       "datetime                                                                     \n",
       "2018-03-01 20:00:00              54.2               54.1              53.30  \n",
       "2018-03-01 21:00:00              53.2               53.8              50.15  \n",
       "2018-03-01 22:00:00              57.8               50.8              49.20  \n",
       "2018-03-01 23:00:00              71.6               59.1              51.30  \n",
       "2018-03-02 00:00:00              68.6               61.7              50.90  "
      ]
     },
     "execution_count": 30,
     "metadata": {},
     "output_type": "execute_result"
    }
   ],
   "source": [
    "data_1.head()"
   ]
  },
  {
   "cell_type": "markdown",
   "metadata": {},
   "source": [
    "## Обучение"
   ]
  },
  {
   "cell_type": "markdown",
   "metadata": {},
   "source": [
    "### Подготовка данных"
   ]
  },
  {
   "cell_type": "markdown",
   "metadata": {},
   "source": [
    "Делаем сплит для кросс-валидации."
   ]
  },
  {
   "cell_type": "code",
   "execution_count": 31,
   "metadata": {},
   "outputs": [],
   "source": [
    "tscv = TimeSeriesSplit(n_splits=5)"
   ]
  },
  {
   "cell_type": "markdown",
   "metadata": {},
   "source": [
    "Сделаем scorer для GridSearch."
   ]
  },
  {
   "cell_type": "code",
   "execution_count": 32,
   "metadata": {},
   "outputs": [],
   "source": [
    "def rmse(y_true, y_pred):\n",
    "    return mean_squared_error(y_true, y_pred, squared=False)"
   ]
  },
  {
   "cell_type": "code",
   "execution_count": 33,
   "metadata": {},
   "outputs": [],
   "source": [
    "score_func = make_scorer(rmse, greater_is_better=False)"
   ]
  },
  {
   "cell_type": "markdown",
   "metadata": {},
   "source": [
    "<div class=\"alert alert-block alert-success\">\n",
    "<b>Успех:</b> Скорер определен корректно.\n",
    "</div>"
   ]
  },
  {
   "cell_type": "markdown",
   "metadata": {},
   "source": [
    "Сделаем обучающую и тестовую выборку."
   ]
  },
  {
   "cell_type": "code",
   "execution_count": 34,
   "metadata": {},
   "outputs": [],
   "source": [
    "features = data_1.drop('num_orders', axis=1)\n",
    "target = data_1['num_orders']"
   ]
  },
  {
   "cell_type": "code",
   "execution_count": 35,
   "metadata": {},
   "outputs": [],
   "source": [
    "X_train, X_test, y_train, y_test = train_test_split(features, target, test_size=0.1, shuffle=False)"
   ]
  },
  {
   "cell_type": "code",
   "execution_count": 36,
   "metadata": {},
   "outputs": [
    {
     "data": {
      "text/plain": [
       "((3956, 9), (440, 9))"
      ]
     },
     "execution_count": 36,
     "metadata": {},
     "output_type": "execute_result"
    }
   ],
   "source": [
    "X_train.shape, X_test.shape, "
   ]
  },
  {
   "cell_type": "markdown",
   "metadata": {},
   "source": [
    "<div class=\"alert alert-block alert-success\">\n",
    "<b>Успех:</b> Разбиение было сделано верно.\n",
    "</div>"
   ]
  },
  {
   "cell_type": "markdown",
   "metadata": {},
   "source": [
    "### Линейная регрессия"
   ]
  },
  {
   "cell_type": "code",
   "execution_count": 37,
   "metadata": {},
   "outputs": [],
   "source": [
    "lin = LinearRegression()"
   ]
  },
  {
   "cell_type": "code",
   "execution_count": 38,
   "metadata": {},
   "outputs": [],
   "source": [
    "scaler = StandardScaler()"
   ]
  },
  {
   "cell_type": "code",
   "execution_count": 39,
   "metadata": {},
   "outputs": [],
   "source": [
    "X_train_scaled = scaler.fit_transform(X_train)"
   ]
  },
  {
   "cell_type": "markdown",
   "metadata": {},
   "source": [
    "<div class=\"alert alert-block alert-success\">\n",
    "<b>Успех:</b> Отлично, что scaler был обучен только на треине!\n",
    "</div>"
   ]
  },
  {
   "cell_type": "code",
   "execution_count": 40,
   "metadata": {},
   "outputs": [],
   "source": [
    "lin_grid = GridSearchCV(lin, {}, cv=tscv, scoring=score_func, n_jobs=-1)"
   ]
  },
  {
   "cell_type": "code",
   "execution_count": 41,
   "metadata": {},
   "outputs": [
    {
     "name": "stdout",
     "output_type": "stream",
     "text": [
      "CPU times: user 28.8 ms, sys: 12.5 ms, total: 41.3 ms\n",
      "Wall time: 37 ms\n"
     ]
    },
    {
     "data": {
      "text/plain": [
       "GridSearchCV(cv=TimeSeriesSplit(gap=0, max_train_size=None, n_splits=5, test_size=None),\n",
       "             estimator=LinearRegression(), n_jobs=-1, param_grid={},\n",
       "             scoring=make_scorer(rmse, greater_is_better=False))"
      ]
     },
     "execution_count": 41,
     "metadata": {},
     "output_type": "execute_result"
    }
   ],
   "source": [
    "%%time\n",
    "lin_grid.fit(X_train_scaled, y_train)"
   ]
  },
  {
   "cell_type": "code",
   "execution_count": 42,
   "metadata": {
    "scrolled": true
   },
   "outputs": [
    {
     "data": {
      "text/plain": [
       "{'mean_fit_time': array([0.00520229]),\n",
       " 'std_fit_time': array([0.004782]),\n",
       " 'mean_score_time': array([0.00061965]),\n",
       " 'std_score_time': array([0.00010502]),\n",
       " 'params': [{}],\n",
       " 'split0_test_score': array([-26.85439708]),\n",
       " 'split1_test_score': array([-29.40299421]),\n",
       " 'split2_test_score': array([-30.64655052]),\n",
       " 'split3_test_score': array([-31.80867193]),\n",
       " 'split4_test_score': array([-39.96899266]),\n",
       " 'mean_test_score': array([-31.73632128]),\n",
       " 'std_test_score': array([4.43277141]),\n",
       " 'rank_test_score': array([1], dtype=int32)}"
      ]
     },
     "execution_count": 42,
     "metadata": {},
     "output_type": "execute_result"
    }
   ],
   "source": [
    "lin_grid.cv_results_"
   ]
  },
  {
   "cell_type": "code",
   "execution_count": 43,
   "metadata": {},
   "outputs": [
    {
     "data": {
      "text/plain": [
       "-31.73632127871024"
      ]
     },
     "execution_count": 43,
     "metadata": {},
     "output_type": "execute_result"
    }
   ],
   "source": [
    "lin_grid.best_score_"
   ]
  },
  {
   "cell_type": "code",
   "execution_count": 44,
   "metadata": {},
   "outputs": [
    {
     "name": "stdout",
     "output_type": "stream",
     "text": [
      "Значение RMSE для линейной регрессии на кросс-валидации: 31.74\n"
     ]
    }
   ],
   "source": [
    "print(f'Значение RMSE для линейной регрессии на кросс-валидации: {abs(lin_grid.best_score_):.2f}')"
   ]
  },
  {
   "cell_type": "markdown",
   "metadata": {},
   "source": [
    "<div class=\"alert alert-block alert-success\">\n",
    "<b>Успех:</b> Отлично, что для подбора параметров использовался метод основанный на кросс-валидации с подходящим под данные сплиттером.\n",
    "</div>"
   ]
  },
  {
   "cell_type": "markdown",
   "metadata": {},
   "source": [
    "### Случайный лес"
   ]
  },
  {
   "cell_type": "code",
   "execution_count": 45,
   "metadata": {},
   "outputs": [],
   "source": [
    "rf = RandomForestRegressor(random_state=321)"
   ]
  },
  {
   "cell_type": "code",
   "execution_count": 46,
   "metadata": {},
   "outputs": [],
   "source": [
    "rf_params = {'max_depth': range(6, 30, 3), 'n_estimators': [100, 200, 300]}"
   ]
  },
  {
   "cell_type": "code",
   "execution_count": 47,
   "metadata": {},
   "outputs": [],
   "source": [
    "rf_grid = GridSearchCV(rf, rf_params, cv=tscv, scoring=score_func)"
   ]
  },
  {
   "cell_type": "code",
   "execution_count": 48,
   "metadata": {},
   "outputs": [
    {
     "name": "stdout",
     "output_type": "stream",
     "text": [
      "CPU times: user 3min 55s, sys: 1.36 s, total: 3min 56s\n",
      "Wall time: 4min 8s\n"
     ]
    },
    {
     "data": {
      "text/plain": [
       "GridSearchCV(cv=TimeSeriesSplit(gap=0, max_train_size=None, n_splits=5, test_size=None),\n",
       "             estimator=RandomForestRegressor(random_state=321),\n",
       "             param_grid={'max_depth': range(6, 30, 3),\n",
       "                         'n_estimators': [100, 200, 300]},\n",
       "             scoring=make_scorer(rmse, greater_is_better=False))"
      ]
     },
     "execution_count": 48,
     "metadata": {},
     "output_type": "execute_result"
    }
   ],
   "source": [
    "%%time\n",
    "rf_grid.fit(X_train, y_train)"
   ]
  },
  {
   "cell_type": "code",
   "execution_count": 49,
   "metadata": {},
   "outputs": [
    {
     "data": {
      "text/plain": [
       "RandomForestRegressor(max_depth=24, n_estimators=300, random_state=321)"
      ]
     },
     "execution_count": 49,
     "metadata": {},
     "output_type": "execute_result"
    }
   ],
   "source": [
    "rf_grid.best_estimator_"
   ]
  },
  {
   "cell_type": "code",
   "execution_count": 50,
   "metadata": {
    "scrolled": true
   },
   "outputs": [
    {
     "data": {
      "text/plain": [
       "-24.865708801224397"
      ]
     },
     "execution_count": 50,
     "metadata": {},
     "output_type": "execute_result"
    }
   ],
   "source": [
    "rf_grid.best_score_"
   ]
  },
  {
   "cell_type": "code",
   "execution_count": 51,
   "metadata": {},
   "outputs": [
    {
     "name": "stdout",
     "output_type": "stream",
     "text": [
      "Значение RMSE для случайного леса на кросс-валидации: 24.87\n"
     ]
    }
   ],
   "source": [
    "print(f'Значение RMSE для случайного леса на кросс-валидации: {abs(rf_grid.best_score_):.2f}')"
   ]
  },
  {
   "cell_type": "markdown",
   "metadata": {},
   "source": [
    "### LightGBM"
   ]
  },
  {
   "cell_type": "code",
   "execution_count": 59,
   "metadata": {},
   "outputs": [],
   "source": [
    "lgbm = LGBMRegressor(random_state=123, n_jobs=1)"
   ]
  },
  {
   "cell_type": "code",
   "execution_count": 60,
   "metadata": {},
   "outputs": [],
   "source": [
    "lgbm_params = {'learning_rate': np.arange(0.1, 0.5, 0.05),\n",
    "               'max_depth': range(6, 15, 2)}"
   ]
  },
  {
   "cell_type": "code",
   "execution_count": 61,
   "metadata": {},
   "outputs": [],
   "source": [
    "lgbm_grid = GridSearchCV(lgbm, lgbm_params, cv=tscv, scoring=score_func, n_jobs=1)"
   ]
  },
  {
   "cell_type": "code",
   "execution_count": 62,
   "metadata": {},
   "outputs": [
    {
     "name": "stdout",
     "output_type": "stream",
     "text": [
      "CPU times: user 19.7 s, sys: 614 ms, total: 20.4 s\n",
      "Wall time: 20.6 s\n"
     ]
    },
    {
     "data": {
      "text/plain": [
       "GridSearchCV(cv=TimeSeriesSplit(gap=0, max_train_size=None, n_splits=5, test_size=None),\n",
       "             estimator=LGBMRegressor(n_jobs=1, random_state=123), n_jobs=1,\n",
       "             param_grid={'learning_rate': array([0.1 , 0.15, 0.2 , 0.25, 0.3 , 0.35, 0.4 , 0.45]),\n",
       "                         'max_depth': range(6, 15, 2)},\n",
       "             scoring=make_scorer(rmse, greater_is_better=False))"
      ]
     },
     "execution_count": 62,
     "metadata": {},
     "output_type": "execute_result"
    }
   ],
   "source": [
    "%%time\n",
    "lgbm_grid.fit(X_train, y_train)"
   ]
  },
  {
   "cell_type": "code",
   "execution_count": 63,
   "metadata": {
    "scrolled": true
   },
   "outputs": [
    {
     "data": {
      "text/plain": [
       "-24.886308033284045"
      ]
     },
     "execution_count": 63,
     "metadata": {},
     "output_type": "execute_result"
    }
   ],
   "source": [
    "lgbm_grid.best_score_"
   ]
  },
  {
   "cell_type": "code",
   "execution_count": 64,
   "metadata": {},
   "outputs": [
    {
     "data": {
      "text/plain": [
       "{'learning_rate': 0.1, 'max_depth': 8}"
      ]
     },
     "execution_count": 64,
     "metadata": {},
     "output_type": "execute_result"
    }
   ],
   "source": [
    "lgbm_grid.best_params_"
   ]
  },
  {
   "cell_type": "code",
   "execution_count": 65,
   "metadata": {},
   "outputs": [],
   "source": [
    "lgbm_params_1 = {'learning_rate': [0.01, 0.05, 0.1],\n",
    "               'max_depth': [7, 8, 9],\n",
    "                'n_estimators': [100, 200, 300]}"
   ]
  },
  {
   "cell_type": "code",
   "execution_count": 66,
   "metadata": {},
   "outputs": [],
   "source": [
    "lgbm_grid_1 = GridSearchCV(lgbm, lgbm_params_1, cv=tscv, scoring=score_func)"
   ]
  },
  {
   "cell_type": "code",
   "execution_count": 67,
   "metadata": {},
   "outputs": [
    {
     "name": "stdout",
     "output_type": "stream",
     "text": [
      "CPU times: user 20.5 s, sys: 765 ms, total: 21.3 s\n",
      "Wall time: 21.5 s\n"
     ]
    },
    {
     "data": {
      "text/plain": [
       "GridSearchCV(cv=TimeSeriesSplit(gap=0, max_train_size=None, n_splits=5, test_size=None),\n",
       "             estimator=LGBMRegressor(n_jobs=1, random_state=123),\n",
       "             param_grid={'learning_rate': [0.01, 0.05, 0.1],\n",
       "                         'max_depth': [7, 8, 9],\n",
       "                         'n_estimators': [100, 200, 300]},\n",
       "             scoring=make_scorer(rmse, greater_is_better=False))"
      ]
     },
     "execution_count": 67,
     "metadata": {},
     "output_type": "execute_result"
    }
   ],
   "source": [
    "%%time\n",
    "lgbm_grid_1.fit(X_train, y_train)"
   ]
  },
  {
   "cell_type": "code",
   "execution_count": 68,
   "metadata": {},
   "outputs": [
    {
     "data": {
      "text/plain": [
       "-24.85868826304158"
      ]
     },
     "execution_count": 68,
     "metadata": {},
     "output_type": "execute_result"
    }
   ],
   "source": [
    "lgbm_grid_1.best_score_"
   ]
  },
  {
   "cell_type": "code",
   "execution_count": 69,
   "metadata": {},
   "outputs": [
    {
     "data": {
      "text/plain": [
       "LGBMRegressor(max_depth=7, n_jobs=1, random_state=123)"
      ]
     },
     "execution_count": 69,
     "metadata": {},
     "output_type": "execute_result"
    }
   ],
   "source": [
    "lgbm_grid_1.best_estimator_"
   ]
  },
  {
   "cell_type": "code",
   "execution_count": 70,
   "metadata": {},
   "outputs": [
    {
     "name": "stdout",
     "output_type": "stream",
     "text": [
      "Значение RMSE для LGBM бустинга на кросс-валидации: 24.86\n"
     ]
    }
   ],
   "source": [
    "print(f'Значение RMSE для LGBM бустинга на кросс-валидации: {abs(lgbm_grid_1.best_score_):.2f}')"
   ]
  },
  {
   "cell_type": "markdown",
   "metadata": {},
   "source": [
    "<div class=\"alert alert-block alert-success\">\n",
    "<b>Успех:</b> Молодец, что попробовала разные модели в этом шаге!\n",
    "</div>"
   ]
  },
  {
   "cell_type": "markdown",
   "metadata": {},
   "source": [
    "## Тестирование"
   ]
  },
  {
   "cell_type": "markdown",
   "metadata": {},
   "source": [
    "По результатам на кросс-валидации получили, что случайный лес и LightGBM имеют примерно одинаковые значении метрики RMSE, но бустинг обучается быстрее. В качестве итоговой модели выберем градиентный бустинг."
   ]
  },
  {
   "cell_type": "code",
   "execution_count": 71,
   "metadata": {},
   "outputs": [
    {
     "name": "stdout",
     "output_type": "stream",
     "text": [
      "Значение RMSE выбранной модели тестовой выборке: 44.89\n"
     ]
    }
   ],
   "source": [
    "print(f'Значение RMSE выбранной модели тестовой выборке: {rmse(y_test, lgbm_grid_1.predict(X_test)):.2f}')"
   ]
  },
  {
   "cell_type": "markdown",
   "metadata": {},
   "source": [
    "<div class=\"alert alert-block alert-success\">\n",
    "<b>Успех:</b> Тестирование было сделано корректно.\n",
    "</div>"
   ]
  },
  {
   "cell_type": "markdown",
   "metadata": {},
   "source": [
    "<div class=\"alert alert-block alert-info\">\n",
    "<b>Совет: </b> Финальные предсказания можно было визуализирвоать: графики исходного и предсказанных рядов.\n",
    "</div>"
   ]
  },
  {
   "cell_type": "code",
   "execution_count": 92,
   "metadata": {},
   "outputs": [],
   "source": [
    "res = data.loc[y_test.index]"
   ]
  },
  {
   "cell_type": "code",
   "execution_count": 93,
   "metadata": {},
   "outputs": [],
   "source": [
    "predictions = lgbm_grid_1.predict(X_test)\n",
    "res['pred'] = predictions"
   ]
  },
  {
   "cell_type": "code",
   "execution_count": 95,
   "metadata": {},
   "outputs": [],
   "source": [
    "res.drop(['month', 'dayofweek', 'hour'], axis=1, inplace=True)"
   ]
  },
  {
   "cell_type": "code",
   "execution_count": 97,
   "metadata": {},
   "outputs": [
    {
     "data": {
      "text/plain": [
       "<AxesSubplot:xlabel='datetime'>"
      ]
     },
     "execution_count": 97,
     "metadata": {},
     "output_type": "execute_result"
    },
    {
     "data": {
      "image/png": "[encoded data removed]",
      "text/plain": [
       "<Figure size 1080x432 with 1 Axes>"
      ]
     },
     "metadata": {},
     "output_type": "display_data"
    }
   ],
   "source": [
    "res.plot(figsize=(15, 6))"
   ]
  },
  {
   "cell_type": "markdown",
   "metadata": {},
   "source": [
    "Сравним показатели выбранной модели с константной."
   ]
  },
  {
   "cell_type": "code",
   "execution_count": 72,
   "metadata": {},
   "outputs": [],
   "source": [
    "dummy = DummyRegressor()"
   ]
  },
  {
   "cell_type": "code",
   "execution_count": 73,
   "metadata": {},
   "outputs": [
    {
     "data": {
      "text/plain": [
       "DummyRegressor()"
      ]
     },
     "execution_count": 73,
     "metadata": {},
     "output_type": "execute_result"
    }
   ],
   "source": [
    "dummy.fit(X_train, y_train)"
   ]
  },
  {
   "cell_type": "code",
   "execution_count": 74,
   "metadata": {},
   "outputs": [
    {
     "name": "stdout",
     "output_type": "stream",
     "text": [
      "Значение RMSE константной модели тестовой выборке: 84.69\n"
     ]
    }
   ],
   "source": [
    "print(f'Значение RMSE константной модели тестовой выборке: {rmse(y_test, dummy.predict(X_test)):.2f}')"
   ]
  },
  {
   "cell_type": "markdown",
   "metadata": {},
   "source": [
    "Выбранная модель лучше константной."
   ]
  },
  {
   "cell_type": "markdown",
   "metadata": {},
   "source": [
    "Была поставлена задача: сделать модель для предсказания количества заказов такси в аэропорт. Был произведён анализ имеющихся данных, добавлены новые признаки для улучшения качества модели, были рассмотрены различные модели машинного обучения. \n",
    "\n",
    "Результат выбранной модели на тестовой выборке: RMSE = 44.89."
   ]
  },
  {
   "cell_type": "markdown",
   "metadata": {},
   "source": [
    "<div class=\"alert alert-block alert-success\">\n",
    "<b>Успех:</b> Хорошо, что ты не забыл про дамми проверку и вывод!\n",
    "</div>"
   ]
  },
  {
   "cell_type": "markdown",
   "metadata": {},
   "source": [
    "## Чек-лист проверки"
   ]
  },
  {
   "cell_type": "markdown",
   "metadata": {},
   "source": [
    "- [x]  Jupyter Notebook открыт\n",
    "- [ ]  Весь код выполняется без ошибок\n",
    "- [ ]  Ячейки с кодом расположены в порядке исполнения\n",
    "- [ ]  Данные загружены и подготовлены\n",
    "- [ ]  Данные проанализированы\n",
    "- [ ]  Модель обучена, гиперпараметры подобраны\n",
    "- [ ]  Качество моделей проверено, выводы сделаны\n",
    "- [ ]  Значение *RMSE* на тестовой выборке не больше 48"
   ]
  }
 ],
 "metadata": {
  "ExecuteTimeLog": [
   {
    "duration": 1325,
    "start_time": "2023-02-28T11:39:13.469Z"
   },
   {
    "duration": 118,
    "start_time": "2023-02-28T11:43:08.953Z"
   },
   {
    "duration": 11,
    "start_time": "2023-02-28T11:43:12.454Z"
   },
   {
    "duration": 11,
    "start_time": "2023-02-28T11:43:20.834Z"
   },
   {
    "duration": 110,
    "start_time": "2023-02-28T11:44:22.734Z"
   },
   {
    "duration": 59,
    "start_time": "2023-02-28T11:45:25.249Z"
   },
   {
    "duration": 7,
    "start_time": "2023-02-28T11:45:28.038Z"
   },
   {
    "duration": 11,
    "start_time": "2023-02-28T11:45:36.565Z"
   },
   {
    "duration": 44,
    "start_time": "2023-02-28T11:51:57.916Z"
   },
   {
    "duration": 7,
    "start_time": "2023-02-28T11:51:59.073Z"
   },
   {
    "duration": 4,
    "start_time": "2023-02-28T11:52:09.647Z"
   },
   {
    "duration": 19,
    "start_time": "2023-02-28T11:52:32.921Z"
   },
   {
    "duration": 11,
    "start_time": "2023-02-28T11:52:57.424Z"
   },
   {
    "duration": 174,
    "start_time": "2023-02-28T12:33:43.066Z"
   },
   {
    "duration": 3,
    "start_time": "2023-02-28T12:34:48.194Z"
   },
   {
    "duration": 13,
    "start_time": "2023-02-28T12:41:01.080Z"
   },
   {
    "duration": 30,
    "start_time": "2023-02-28T12:41:09.288Z"
   },
   {
    "duration": 4,
    "start_time": "2023-02-28T12:41:18.723Z"
   },
   {
    "duration": 46,
    "start_time": "2023-02-28T12:41:56.968Z"
   },
   {
    "duration": 7,
    "start_time": "2023-02-28T12:41:57.110Z"
   },
   {
    "duration": 10,
    "start_time": "2023-02-28T12:41:57.337Z"
   },
   {
    "duration": 3,
    "start_time": "2023-02-28T12:41:57.567Z"
   },
   {
    "duration": 9,
    "start_time": "2023-02-28T12:42:03.576Z"
   },
   {
    "duration": 9,
    "start_time": "2023-02-28T12:42:04.768Z"
   },
   {
    "duration": 44,
    "start_time": "2023-02-28T12:42:18.045Z"
   },
   {
    "duration": 7,
    "start_time": "2023-02-28T12:42:18.219Z"
   },
   {
    "duration": 16,
    "start_time": "2023-02-28T12:42:20.515Z"
   },
   {
    "duration": 4,
    "start_time": "2023-02-28T12:42:21.591Z"
   },
   {
    "duration": 8,
    "start_time": "2023-02-28T12:42:56.901Z"
   },
   {
    "duration": 11,
    "start_time": "2023-02-28T12:42:57.681Z"
   },
   {
    "duration": 6,
    "start_time": "2023-02-28T12:43:02.468Z"
   },
   {
    "duration": 8,
    "start_time": "2023-02-28T14:56:00.113Z"
   },
   {
    "duration": 11,
    "start_time": "2023-02-28T14:56:07.223Z"
   },
   {
    "duration": 5,
    "start_time": "2023-02-28T15:19:50.748Z"
   },
   {
    "duration": 8,
    "start_time": "2023-02-28T15:22:52.167Z"
   },
   {
    "duration": 4,
    "start_time": "2023-02-28T15:22:56.064Z"
   },
   {
    "duration": 45,
    "start_time": "2023-02-28T15:23:00.467Z"
   },
   {
    "duration": 9,
    "start_time": "2023-02-28T15:23:00.988Z"
   },
   {
    "duration": 10,
    "start_time": "2023-02-28T15:23:02.327Z"
   },
   {
    "duration": 3,
    "start_time": "2023-02-28T15:23:04.497Z"
   },
   {
    "duration": 5,
    "start_time": "2023-02-28T15:23:11.864Z"
   },
   {
    "duration": 6,
    "start_time": "2023-02-28T15:23:21.480Z"
   },
   {
    "duration": 7,
    "start_time": "2023-02-28T15:23:21.834Z"
   },
   {
    "duration": 9,
    "start_time": "2023-02-28T15:23:31.972Z"
   },
   {
    "duration": 8,
    "start_time": "2023-02-28T15:23:32.826Z"
   },
   {
    "duration": 15,
    "start_time": "2023-02-28T17:09:08.965Z"
   },
   {
    "duration": 18,
    "start_time": "2023-02-28T17:09:40.759Z"
   },
   {
    "duration": 18,
    "start_time": "2023-02-28T17:09:57.931Z"
   },
   {
    "duration": 11,
    "start_time": "2023-02-28T17:10:30.057Z"
   },
   {
    "duration": 135,
    "start_time": "2023-02-28T17:11:01.936Z"
   },
   {
    "duration": 589,
    "start_time": "2023-02-28T17:29:10.930Z"
   },
   {
    "duration": 306,
    "start_time": "2023-02-28T17:29:21.884Z"
   },
   {
    "duration": 24,
    "start_time": "2023-02-28T17:32:26.987Z"
   },
   {
    "duration": 30,
    "start_time": "2023-02-28T17:35:49.618Z"
   },
   {
    "duration": 21,
    "start_time": "2023-02-28T17:36:10.249Z"
   },
   {
    "duration": 29,
    "start_time": "2023-02-28T17:36:39.783Z"
   },
   {
    "duration": 19,
    "start_time": "2023-02-28T17:36:44.280Z"
   },
   {
    "duration": 30,
    "start_time": "2023-02-28T17:36:59.482Z"
   },
   {
    "duration": 13,
    "start_time": "2023-02-28T17:37:49.318Z"
   },
   {
    "duration": 112,
    "start_time": "2023-02-28T17:38:28.123Z"
   },
   {
    "duration": 316,
    "start_time": "2023-02-28T17:39:08.021Z"
   },
   {
    "duration": 310,
    "start_time": "2023-02-28T17:40:11.275Z"
   },
   {
    "duration": 2,
    "start_time": "2023-02-28T17:41:23.684Z"
   },
   {
    "duration": 306,
    "start_time": "2023-02-28T17:41:49.433Z"
   },
   {
    "duration": 323,
    "start_time": "2023-02-28T17:41:55.682Z"
   },
   {
    "duration": 307,
    "start_time": "2023-02-28T17:42:38.166Z"
   },
   {
    "duration": 330,
    "start_time": "2023-02-28T17:42:42.341Z"
   },
   {
    "duration": 722,
    "start_time": "2023-02-28T17:43:04.815Z"
   },
   {
    "duration": 361,
    "start_time": "2023-02-28T17:43:14.386Z"
   },
   {
    "duration": 13,
    "start_time": "2023-02-28T17:43:32.005Z"
   },
   {
    "duration": 332,
    "start_time": "2023-02-28T17:43:52.310Z"
   },
   {
    "duration": 10,
    "start_time": "2023-02-28T17:45:23.232Z"
   },
   {
    "duration": 17,
    "start_time": "2023-02-28T18:28:56.692Z"
   },
   {
    "duration": 10,
    "start_time": "2023-02-28T18:29:08.431Z"
   },
   {
    "duration": 11,
    "start_time": "2023-02-28T18:29:25.615Z"
   },
   {
    "duration": 7,
    "start_time": "2023-02-28T18:29:26.465Z"
   },
   {
    "duration": 203,
    "start_time": "2023-02-28T18:29:55.876Z"
   },
   {
    "duration": 1264,
    "start_time": "2023-03-01T14:07:20.405Z"
   },
   {
    "duration": 135,
    "start_time": "2023-03-01T14:07:21.671Z"
   },
   {
    "duration": 11,
    "start_time": "2023-03-01T14:07:21.807Z"
   },
   {
    "duration": 11,
    "start_time": "2023-03-01T14:07:21.820Z"
   },
   {
    "duration": 9,
    "start_time": "2023-03-01T14:07:21.833Z"
   },
   {
    "duration": 26,
    "start_time": "2023-03-01T14:07:21.844Z"
   },
   {
    "duration": 34,
    "start_time": "2023-03-01T14:07:21.872Z"
   },
   {
    "duration": 8,
    "start_time": "2023-03-01T14:07:21.908Z"
   },
   {
    "duration": 24,
    "start_time": "2023-03-01T14:07:21.917Z"
   },
   {
    "duration": 19,
    "start_time": "2023-03-01T14:07:21.943Z"
   },
   {
    "duration": 29,
    "start_time": "2023-03-01T14:07:21.964Z"
   },
   {
    "duration": 8,
    "start_time": "2023-03-01T14:07:21.994Z"
   },
   {
    "duration": 302,
    "start_time": "2023-03-01T14:07:22.003Z"
   },
   {
    "duration": 14,
    "start_time": "2023-03-01T14:07:22.306Z"
   },
   {
    "duration": 12,
    "start_time": "2023-03-01T14:07:22.321Z"
   },
   {
    "duration": 186,
    "start_time": "2023-03-01T14:07:22.334Z"
   },
   {
    "duration": 1143,
    "start_time": "2023-03-01T15:10:26.608Z"
   },
   {
    "duration": 50,
    "start_time": "2023-03-01T15:10:27.753Z"
   },
   {
    "duration": 13,
    "start_time": "2023-03-01T15:10:27.804Z"
   },
   {
    "duration": 25,
    "start_time": "2023-03-01T15:10:27.819Z"
   },
   {
    "duration": 14,
    "start_time": "2023-03-01T15:10:27.847Z"
   },
   {
    "duration": 9,
    "start_time": "2023-03-01T15:10:27.863Z"
   },
   {
    "duration": 23,
    "start_time": "2023-03-01T15:10:27.874Z"
   },
   {
    "duration": 10,
    "start_time": "2023-03-01T15:10:27.899Z"
   },
   {
    "duration": 14,
    "start_time": "2023-03-01T15:10:27.911Z"
   },
   {
    "duration": 22,
    "start_time": "2023-03-01T15:10:27.929Z"
   },
   {
    "duration": 21,
    "start_time": "2023-03-01T15:10:27.953Z"
   },
   {
    "duration": 7,
    "start_time": "2023-03-01T15:10:27.977Z"
   },
   {
    "duration": 288,
    "start_time": "2023-03-01T15:10:27.986Z"
   },
   {
    "duration": 11,
    "start_time": "2023-03-01T15:10:28.276Z"
   },
   {
    "duration": 10,
    "start_time": "2023-03-01T15:10:28.288Z"
   },
   {
    "duration": 176,
    "start_time": "2023-03-01T15:10:28.299Z"
   },
   {
    "duration": 11,
    "start_time": "2023-03-01T15:32:33.240Z"
   },
   {
    "duration": 10,
    "start_time": "2023-03-01T15:43:54.508Z"
   },
   {
    "duration": 8,
    "start_time": "2023-03-01T15:44:05.766Z"
   },
   {
    "duration": 156,
    "start_time": "2023-03-01T16:12:28.133Z"
   },
   {
    "duration": 1107,
    "start_time": "2023-03-01T19:21:38.912Z"
   },
   {
    "duration": 63,
    "start_time": "2023-03-01T19:21:40.021Z"
   },
   {
    "duration": 9,
    "start_time": "2023-03-01T19:21:40.085Z"
   },
   {
    "duration": 10,
    "start_time": "2023-03-01T19:21:40.096Z"
   },
   {
    "duration": 3,
    "start_time": "2023-03-01T19:21:40.107Z"
   },
   {
    "duration": 7,
    "start_time": "2023-03-01T19:21:40.112Z"
   },
   {
    "duration": 12,
    "start_time": "2023-03-01T19:21:40.120Z"
   },
   {
    "duration": 6,
    "start_time": "2023-03-01T19:21:40.133Z"
   },
   {
    "duration": 15,
    "start_time": "2023-03-01T19:21:40.148Z"
   },
   {
    "duration": 13,
    "start_time": "2023-03-01T19:21:40.166Z"
   },
   {
    "duration": 12,
    "start_time": "2023-03-01T19:21:40.180Z"
   },
   {
    "duration": 6,
    "start_time": "2023-03-01T19:21:40.193Z"
   },
   {
    "duration": 282,
    "start_time": "2023-03-01T19:21:40.201Z"
   },
   {
    "duration": 10,
    "start_time": "2023-03-01T19:21:40.485Z"
   },
   {
    "duration": 7,
    "start_time": "2023-03-01T19:21:40.496Z"
   },
   {
    "duration": 167,
    "start_time": "2023-03-01T19:21:40.504Z"
   },
   {
    "duration": 10,
    "start_time": "2023-03-01T19:21:40.673Z"
   },
   {
    "duration": 14,
    "start_time": "2023-03-01T19:21:40.685Z"
   },
   {
    "duration": 161,
    "start_time": "2023-03-01T19:21:40.700Z"
   },
   {
    "duration": 1475,
    "start_time": "2023-03-02T13:01:02.468Z"
   },
   {
    "duration": 126,
    "start_time": "2023-03-02T13:01:03.946Z"
   },
   {
    "duration": 14,
    "start_time": "2023-03-02T13:01:04.074Z"
   },
   {
    "duration": 16,
    "start_time": "2023-03-02T13:01:04.090Z"
   },
   {
    "duration": 5,
    "start_time": "2023-03-02T13:01:04.108Z"
   },
   {
    "duration": 13,
    "start_time": "2023-03-02T13:01:04.115Z"
   },
   {
    "duration": 17,
    "start_time": "2023-03-02T13:01:04.130Z"
   },
   {
    "duration": 8,
    "start_time": "2023-03-02T13:01:04.150Z"
   },
   {
    "duration": 19,
    "start_time": "2023-03-02T13:01:04.160Z"
   },
   {
    "duration": 9,
    "start_time": "2023-03-02T13:01:04.182Z"
   },
   {
    "duration": 37,
    "start_time": "2023-03-02T13:01:04.193Z"
   },
   {
    "duration": 15,
    "start_time": "2023-03-02T13:01:04.232Z"
   },
   {
    "duration": 407,
    "start_time": "2023-03-02T13:01:04.250Z"
   },
   {
    "duration": 17,
    "start_time": "2023-03-02T13:01:04.660Z"
   },
   {
    "duration": 42,
    "start_time": "2023-03-02T13:01:04.682Z"
   },
   {
    "duration": 205,
    "start_time": "2023-03-02T13:01:04.726Z"
   },
   {
    "duration": 11,
    "start_time": "2023-03-02T13:01:04.933Z"
   },
   {
    "duration": 12,
    "start_time": "2023-03-02T13:01:04.945Z"
   },
   {
    "duration": 211,
    "start_time": "2023-03-02T13:01:04.958Z"
   },
   {
    "duration": 308,
    "start_time": "2023-03-02T13:03:48.698Z"
   },
   {
    "duration": 310,
    "start_time": "2023-03-02T13:03:53.337Z"
   },
   {
    "duration": 219,
    "start_time": "2023-03-02T13:37:24.123Z"
   },
   {
    "duration": 273,
    "start_time": "2023-03-02T13:37:38.276Z"
   },
   {
    "duration": 518,
    "start_time": "2023-03-02T14:58:57.824Z"
   },
   {
    "duration": 1226,
    "start_time": "2023-03-02T15:00:18.149Z"
   },
   {
    "duration": 58,
    "start_time": "2023-03-02T15:00:19.377Z"
   },
   {
    "duration": 11,
    "start_time": "2023-03-02T15:00:19.436Z"
   },
   {
    "duration": 703,
    "start_time": "2023-03-02T15:00:19.448Z"
   },
   {
    "duration": 10,
    "start_time": "2023-03-02T15:00:20.153Z"
   },
   {
    "duration": 5,
    "start_time": "2023-03-02T15:00:20.165Z"
   },
   {
    "duration": 11,
    "start_time": "2023-03-02T15:00:20.172Z"
   },
   {
    "duration": 15,
    "start_time": "2023-03-02T15:00:20.184Z"
   },
   {
    "duration": 36,
    "start_time": "2023-03-02T15:00:20.201Z"
   },
   {
    "duration": 13,
    "start_time": "2023-03-02T15:00:20.239Z"
   },
   {
    "duration": 8,
    "start_time": "2023-03-02T15:00:20.253Z"
   },
   {
    "duration": 15,
    "start_time": "2023-03-02T15:00:20.262Z"
   },
   {
    "duration": 11,
    "start_time": "2023-03-02T15:00:20.278Z"
   },
   {
    "duration": 323,
    "start_time": "2023-03-02T15:00:20.292Z"
   },
   {
    "duration": 20,
    "start_time": "2023-03-02T15:00:20.616Z"
   },
   {
    "duration": 15,
    "start_time": "2023-03-02T15:00:20.638Z"
   },
   {
    "duration": 193,
    "start_time": "2023-03-02T15:00:20.654Z"
   },
   {
    "duration": 11,
    "start_time": "2023-03-02T15:00:20.849Z"
   },
   {
    "duration": 15,
    "start_time": "2023-03-02T15:00:20.861Z"
   },
   {
    "duration": 188,
    "start_time": "2023-03-02T15:00:20.878Z"
   },
   {
    "duration": 98,
    "start_time": "2023-03-02T15:00:21.068Z"
   },
   {
    "duration": 1155,
    "start_time": "2023-03-02T15:01:07.271Z"
   },
   {
    "duration": 53,
    "start_time": "2023-03-02T15:01:08.429Z"
   },
   {
    "duration": 12,
    "start_time": "2023-03-02T15:01:08.484Z"
   },
   {
    "duration": 675,
    "start_time": "2023-03-02T15:01:08.498Z"
   },
   {
    "duration": 11,
    "start_time": "2023-03-02T15:01:09.176Z"
   },
   {
    "duration": 8,
    "start_time": "2023-03-02T15:01:09.188Z"
   },
   {
    "duration": 23,
    "start_time": "2023-03-02T15:01:09.198Z"
   },
   {
    "duration": 8,
    "start_time": "2023-03-02T15:01:09.223Z"
   },
   {
    "duration": 7,
    "start_time": "2023-03-02T15:01:09.233Z"
   },
   {
    "duration": 11,
    "start_time": "2023-03-02T15:01:09.242Z"
   },
   {
    "duration": 7,
    "start_time": "2023-03-02T15:01:09.254Z"
   },
   {
    "duration": 13,
    "start_time": "2023-03-02T15:01:09.262Z"
   },
   {
    "duration": 7,
    "start_time": "2023-03-02T15:01:09.277Z"
   },
   {
    "duration": 326,
    "start_time": "2023-03-02T15:01:09.287Z"
   },
   {
    "duration": 12,
    "start_time": "2023-03-02T15:01:09.615Z"
   },
   {
    "duration": 8,
    "start_time": "2023-03-02T15:01:09.629Z"
   },
   {
    "duration": 198,
    "start_time": "2023-03-02T15:01:09.638Z"
   },
   {
    "duration": 10,
    "start_time": "2023-03-02T15:01:09.838Z"
   },
   {
    "duration": 10,
    "start_time": "2023-03-02T15:01:09.850Z"
   },
   {
    "duration": 189,
    "start_time": "2023-03-02T15:01:09.862Z"
   },
   {
    "duration": 77,
    "start_time": "2023-03-02T15:01:10.052Z"
   },
   {
    "duration": 1176,
    "start_time": "2023-03-02T15:01:32.735Z"
   },
   {
    "duration": 52,
    "start_time": "2023-03-02T15:01:33.913Z"
   },
   {
    "duration": 11,
    "start_time": "2023-03-02T15:01:33.967Z"
   },
   {
    "duration": 672,
    "start_time": "2023-03-02T15:01:35.474Z"
   },
   {
    "duration": 221,
    "start_time": "2023-03-02T15:08:03.229Z"
   },
   {
    "duration": 214,
    "start_time": "2023-03-02T15:08:33.360Z"
   },
   {
    "duration": 337,
    "start_time": "2023-03-02T15:28:56.252Z"
   },
   {
    "duration": 303,
    "start_time": "2023-03-02T15:29:01.084Z"
   },
   {
    "duration": 102,
    "start_time": "2023-03-02T16:19:18.544Z"
   },
   {
    "duration": 1242,
    "start_time": "2023-03-02T16:20:00.397Z"
   },
   {
    "duration": 50,
    "start_time": "2023-03-02T16:20:01.640Z"
   },
   {
    "duration": 10,
    "start_time": "2023-03-02T16:20:01.692Z"
   },
   {
    "duration": 276,
    "start_time": "2023-03-02T16:20:01.704Z"
   },
   {
    "duration": 127,
    "start_time": "2023-03-02T16:20:01.982Z"
   },
   {
    "duration": 11,
    "start_time": "2023-03-02T16:20:02.170Z"
   },
   {
    "duration": 225,
    "start_time": "2023-03-02T16:20:37.686Z"
   },
   {
    "duration": 215,
    "start_time": "2023-03-02T16:20:52.123Z"
   },
   {
    "duration": 10,
    "start_time": "2023-03-02T16:21:12.610Z"
   },
   {
    "duration": 4,
    "start_time": "2023-03-02T16:21:17.230Z"
   },
   {
    "duration": 199,
    "start_time": "2023-03-02T16:21:50.110Z"
   },
   {
    "duration": 208,
    "start_time": "2023-03-02T16:23:14.837Z"
   },
   {
    "duration": 15656,
    "start_time": "2023-03-02T16:23:19.165Z"
   },
   {
    "duration": 193,
    "start_time": "2023-03-02T16:23:43.346Z"
   },
   {
    "duration": 194,
    "start_time": "2023-03-02T16:24:58.443Z"
   },
   {
    "duration": 190,
    "start_time": "2023-03-02T16:30:37.505Z"
   },
   {
    "duration": 237,
    "start_time": "2023-03-02T16:31:34.584Z"
   },
   {
    "duration": 234,
    "start_time": "2023-03-02T16:31:39.098Z"
   },
   {
    "duration": 224,
    "start_time": "2023-03-02T16:31:44.060Z"
   },
   {
    "duration": 19,
    "start_time": "2023-03-02T16:32:10.729Z"
   },
   {
    "duration": 129,
    "start_time": "2023-03-02T16:32:33.960Z"
   },
   {
    "duration": 202,
    "start_time": "2023-03-02T16:44:58.995Z"
   },
   {
    "duration": 110,
    "start_time": "2023-03-02T16:45:17.388Z"
   },
   {
    "duration": 229,
    "start_time": "2023-03-02T16:45:27.738Z"
   },
   {
    "duration": 122,
    "start_time": "2023-03-02T16:51:13.305Z"
   },
   {
    "duration": 187,
    "start_time": "2023-03-02T16:51:34.766Z"
   },
   {
    "duration": 140,
    "start_time": "2023-03-02T16:51:40.704Z"
   },
   {
    "duration": 264,
    "start_time": "2023-03-02T16:51:57.247Z"
   },
   {
    "duration": 144,
    "start_time": "2023-03-02T16:52:04.798Z"
   },
   {
    "duration": 154,
    "start_time": "2023-03-02T16:53:41.093Z"
   },
   {
    "duration": 213,
    "start_time": "2023-03-02T16:53:54.783Z"
   },
   {
    "duration": 239,
    "start_time": "2023-03-02T16:59:21.865Z"
   },
   {
    "duration": 136,
    "start_time": "2023-03-02T16:59:43.857Z"
   },
   {
    "duration": 143,
    "start_time": "2023-03-02T16:59:54.010Z"
   },
   {
    "duration": 119,
    "start_time": "2023-03-02T17:00:06.949Z"
   },
   {
    "duration": 145,
    "start_time": "2023-03-02T17:01:27.369Z"
   },
   {
    "duration": 8,
    "start_time": "2023-03-02T17:55:29.918Z"
   },
   {
    "duration": 208,
    "start_time": "2023-03-02T17:55:40.706Z"
   },
   {
    "duration": 223,
    "start_time": "2023-03-02T17:55:48.751Z"
   },
   {
    "duration": 216,
    "start_time": "2023-03-02T18:06:49.824Z"
   },
   {
    "duration": 249,
    "start_time": "2023-03-02T18:06:54.235Z"
   },
   {
    "duration": 5,
    "start_time": "2023-03-02T18:13:13.386Z"
   },
   {
    "duration": 6,
    "start_time": "2023-03-02T18:13:23.514Z"
   },
   {
    "duration": 1391,
    "start_time": "2023-03-02T18:25:24.722Z"
   },
   {
    "duration": 51,
    "start_time": "2023-03-02T18:25:26.115Z"
   },
   {
    "duration": 10,
    "start_time": "2023-03-02T18:25:26.168Z"
   },
   {
    "duration": 11,
    "start_time": "2023-03-02T18:25:26.180Z"
   },
   {
    "duration": 4,
    "start_time": "2023-03-02T18:25:26.193Z"
   },
   {
    "duration": 6,
    "start_time": "2023-03-02T18:25:26.199Z"
   },
   {
    "duration": 15,
    "start_time": "2023-03-02T18:25:26.207Z"
   },
   {
    "duration": 13,
    "start_time": "2023-03-02T18:25:26.225Z"
   },
   {
    "duration": 22,
    "start_time": "2023-03-02T18:25:26.242Z"
   },
   {
    "duration": 278,
    "start_time": "2023-03-02T18:25:26.267Z"
   },
   {
    "duration": 25,
    "start_time": "2023-03-02T18:25:26.546Z"
   },
   {
    "duration": 298,
    "start_time": "2023-03-02T18:25:26.574Z"
   },
   {
    "duration": 182,
    "start_time": "2023-03-02T18:25:26.874Z"
   },
   {
    "duration": 248,
    "start_time": "2023-03-02T18:25:27.057Z"
   },
   {
    "duration": 14,
    "start_time": "2023-03-02T18:25:27.307Z"
   },
   {
    "duration": 10,
    "start_time": "2023-03-02T18:25:27.322Z"
   },
   {
    "duration": 13,
    "start_time": "2023-03-02T18:25:27.334Z"
   },
   {
    "duration": 30,
    "start_time": "2023-03-02T18:25:27.349Z"
   },
   {
    "duration": 422,
    "start_time": "2023-03-02T18:25:27.381Z"
   },
   {
    "duration": 11,
    "start_time": "2023-03-02T18:25:27.805Z"
   },
   {
    "duration": 10,
    "start_time": "2023-03-02T18:25:27.828Z"
   },
   {
    "duration": 236,
    "start_time": "2023-03-02T18:25:27.840Z"
   },
   {
    "duration": 13,
    "start_time": "2023-03-02T18:25:28.078Z"
   },
   {
    "duration": 20,
    "start_time": "2023-03-02T18:25:28.093Z"
   },
   {
    "duration": 182,
    "start_time": "2023-03-02T18:25:28.120Z"
   },
   {
    "duration": 67,
    "start_time": "2023-03-02T18:25:28.305Z"
   },
   {
    "duration": 101,
    "start_time": "2023-03-02T19:55:59.371Z"
   },
   {
    "duration": 4,
    "start_time": "2023-03-02T19:56:19.686Z"
   },
   {
    "duration": 3,
    "start_time": "2023-03-02T19:56:35.869Z"
   },
   {
    "duration": 9,
    "start_time": "2023-03-02T19:57:15.873Z"
   },
   {
    "duration": 30,
    "start_time": "2023-03-02T19:57:21.106Z"
   },
   {
    "duration": 6,
    "start_time": "2023-03-02T19:57:54.783Z"
   },
   {
    "duration": 1209,
    "start_time": "2023-03-02T19:58:04.617Z"
   },
   {
    "duration": 54,
    "start_time": "2023-03-02T19:58:05.829Z"
   },
   {
    "duration": 10,
    "start_time": "2023-03-02T19:58:05.884Z"
   },
   {
    "duration": 11,
    "start_time": "2023-03-02T19:58:05.896Z"
   },
   {
    "duration": 5,
    "start_time": "2023-03-02T19:58:05.909Z"
   },
   {
    "duration": 28,
    "start_time": "2023-03-02T19:58:05.916Z"
   },
   {
    "duration": 32,
    "start_time": "2023-03-02T19:58:05.946Z"
   },
   {
    "duration": 15,
    "start_time": "2023-03-02T19:58:05.980Z"
   },
   {
    "duration": 7,
    "start_time": "2023-03-02T19:58:05.997Z"
   },
   {
    "duration": 261,
    "start_time": "2023-03-02T19:58:06.006Z"
   },
   {
    "duration": 10,
    "start_time": "2023-03-02T19:58:06.269Z"
   },
   {
    "duration": 253,
    "start_time": "2023-03-02T19:58:06.281Z"
   },
   {
    "duration": 152,
    "start_time": "2023-03-02T19:58:06.535Z"
   },
   {
    "duration": 254,
    "start_time": "2023-03-02T19:58:06.689Z"
   },
   {
    "duration": 8,
    "start_time": "2023-03-02T19:58:06.945Z"
   },
   {
    "duration": 15,
    "start_time": "2023-03-02T19:58:06.954Z"
   },
   {
    "duration": 13,
    "start_time": "2023-03-02T19:58:06.971Z"
   },
   {
    "duration": 12,
    "start_time": "2023-03-02T19:58:06.986Z"
   },
   {
    "duration": 404,
    "start_time": "2023-03-02T19:58:07.000Z"
   },
   {
    "duration": 17,
    "start_time": "2023-03-02T19:58:07.406Z"
   },
   {
    "duration": 15,
    "start_time": "2023-03-02T19:58:07.430Z"
   },
   {
    "duration": 167,
    "start_time": "2023-03-02T19:58:07.447Z"
   },
   {
    "duration": 22,
    "start_time": "2023-03-02T19:58:07.616Z"
   },
   {
    "duration": 9,
    "start_time": "2023-03-02T19:58:07.640Z"
   },
   {
    "duration": 164,
    "start_time": "2023-03-02T19:58:07.651Z"
   },
   {
    "duration": 11,
    "start_time": "2023-03-02T19:58:07.820Z"
   },
   {
    "duration": 20,
    "start_time": "2023-03-02T19:58:07.836Z"
   },
   {
    "duration": 10,
    "start_time": "2023-03-02T19:58:39.387Z"
   },
   {
    "duration": 20,
    "start_time": "2023-03-02T19:58:45.956Z"
   },
   {
    "duration": 12,
    "start_time": "2023-03-02T19:59:29.774Z"
   },
   {
    "duration": 1476,
    "start_time": "2023-03-03T08:36:47.234Z"
   },
   {
    "duration": 113,
    "start_time": "2023-03-03T08:36:48.712Z"
   },
   {
    "duration": 10,
    "start_time": "2023-03-03T08:36:48.827Z"
   },
   {
    "duration": 28,
    "start_time": "2023-03-03T08:36:48.841Z"
   },
   {
    "duration": 6,
    "start_time": "2023-03-03T08:36:48.870Z"
   },
   {
    "duration": 10,
    "start_time": "2023-03-03T08:36:48.877Z"
   },
   {
    "duration": 7,
    "start_time": "2023-03-03T08:36:48.889Z"
   },
   {
    "duration": 12,
    "start_time": "2023-03-03T08:36:48.898Z"
   },
   {
    "duration": 14,
    "start_time": "2023-03-03T08:36:48.911Z"
   },
   {
    "duration": 297,
    "start_time": "2023-03-03T08:36:48.927Z"
   },
   {
    "duration": 22,
    "start_time": "2023-03-03T08:36:49.226Z"
   },
   {
    "duration": 280,
    "start_time": "2023-03-03T08:36:49.252Z"
   },
   {
    "duration": 184,
    "start_time": "2023-03-03T08:36:49.538Z"
   },
   {
    "duration": 283,
    "start_time": "2023-03-03T08:36:49.723Z"
   },
   {
    "duration": 9,
    "start_time": "2023-03-03T08:36:50.008Z"
   },
   {
    "duration": 26,
    "start_time": "2023-03-03T08:36:50.018Z"
   },
   {
    "duration": 19,
    "start_time": "2023-03-03T08:36:50.046Z"
   },
   {
    "duration": 9,
    "start_time": "2023-03-03T08:36:50.067Z"
   },
   {
    "duration": 449,
    "start_time": "2023-03-03T08:36:50.077Z"
   },
   {
    "duration": 20,
    "start_time": "2023-03-03T08:36:50.527Z"
   },
   {
    "duration": 23,
    "start_time": "2023-03-03T08:36:50.549Z"
   },
   {
    "duration": 224,
    "start_time": "2023-03-03T08:36:50.576Z"
   },
   {
    "duration": 11,
    "start_time": "2023-03-03T08:36:50.802Z"
   },
   {
    "duration": 23,
    "start_time": "2023-03-03T08:36:50.815Z"
   },
   {
    "duration": 208,
    "start_time": "2023-03-03T08:36:50.840Z"
   },
   {
    "duration": 6,
    "start_time": "2023-03-03T08:36:51.051Z"
   },
   {
    "duration": 22,
    "start_time": "2023-03-03T08:36:51.060Z"
   },
   {
    "duration": 20,
    "start_time": "2023-03-03T08:36:51.085Z"
   },
   {
    "duration": 483,
    "start_time": "2023-03-03T09:02:16.065Z"
   },
   {
    "duration": 1413,
    "start_time": "2023-03-03T09:02:35.378Z"
   },
   {
    "duration": 53,
    "start_time": "2023-03-03T09:02:36.793Z"
   },
   {
    "duration": 12,
    "start_time": "2023-03-03T09:02:36.851Z"
   },
   {
    "duration": 22,
    "start_time": "2023-03-03T09:02:36.866Z"
   },
   {
    "duration": 6,
    "start_time": "2023-03-03T09:02:36.889Z"
   },
   {
    "duration": 12,
    "start_time": "2023-03-03T09:02:36.897Z"
   },
   {
    "duration": 10,
    "start_time": "2023-03-03T09:02:36.911Z"
   },
   {
    "duration": 29,
    "start_time": "2023-03-03T09:02:36.922Z"
   },
   {
    "duration": 16,
    "start_time": "2023-03-03T09:02:36.954Z"
   },
   {
    "duration": 313,
    "start_time": "2023-03-03T09:02:36.973Z"
   },
   {
    "duration": 12,
    "start_time": "2023-03-03T09:02:37.288Z"
   },
   {
    "duration": 286,
    "start_time": "2023-03-03T09:02:37.302Z"
   },
   {
    "duration": 196,
    "start_time": "2023-03-03T09:02:37.591Z"
   },
   {
    "duration": 292,
    "start_time": "2023-03-03T09:02:37.788Z"
   },
   {
    "duration": 10,
    "start_time": "2023-03-03T09:02:38.082Z"
   },
   {
    "duration": 21,
    "start_time": "2023-03-03T09:02:38.093Z"
   },
   {
    "duration": 31,
    "start_time": "2023-03-03T09:02:38.116Z"
   },
   {
    "duration": 24,
    "start_time": "2023-03-03T09:02:38.154Z"
   },
   {
    "duration": 423,
    "start_time": "2023-03-03T09:02:38.180Z"
   },
   {
    "duration": 11,
    "start_time": "2023-03-03T09:02:38.605Z"
   },
   {
    "duration": 27,
    "start_time": "2023-03-03T09:02:38.617Z"
   },
   {
    "duration": 206,
    "start_time": "2023-03-03T09:02:38.649Z"
   },
   {
    "duration": 11,
    "start_time": "2023-03-03T09:02:38.857Z"
   },
   {
    "duration": 22,
    "start_time": "2023-03-03T09:02:38.870Z"
   },
   {
    "duration": 227,
    "start_time": "2023-03-03T09:02:38.895Z"
   },
   {
    "duration": 5,
    "start_time": "2023-03-03T09:02:39.124Z"
   },
   {
    "duration": 27,
    "start_time": "2023-03-03T09:02:39.137Z"
   },
   {
    "duration": 27,
    "start_time": "2023-03-03T09:02:39.168Z"
   },
   {
    "duration": 1267,
    "start_time": "2023-03-03T09:10:16.460Z"
   },
   {
    "duration": 59,
    "start_time": "2023-03-03T09:10:17.729Z"
   },
   {
    "duration": 14,
    "start_time": "2023-03-03T09:10:17.790Z"
   },
   {
    "duration": 24,
    "start_time": "2023-03-03T09:10:17.806Z"
   },
   {
    "duration": 20,
    "start_time": "2023-03-03T09:10:17.832Z"
   },
   {
    "duration": 12,
    "start_time": "2023-03-03T09:10:17.854Z"
   },
   {
    "duration": 20,
    "start_time": "2023-03-03T09:10:17.867Z"
   },
   {
    "duration": 19,
    "start_time": "2023-03-03T09:10:17.889Z"
   },
   {
    "duration": 21,
    "start_time": "2023-03-03T09:10:17.910Z"
   },
   {
    "duration": 361,
    "start_time": "2023-03-03T09:10:17.934Z"
   },
   {
    "duration": 12,
    "start_time": "2023-03-03T09:10:18.297Z"
   },
   {
    "duration": 277,
    "start_time": "2023-03-03T09:10:18.311Z"
   },
   {
    "duration": 199,
    "start_time": "2023-03-03T09:10:18.590Z"
   },
   {
    "duration": 286,
    "start_time": "2023-03-03T09:10:18.791Z"
   },
   {
    "duration": 7,
    "start_time": "2023-03-03T09:10:19.079Z"
   },
   {
    "duration": 16,
    "start_time": "2023-03-03T09:10:19.088Z"
   },
   {
    "duration": 18,
    "start_time": "2023-03-03T09:10:19.106Z"
   },
   {
    "duration": 26,
    "start_time": "2023-03-03T09:10:19.126Z"
   },
   {
    "duration": 407,
    "start_time": "2023-03-03T09:10:19.155Z"
   },
   {
    "duration": 12,
    "start_time": "2023-03-03T09:10:19.564Z"
   },
   {
    "duration": 40,
    "start_time": "2023-03-03T09:10:19.577Z"
   },
   {
    "duration": 197,
    "start_time": "2023-03-03T09:10:19.619Z"
   },
   {
    "duration": 21,
    "start_time": "2023-03-03T09:10:19.818Z"
   },
   {
    "duration": 13,
    "start_time": "2023-03-03T09:10:19.841Z"
   },
   {
    "duration": 213,
    "start_time": "2023-03-03T09:10:19.857Z"
   },
   {
    "duration": 5,
    "start_time": "2023-03-03T09:10:20.071Z"
   },
   {
    "duration": 35,
    "start_time": "2023-03-03T09:10:20.077Z"
   },
   {
    "duration": 57,
    "start_time": "2023-03-03T09:10:20.115Z"
   },
   {
    "duration": 1235,
    "start_time": "2023-03-03T09:11:14.459Z"
   },
   {
    "duration": 61,
    "start_time": "2023-03-03T09:11:15.696Z"
   },
   {
    "duration": 13,
    "start_time": "2023-03-03T09:11:15.760Z"
   },
   {
    "duration": 25,
    "start_time": "2023-03-03T09:11:15.776Z"
   },
   {
    "duration": 20,
    "start_time": "2023-03-03T09:11:15.803Z"
   },
   {
    "duration": 39,
    "start_time": "2023-03-03T09:11:15.825Z"
   },
   {
    "duration": 9,
    "start_time": "2023-03-03T09:11:15.866Z"
   },
   {
    "duration": 17,
    "start_time": "2023-03-03T09:11:15.877Z"
   },
   {
    "duration": 14,
    "start_time": "2023-03-03T09:11:15.897Z"
   },
   {
    "duration": 291,
    "start_time": "2023-03-03T09:11:15.914Z"
   },
   {
    "duration": 10,
    "start_time": "2023-03-03T09:11:16.207Z"
   },
   {
    "duration": 288,
    "start_time": "2023-03-03T09:11:16.218Z"
   },
   {
    "duration": 179,
    "start_time": "2023-03-03T09:11:16.508Z"
   },
   {
    "duration": 301,
    "start_time": "2023-03-03T09:11:16.689Z"
   },
   {
    "duration": 10,
    "start_time": "2023-03-03T09:11:16.992Z"
   },
   {
    "duration": 10,
    "start_time": "2023-03-03T09:11:17.004Z"
   },
   {
    "duration": 40,
    "start_time": "2023-03-03T09:11:17.015Z"
   },
   {
    "duration": 8,
    "start_time": "2023-03-03T09:11:17.057Z"
   },
   {
    "duration": 419,
    "start_time": "2023-03-03T09:11:17.067Z"
   },
   {
    "duration": 14,
    "start_time": "2023-03-03T09:11:17.488Z"
   },
   {
    "duration": 11,
    "start_time": "2023-03-03T09:11:17.503Z"
   },
   {
    "duration": 233,
    "start_time": "2023-03-03T09:11:17.515Z"
   },
   {
    "duration": 11,
    "start_time": "2023-03-03T09:11:17.753Z"
   },
   {
    "duration": 11,
    "start_time": "2023-03-03T09:11:17.766Z"
   },
   {
    "duration": 192,
    "start_time": "2023-03-03T09:11:17.778Z"
   },
   {
    "duration": 4,
    "start_time": "2023-03-03T09:11:17.972Z"
   },
   {
    "duration": 18,
    "start_time": "2023-03-03T09:11:17.978Z"
   },
   {
    "duration": 21,
    "start_time": "2023-03-03T09:11:18.000Z"
   },
   {
    "duration": 341,
    "start_time": "2023-03-03T09:11:34.620Z"
   },
   {
    "duration": 23,
    "start_time": "2023-03-03T09:33:20.231Z"
   },
   {
    "duration": 29,
    "start_time": "2023-03-03T09:33:24.090Z"
   },
   {
    "duration": 21,
    "start_time": "2023-03-03T09:33:37.852Z"
   },
   {
    "duration": 12,
    "start_time": "2023-03-03T09:40:22.753Z"
   },
   {
    "duration": 24,
    "start_time": "2023-03-03T09:42:39.025Z"
   },
   {
    "duration": 4,
    "start_time": "2023-03-03T12:36:29.829Z"
   },
   {
    "duration": 4,
    "start_time": "2023-03-03T12:36:40.225Z"
   },
   {
    "duration": 4,
    "start_time": "2023-03-03T12:54:32.993Z"
   },
   {
    "duration": 4,
    "start_time": "2023-03-03T13:37:34.384Z"
   },
   {
    "duration": 3,
    "start_time": "2023-03-03T13:45:14.487Z"
   },
   {
    "duration": 4,
    "start_time": "2023-03-03T14:04:42.128Z"
   },
   {
    "duration": 3,
    "start_time": "2023-03-03T14:08:08.426Z"
   },
   {
    "duration": 3,
    "start_time": "2023-03-03T14:08:11.972Z"
   },
   {
    "duration": 4,
    "start_time": "2023-03-03T14:10:11.185Z"
   },
   {
    "duration": 162,
    "start_time": "2023-03-03T14:11:04.829Z"
   },
   {
    "duration": 4,
    "start_time": "2023-03-03T14:16:04.302Z"
   },
   {
    "duration": 14,
    "start_time": "2023-03-03T14:16:05.554Z"
   },
   {
    "duration": 4,
    "start_time": "2023-03-03T14:16:21.586Z"
   },
   {
    "duration": 15,
    "start_time": "2023-03-03T14:17:10.900Z"
   },
   {
    "duration": 4,
    "start_time": "2023-03-03T14:17:35.777Z"
   },
   {
    "duration": 3,
    "start_time": "2023-03-03T14:17:41.028Z"
   },
   {
    "duration": 3,
    "start_time": "2023-03-03T14:17:41.700Z"
   },
   {
    "duration": 3,
    "start_time": "2023-03-03T14:18:07.569Z"
   },
   {
    "duration": 3,
    "start_time": "2023-03-03T14:18:14.866Z"
   },
   {
    "duration": 3,
    "start_time": "2023-03-03T14:18:15.026Z"
   },
   {
    "duration": 3,
    "start_time": "2023-03-03T14:18:15.220Z"
   },
   {
    "duration": 3,
    "start_time": "2023-03-03T14:18:25.669Z"
   },
   {
    "duration": 5,
    "start_time": "2023-03-03T14:19:13.806Z"
   },
   {
    "duration": 4,
    "start_time": "2023-03-03T14:33:19.943Z"
   },
   {
    "duration": 20,
    "start_time": "2023-03-03T14:33:25.287Z"
   },
   {
    "duration": 7,
    "start_time": "2023-03-03T14:33:29.635Z"
   },
   {
    "duration": 6,
    "start_time": "2023-03-03T14:35:33.634Z"
   },
   {
    "duration": 5,
    "start_time": "2023-03-03T14:35:45.003Z"
   },
   {
    "duration": 5,
    "start_time": "2023-03-03T14:36:08.311Z"
   },
   {
    "duration": 4,
    "start_time": "2023-03-03T14:36:08.832Z"
   },
   {
    "duration": 2385,
    "start_time": "2023-03-03T14:37:27.514Z"
   },
   {
    "duration": 7,
    "start_time": "2023-03-03T14:37:48.448Z"
   },
   {
    "duration": 19,
    "start_time": "2023-03-03T14:38:08.403Z"
   },
   {
    "duration": 4,
    "start_time": "2023-03-03T14:39:06.729Z"
   },
   {
    "duration": 3,
    "start_time": "2023-03-03T14:39:06.904Z"
   },
   {
    "duration": 3,
    "start_time": "2023-03-03T14:39:07.082Z"
   },
   {
    "duration": 62756,
    "start_time": "2023-03-03T14:39:07.674Z"
   },
   {
    "duration": 5,
    "start_time": "2023-03-03T14:43:02.617Z"
   },
   {
    "duration": 4,
    "start_time": "2023-03-03T14:43:17.532Z"
   },
   {
    "duration": 3,
    "start_time": "2023-03-03T14:43:52.972Z"
   },
   {
    "duration": 4,
    "start_time": "2023-03-03T14:43:53.127Z"
   },
   {
    "duration": 185304,
    "start_time": "2023-03-03T14:43:53.255Z"
   },
   {
    "duration": 5,
    "start_time": "2023-03-03T14:46:58.561Z"
   },
   {
    "duration": 47,
    "start_time": "2023-03-03T14:46:58.568Z"
   },
   {
    "duration": 6,
    "start_time": "2023-03-03T15:11:40.677Z"
   },
   {
    "duration": 3,
    "start_time": "2023-03-03T15:35:00.095Z"
   },
   {
    "duration": 3,
    "start_time": "2023-03-03T15:35:41.897Z"
   },
   {
    "duration": 3702920,
    "start_time": "2023-03-03T15:46:07.772Z"
   },
   {
    "duration": 5,
    "start_time": "2023-03-03T16:49:42.379Z"
   },
   {
    "duration": 4,
    "start_time": "2023-03-03T16:49:42.615Z"
   },
   {
    "duration": 1475731,
    "start_time": "2023-03-03T16:49:43.072Z"
   },
   {
    "duration": 4,
    "start_time": "2023-03-03T17:14:45.540Z"
   },
   {
    "duration": 3,
    "start_time": "2023-03-03T17:14:46.619Z"
   },
   {
    "duration": 200,
    "start_time": "2023-03-03T17:14:46.830Z"
   },
   {
    "duration": 4,
    "start_time": "2023-03-03T17:14:54.865Z"
   },
   {
    "duration": 5,
    "start_time": "2023-03-03T17:14:54.962Z"
   },
   {
    "duration": 913013,
    "start_time": "2023-03-03T17:14:55.601Z"
   },
   {
    "duration": 4,
    "start_time": "2023-03-03T17:30:47.108Z"
   },
   {
    "duration": 3,
    "start_time": "2023-03-03T17:30:48.050Z"
   },
   {
    "duration": 3,
    "start_time": "2023-03-03T17:30:48.566Z"
   },
   {
    "duration": 301789,
    "start_time": "2023-03-03T17:30:49.067Z"
   },
   {
    "duration": 1737,
    "start_time": "2023-03-03T17:35:59.498Z"
   },
   {
    "duration": 55,
    "start_time": "2023-03-03T17:36:01.237Z"
   },
   {
    "duration": 12,
    "start_time": "2023-03-03T17:36:01.294Z"
   },
   {
    "duration": 40,
    "start_time": "2023-03-03T17:36:01.308Z"
   },
   {
    "duration": 29,
    "start_time": "2023-03-03T17:36:01.350Z"
   },
   {
    "duration": 30,
    "start_time": "2023-03-03T17:36:01.381Z"
   },
   {
    "duration": 16,
    "start_time": "2023-03-03T17:36:01.413Z"
   },
   {
    "duration": 42,
    "start_time": "2023-03-03T17:36:01.431Z"
   },
   {
    "duration": 9,
    "start_time": "2023-03-03T17:36:01.476Z"
   },
   {
    "duration": 290,
    "start_time": "2023-03-03T17:36:01.489Z"
   },
   {
    "duration": 9,
    "start_time": "2023-03-03T17:36:01.781Z"
   },
   {
    "duration": 371,
    "start_time": "2023-03-03T17:36:01.791Z"
   },
   {
    "duration": 207,
    "start_time": "2023-03-03T17:36:02.164Z"
   },
   {
    "duration": 343,
    "start_time": "2023-03-03T17:36:02.373Z"
   },
   {
    "duration": 28,
    "start_time": "2023-03-03T17:36:02.718Z"
   },
   {
    "duration": 11,
    "start_time": "2023-03-03T17:36:02.747Z"
   },
   {
    "duration": 22,
    "start_time": "2023-03-03T17:36:02.760Z"
   },
   {
    "duration": 22,
    "start_time": "2023-03-03T17:36:02.784Z"
   },
   {
    "duration": 349,
    "start_time": "2023-03-03T17:36:02.808Z"
   },
   {
    "duration": 13,
    "start_time": "2023-03-03T17:36:03.162Z"
   },
   {
    "duration": 31,
    "start_time": "2023-03-03T17:36:03.177Z"
   },
   {
    "duration": 208,
    "start_time": "2023-03-03T17:36:03.210Z"
   },
   {
    "duration": 30,
    "start_time": "2023-03-03T17:36:03.420Z"
   },
   {
    "duration": 23,
    "start_time": "2023-03-03T17:36:03.456Z"
   },
   {
    "duration": 199,
    "start_time": "2023-03-03T17:36:03.481Z"
   },
   {
    "duration": 5,
    "start_time": "2023-03-03T17:36:03.682Z"
   },
   {
    "duration": 35,
    "start_time": "2023-03-03T17:36:03.689Z"
   },
   {
    "duration": 28,
    "start_time": "2023-03-03T17:36:03.728Z"
   },
   {
    "duration": 40,
    "start_time": "2023-03-03T17:36:03.758Z"
   },
   {
    "duration": 31,
    "start_time": "2023-03-03T17:36:03.800Z"
   },
   {
    "duration": 44,
    "start_time": "2023-03-03T17:36:03.833Z"
   },
   {
    "duration": 20,
    "start_time": "2023-03-03T17:36:03.879Z"
   },
   {
    "duration": 9,
    "start_time": "2023-03-03T17:36:03.901Z"
   },
   {
    "duration": 23,
    "start_time": "2023-03-03T17:36:03.911Z"
   },
   {
    "duration": 30,
    "start_time": "2023-03-03T17:36:03.936Z"
   },
   {
    "duration": 29,
    "start_time": "2023-03-03T17:36:03.968Z"
   },
   {
    "duration": 29,
    "start_time": "2023-03-03T17:36:03.999Z"
   },
   {
    "duration": 42,
    "start_time": "2023-03-03T17:36:04.030Z"
   },
   {
    "duration": 16,
    "start_time": "2023-03-03T17:36:04.075Z"
   },
   {
    "duration": 23,
    "start_time": "2023-03-03T17:36:04.094Z"
   },
   {
    "duration": 44,
    "start_time": "2023-03-03T17:36:04.120Z"
   },
   {
    "duration": 195127,
    "start_time": "2023-03-03T17:36:04.167Z"
   },
   {
    "duration": 5,
    "start_time": "2023-03-03T17:39:19.296Z"
   },
   {
    "duration": 24,
    "start_time": "2023-03-03T17:39:19.303Z"
   },
   {
    "duration": 50,
    "start_time": "2023-03-03T17:39:19.329Z"
   },
   {
    "duration": 28,
    "start_time": "2023-03-03T17:39:19.381Z"
   },
   {
    "duration": 46,
    "start_time": "2023-03-03T17:39:19.412Z"
   },
   {
    "duration": 71449,
    "start_time": "2023-03-03T17:39:19.460Z"
   },
   {
    "duration": 4,
    "start_time": "2023-03-03T17:40:52.523Z"
   },
   {
    "duration": 63835,
    "start_time": "2023-03-03T17:41:11.016Z"
   },
   {
    "duration": 21,
    "start_time": "2023-03-03T17:43:42.860Z"
   },
   {
    "duration": 3,
    "start_time": "2023-03-03T17:46:48.766Z"
   },
   {
    "duration": 3,
    "start_time": "2023-03-03T17:46:48.953Z"
   },
   {
    "duration": 379398,
    "start_time": "2023-03-03T17:46:49.167Z"
   },
   {
    "duration": 21,
    "start_time": "2023-03-03T17:55:42.547Z"
   },
   {
    "duration": 20,
    "start_time": "2023-03-03T17:58:40.076Z"
   },
   {
    "duration": 1605,
    "start_time": "2023-03-03T17:59:53.592Z"
   },
   {
    "duration": 63,
    "start_time": "2023-03-03T17:59:55.199Z"
   },
   {
    "duration": 14,
    "start_time": "2023-03-03T17:59:55.263Z"
   },
   {
    "duration": 15,
    "start_time": "2023-03-03T17:59:55.279Z"
   },
   {
    "duration": 13,
    "start_time": "2023-03-03T17:59:55.297Z"
   },
   {
    "duration": 17,
    "start_time": "2023-03-03T17:59:55.312Z"
   },
   {
    "duration": 49,
    "start_time": "2023-03-03T17:59:55.331Z"
   },
   {
    "duration": 23,
    "start_time": "2023-03-03T17:59:55.382Z"
   },
   {
    "duration": 44,
    "start_time": "2023-03-03T17:59:55.407Z"
   },
   {
    "duration": 318,
    "start_time": "2023-03-03T17:59:55.453Z"
   },
   {
    "duration": 8,
    "start_time": "2023-03-03T17:59:55.783Z"
   },
   {
    "duration": 401,
    "start_time": "2023-03-03T17:59:55.793Z"
   },
   {
    "duration": 188,
    "start_time": "2023-03-03T17:59:56.195Z"
   },
   {
    "duration": 302,
    "start_time": "2023-03-03T17:59:56.388Z"
   },
   {
    "duration": 7,
    "start_time": "2023-03-03T17:59:56.692Z"
   },
   {
    "duration": 25,
    "start_time": "2023-03-03T17:59:56.700Z"
   },
   {
    "duration": 29,
    "start_time": "2023-03-03T17:59:56.726Z"
   },
   {
    "duration": 23,
    "start_time": "2023-03-03T17:59:56.757Z"
   },
   {
    "duration": 369,
    "start_time": "2023-03-03T17:59:56.782Z"
   },
   {
    "duration": 15,
    "start_time": "2023-03-03T17:59:57.153Z"
   },
   {
    "duration": 20,
    "start_time": "2023-03-03T17:59:57.170Z"
   },
   {
    "duration": 223,
    "start_time": "2023-03-03T17:59:57.192Z"
   },
   {
    "duration": 12,
    "start_time": "2023-03-03T17:59:57.417Z"
   },
   {
    "duration": 24,
    "start_time": "2023-03-03T17:59:57.430Z"
   },
   {
    "duration": 211,
    "start_time": "2023-03-03T17:59:57.456Z"
   },
   {
    "duration": 5,
    "start_time": "2023-03-03T17:59:57.669Z"
   },
   {
    "duration": 28,
    "start_time": "2023-03-03T17:59:57.676Z"
   },
   {
    "duration": 48,
    "start_time": "2023-03-03T17:59:57.706Z"
   },
   {
    "duration": 18,
    "start_time": "2023-03-03T17:59:57.756Z"
   },
   {
    "duration": 19,
    "start_time": "2023-03-03T17:59:57.776Z"
   },
   {
    "duration": 18,
    "start_time": "2023-03-03T17:59:57.797Z"
   },
   {
    "duration": 25,
    "start_time": "2023-03-03T17:59:57.817Z"
   },
   {
    "duration": 8,
    "start_time": "2023-03-03T17:59:57.848Z"
   },
   {
    "duration": 7,
    "start_time": "2023-03-03T17:59:57.858Z"
   },
   {
    "duration": 7,
    "start_time": "2023-03-03T17:59:57.867Z"
   },
   {
    "duration": 27,
    "start_time": "2023-03-03T17:59:57.876Z"
   },
   {
    "duration": 17,
    "start_time": "2023-03-03T17:59:57.905Z"
   },
   {
    "duration": 11,
    "start_time": "2023-03-03T17:59:57.924Z"
   },
   {
    "duration": 19,
    "start_time": "2023-03-03T17:59:57.937Z"
   },
   {
    "duration": 12,
    "start_time": "2023-03-03T17:59:57.958Z"
   },
   {
    "duration": 5,
    "start_time": "2023-03-03T17:59:57.974Z"
   },
   {
    "duration": 173578,
    "start_time": "2023-03-03T17:59:57.980Z"
   },
   {
    "duration": 6,
    "start_time": "2023-03-03T18:02:51.560Z"
   },
   {
    "duration": 14,
    "start_time": "2023-03-03T18:02:51.568Z"
   },
   {
    "duration": 32,
    "start_time": "2023-03-03T18:02:51.584Z"
   },
   {
    "duration": 11,
    "start_time": "2023-03-03T18:02:51.618Z"
   },
   {
    "duration": 34,
    "start_time": "2023-03-03T18:02:51.631Z"
   },
   {
    "duration": 6,
    "start_time": "2023-03-03T18:02:51.668Z"
   },
   {
    "duration": 368496,
    "start_time": "2023-03-03T18:02:51.677Z"
   },
   {
    "duration": 6,
    "start_time": "2023-03-03T18:11:31.566Z"
   },
   {
    "duration": 7,
    "start_time": "2023-03-03T18:11:46.587Z"
   },
   {
    "duration": 5,
    "start_time": "2023-03-03T18:14:35.195Z"
   },
   {
    "duration": 5,
    "start_time": "2023-03-03T18:17:09.634Z"
   },
   {
    "duration": 3,
    "start_time": "2023-03-03T18:17:09.802Z"
   },
   {
    "duration": 4639197,
    "start_time": "2023-03-03T18:17:09.957Z"
   },
   {
    "duration": 17,
    "start_time": "2023-03-03T19:36:11.837Z"
   },
   {
    "duration": 4,
    "start_time": "2023-03-03T19:36:44.023Z"
   },
   {
    "duration": 53,
    "start_time": "2023-03-03T19:38:40.571Z"
   },
   {
    "duration": 5,
    "start_time": "2023-03-03T19:40:40.475Z"
   },
   {
    "duration": 4,
    "start_time": "2023-03-03T19:40:51.253Z"
   },
   {
    "duration": 4,
    "start_time": "2023-03-03T19:41:23.439Z"
   },
   {
    "duration": 8,
    "start_time": "2023-03-03T19:41:39.328Z"
   },
   {
    "duration": 4,
    "start_time": "2023-03-03T19:43:00.456Z"
   },
   {
    "duration": 28,
    "start_time": "2023-03-03T19:43:22.758Z"
   },
   {
    "duration": 4,
    "start_time": "2023-03-03T19:43:40.015Z"
   },
   {
    "duration": 14,
    "start_time": "2023-03-03T19:44:33.641Z"
   },
   {
    "duration": 25,
    "start_time": "2023-03-03T19:44:33.991Z"
   },
   {
    "duration": 8,
    "start_time": "2023-03-03T19:44:37.139Z"
   },
   {
    "duration": 15,
    "start_time": "2023-03-03T19:44:37.317Z"
   },
   {
    "duration": 5,
    "start_time": "2023-03-03T19:44:51.155Z"
   },
   {
    "duration": 6,
    "start_time": "2023-03-03T19:44:51.313Z"
   },
   {
    "duration": 5,
    "start_time": "2023-03-03T19:44:51.518Z"
   },
   {
    "duration": 4,
    "start_time": "2023-03-03T19:44:52.909Z"
   },
   {
    "duration": 3,
    "start_time": "2023-03-03T19:44:53.251Z"
   },
   {
    "duration": 8,
    "start_time": "2023-03-03T19:44:56.764Z"
   },
   {
    "duration": 3,
    "start_time": "2023-03-03T19:44:56.978Z"
   },
   {
    "duration": 25,
    "start_time": "2023-03-03T19:44:57.280Z"
   },
   {
    "duration": 5,
    "start_time": "2023-03-03T19:44:59.119Z"
   },
   {
    "duration": 7,
    "start_time": "2023-03-03T19:45:13.746Z"
   },
   {
    "duration": 8,
    "start_time": "2023-03-03T19:45:37.371Z"
   },
   {
    "duration": 1657,
    "start_time": "2023-03-03T19:45:56.301Z"
   },
   {
    "duration": 62,
    "start_time": "2023-03-03T19:45:57.960Z"
   },
   {
    "duration": 14,
    "start_time": "2023-03-03T19:45:58.024Z"
   },
   {
    "duration": 18,
    "start_time": "2023-03-03T19:45:58.040Z"
   },
   {
    "duration": 19,
    "start_time": "2023-03-03T19:45:58.060Z"
   },
   {
    "duration": 13,
    "start_time": "2023-03-03T19:45:58.081Z"
   },
   {
    "duration": 15,
    "start_time": "2023-03-03T19:45:58.096Z"
   },
   {
    "duration": 16,
    "start_time": "2023-03-03T19:45:58.112Z"
   },
   {
    "duration": 10,
    "start_time": "2023-03-03T19:45:58.131Z"
   },
   {
    "duration": 304,
    "start_time": "2023-03-03T19:45:58.144Z"
   },
   {
    "duration": 8,
    "start_time": "2023-03-03T19:45:58.449Z"
   },
   {
    "duration": 349,
    "start_time": "2023-03-03T19:45:58.459Z"
   },
   {
    "duration": 157,
    "start_time": "2023-03-03T19:45:58.810Z"
   },
   {
    "duration": 277,
    "start_time": "2023-03-03T19:45:58.968Z"
   },
   {
    "duration": 8,
    "start_time": "2023-03-03T19:45:59.247Z"
   },
   {
    "duration": 9,
    "start_time": "2023-03-03T19:45:59.257Z"
   },
   {
    "duration": 13,
    "start_time": "2023-03-03T19:45:59.268Z"
   },
   {
    "duration": 11,
    "start_time": "2023-03-03T19:45:59.283Z"
   },
   {
    "duration": 356,
    "start_time": "2023-03-03T19:45:59.296Z"
   },
   {
    "duration": 11,
    "start_time": "2023-03-03T19:45:59.654Z"
   },
   {
    "duration": 21,
    "start_time": "2023-03-03T19:45:59.667Z"
   },
   {
    "duration": 187,
    "start_time": "2023-03-03T19:45:59.690Z"
   },
   {
    "duration": 11,
    "start_time": "2023-03-03T19:45:59.879Z"
   },
   {
    "duration": 13,
    "start_time": "2023-03-03T19:45:59.893Z"
   },
   {
    "duration": 191,
    "start_time": "2023-03-03T19:45:59.908Z"
   },
   {
    "duration": 4,
    "start_time": "2023-03-03T19:46:00.101Z"
   },
   {
    "duration": 29,
    "start_time": "2023-03-03T19:46:00.107Z"
   },
   {
    "duration": 44,
    "start_time": "2023-03-03T19:46:00.140Z"
   },
   {
    "duration": 15,
    "start_time": "2023-03-03T19:46:00.186Z"
   },
   {
    "duration": 22,
    "start_time": "2023-03-03T19:46:00.203Z"
   },
   {
    "duration": 26,
    "start_time": "2023-03-03T19:46:00.227Z"
   },
   {
    "duration": 22,
    "start_time": "2023-03-03T19:46:00.254Z"
   },
   {
    "duration": 28,
    "start_time": "2023-03-03T19:46:00.277Z"
   },
   {
    "duration": 26,
    "start_time": "2023-03-03T19:46:00.307Z"
   },
   {
    "duration": 37,
    "start_time": "2023-03-03T19:46:00.335Z"
   },
   {
    "duration": 32,
    "start_time": "2023-03-03T19:46:00.374Z"
   },
   {
    "duration": 24,
    "start_time": "2023-03-03T19:46:00.408Z"
   },
   {
    "duration": 43,
    "start_time": "2023-03-03T19:46:00.435Z"
   },
   {
    "duration": 50,
    "start_time": "2023-03-03T19:46:00.480Z"
   },
   {
    "duration": 37,
    "start_time": "2023-03-03T19:46:00.532Z"
   },
   {
    "duration": 51,
    "start_time": "2023-03-03T19:46:00.571Z"
   },
   {
    "duration": 28,
    "start_time": "2023-03-03T19:46:00.624Z"
   },
   {
    "duration": 113,
    "start_time": "2023-03-03T19:46:00.654Z"
   },
   {
    "duration": 50,
    "start_time": "2023-03-03T19:46:00.769Z"
   },
   {
    "duration": 26,
    "start_time": "2023-03-03T19:46:00.821Z"
   },
   {
    "duration": 30,
    "start_time": "2023-03-03T19:46:00.849Z"
   },
   {
    "duration": 20115,
    "start_time": "2023-03-03T19:46:00.880Z"
   },
   {
    "duration": 11,
    "start_time": "2023-03-03T19:46:20.997Z"
   },
   {
    "duration": 0,
    "start_time": "2023-03-03T19:46:21.009Z"
   },
   {
    "duration": 0,
    "start_time": "2023-03-03T19:46:21.011Z"
   },
   {
    "duration": 0,
    "start_time": "2023-03-03T19:46:21.012Z"
   },
   {
    "duration": 0,
    "start_time": "2023-03-03T19:46:21.013Z"
   },
   {
    "duration": 0,
    "start_time": "2023-03-03T19:46:21.014Z"
   },
   {
    "duration": 0,
    "start_time": "2023-03-03T19:46:21.015Z"
   },
   {
    "duration": 0,
    "start_time": "2023-03-03T19:46:21.016Z"
   },
   {
    "duration": 0,
    "start_time": "2023-03-03T19:46:21.017Z"
   },
   {
    "duration": 1643,
    "start_time": "2023-03-03T19:46:35.653Z"
   },
   {
    "duration": 50,
    "start_time": "2023-03-03T19:46:37.298Z"
   },
   {
    "duration": 13,
    "start_time": "2023-03-03T19:46:37.350Z"
   },
   {
    "duration": 14,
    "start_time": "2023-03-03T19:46:37.364Z"
   },
   {
    "duration": 6,
    "start_time": "2023-03-03T19:46:37.382Z"
   },
   {
    "duration": 13,
    "start_time": "2023-03-03T19:46:37.390Z"
   },
   {
    "duration": 20,
    "start_time": "2023-03-03T19:46:37.405Z"
   },
   {
    "duration": 25,
    "start_time": "2023-03-03T19:46:37.427Z"
   },
   {
    "duration": 9,
    "start_time": "2023-03-03T19:46:37.454Z"
   },
   {
    "duration": 298,
    "start_time": "2023-03-03T19:46:37.465Z"
   },
   {
    "duration": 8,
    "start_time": "2023-03-03T19:46:37.766Z"
   },
   {
    "duration": 345,
    "start_time": "2023-03-03T19:46:37.776Z"
   },
   {
    "duration": 189,
    "start_time": "2023-03-03T19:46:38.122Z"
   },
   {
    "duration": 265,
    "start_time": "2023-03-03T19:46:38.315Z"
   },
   {
    "duration": 7,
    "start_time": "2023-03-03T19:46:38.582Z"
   },
   {
    "duration": 22,
    "start_time": "2023-03-03T19:46:38.591Z"
   },
   {
    "duration": 22,
    "start_time": "2023-03-03T19:46:38.615Z"
   },
   {
    "duration": 9,
    "start_time": "2023-03-03T19:46:38.638Z"
   },
   {
    "duration": 334,
    "start_time": "2023-03-03T19:46:38.649Z"
   },
   {
    "duration": 13,
    "start_time": "2023-03-03T19:46:38.986Z"
   },
   {
    "duration": 28,
    "start_time": "2023-03-03T19:46:39.001Z"
   },
   {
    "duration": 211,
    "start_time": "2023-03-03T19:46:39.030Z"
   },
   {
    "duration": 12,
    "start_time": "2023-03-03T19:46:39.243Z"
   },
   {
    "duration": 21,
    "start_time": "2023-03-03T19:46:39.256Z"
   },
   {
    "duration": 186,
    "start_time": "2023-03-03T19:46:39.278Z"
   },
   {
    "duration": 3,
    "start_time": "2023-03-03T19:46:39.466Z"
   },
   {
    "duration": 17,
    "start_time": "2023-03-03T19:46:39.471Z"
   },
   {
    "duration": 23,
    "start_time": "2023-03-03T19:46:39.490Z"
   },
   {
    "duration": 18,
    "start_time": "2023-03-03T19:46:39.515Z"
   },
   {
    "duration": 22,
    "start_time": "2023-03-03T19:46:39.538Z"
   },
   {
    "duration": 6,
    "start_time": "2023-03-03T19:46:39.562Z"
   },
   {
    "duration": 10,
    "start_time": "2023-03-03T19:46:39.569Z"
   },
   {
    "duration": 16,
    "start_time": "2023-03-03T19:46:39.581Z"
   },
   {
    "duration": 14,
    "start_time": "2023-03-03T19:46:39.599Z"
   },
   {
    "duration": 12,
    "start_time": "2023-03-03T19:46:39.615Z"
   },
   {
    "duration": 10,
    "start_time": "2023-03-03T19:46:39.628Z"
   },
   {
    "duration": 10,
    "start_time": "2023-03-03T19:46:39.639Z"
   },
   {
    "duration": 15,
    "start_time": "2023-03-03T19:46:39.650Z"
   },
   {
    "duration": 12,
    "start_time": "2023-03-03T19:46:39.667Z"
   },
   {
    "duration": 21,
    "start_time": "2023-03-03T19:46:39.681Z"
   },
   {
    "duration": 43,
    "start_time": "2023-03-03T19:46:39.706Z"
   },
   {
    "duration": 5,
    "start_time": "2023-03-03T19:46:39.751Z"
   },
   {
    "duration": 83,
    "start_time": "2023-03-03T19:46:39.759Z"
   },
   {
    "duration": 7,
    "start_time": "2023-03-03T19:46:39.845Z"
   },
   {
    "duration": 82,
    "start_time": "2023-03-03T19:46:39.855Z"
   },
   {
    "duration": 4,
    "start_time": "2023-03-03T19:46:39.939Z"
   },
   {
    "duration": 1639,
    "start_time": "2023-03-03T19:47:39.508Z"
   },
   {
    "duration": 56,
    "start_time": "2023-03-03T19:47:41.150Z"
   },
   {
    "duration": 13,
    "start_time": "2023-03-03T19:47:41.208Z"
   },
   {
    "duration": 14,
    "start_time": "2023-03-03T19:47:41.223Z"
   },
   {
    "duration": 21,
    "start_time": "2023-03-03T19:47:41.252Z"
   },
   {
    "duration": 7,
    "start_time": "2023-03-03T19:47:41.274Z"
   },
   {
    "duration": 15,
    "start_time": "2023-03-03T19:47:41.283Z"
   },
   {
    "duration": 12,
    "start_time": "2023-03-03T19:47:41.300Z"
   },
   {
    "duration": 6,
    "start_time": "2023-03-03T19:47:41.314Z"
   },
   {
    "duration": 312,
    "start_time": "2023-03-03T19:47:41.324Z"
   },
   {
    "duration": 15,
    "start_time": "2023-03-03T19:47:41.638Z"
   },
   {
    "duration": 345,
    "start_time": "2023-03-03T19:47:41.655Z"
   },
   {
    "duration": 183,
    "start_time": "2023-03-03T19:47:42.002Z"
   },
   {
    "duration": 331,
    "start_time": "2023-03-03T19:47:42.188Z"
   },
   {
    "duration": 21,
    "start_time": "2023-03-03T19:47:42.521Z"
   },
   {
    "duration": 23,
    "start_time": "2023-03-03T19:47:42.544Z"
   },
   {
    "duration": 28,
    "start_time": "2023-03-03T19:47:42.570Z"
   },
   {
    "duration": 18,
    "start_time": "2023-03-03T19:47:42.600Z"
   },
   {
    "duration": 388,
    "start_time": "2023-03-03T19:47:42.620Z"
   },
   {
    "duration": 11,
    "start_time": "2023-03-03T19:47:43.010Z"
   },
   {
    "duration": 23,
    "start_time": "2023-03-03T19:47:43.022Z"
   },
   {
    "duration": 214,
    "start_time": "2023-03-03T19:47:43.047Z"
   },
   {
    "duration": 11,
    "start_time": "2023-03-03T19:47:43.263Z"
   },
   {
    "duration": 7,
    "start_time": "2023-03-03T19:47:43.276Z"
   },
   {
    "duration": 211,
    "start_time": "2023-03-03T19:47:43.285Z"
   },
   {
    "duration": 4,
    "start_time": "2023-03-03T19:47:43.498Z"
   },
   {
    "duration": 20,
    "start_time": "2023-03-03T19:47:43.504Z"
   },
   {
    "duration": 28,
    "start_time": "2023-03-03T19:47:43.539Z"
   },
   {
    "duration": 14,
    "start_time": "2023-03-03T19:47:43.568Z"
   },
   {
    "duration": 24,
    "start_time": "2023-03-03T19:47:43.584Z"
   },
   {
    "duration": 12,
    "start_time": "2023-03-03T19:47:43.610Z"
   },
   {
    "duration": 8,
    "start_time": "2023-03-03T19:47:43.623Z"
   },
   {
    "duration": 31,
    "start_time": "2023-03-03T19:47:43.633Z"
   },
   {
    "duration": 12,
    "start_time": "2023-03-03T19:47:43.666Z"
   },
   {
    "duration": 13,
    "start_time": "2023-03-03T19:47:43.680Z"
   },
   {
    "duration": 11,
    "start_time": "2023-03-03T19:47:43.695Z"
   },
   {
    "duration": 11,
    "start_time": "2023-03-03T19:47:43.708Z"
   },
   {
    "duration": 15,
    "start_time": "2023-03-03T19:47:43.721Z"
   },
   {
    "duration": 25,
    "start_time": "2023-03-03T19:47:43.737Z"
   },
   {
    "duration": 8,
    "start_time": "2023-03-03T19:47:43.764Z"
   },
   {
    "duration": 31,
    "start_time": "2023-03-03T19:47:43.774Z"
   },
   {
    "duration": 6,
    "start_time": "2023-03-03T19:47:43.840Z"
   },
   {
    "duration": 99,
    "start_time": "2023-03-03T19:47:43.851Z"
   },
   {
    "duration": 10,
    "start_time": "2023-03-03T19:47:43.952Z"
   },
   {
    "duration": 17,
    "start_time": "2023-03-03T19:47:43.964Z"
   },
   {
    "duration": 19,
    "start_time": "2023-03-03T19:47:43.983Z"
   },
   {
    "duration": 1530,
    "start_time": "2023-03-03T19:48:39.125Z"
   },
   {
    "duration": 63,
    "start_time": "2023-03-03T19:48:40.657Z"
   },
   {
    "duration": 13,
    "start_time": "2023-03-03T19:48:40.722Z"
   },
   {
    "duration": 26,
    "start_time": "2023-03-03T19:48:40.741Z"
   },
   {
    "duration": 6,
    "start_time": "2023-03-03T19:48:40.769Z"
   },
   {
    "duration": 8,
    "start_time": "2023-03-03T19:48:40.776Z"
   },
   {
    "duration": 8,
    "start_time": "2023-03-03T19:48:40.785Z"
   },
   {
    "duration": 17,
    "start_time": "2023-03-03T19:48:40.794Z"
   },
   {
    "duration": 10,
    "start_time": "2023-03-03T19:48:40.813Z"
   },
   {
    "duration": 271,
    "start_time": "2023-03-03T19:48:40.825Z"
   },
   {
    "duration": 8,
    "start_time": "2023-03-03T19:48:41.098Z"
   },
   {
    "duration": 365,
    "start_time": "2023-03-03T19:48:41.107Z"
   },
   {
    "duration": 179,
    "start_time": "2023-03-03T19:48:41.473Z"
   },
   {
    "duration": 252,
    "start_time": "2023-03-03T19:48:41.654Z"
   },
   {
    "duration": 7,
    "start_time": "2023-03-03T19:48:41.908Z"
   },
   {
    "duration": 40,
    "start_time": "2023-03-03T19:48:41.916Z"
   },
   {
    "duration": 12,
    "start_time": "2023-03-03T19:48:41.958Z"
   },
   {
    "duration": 7,
    "start_time": "2023-03-03T19:48:41.973Z"
   },
   {
    "duration": 319,
    "start_time": "2023-03-03T19:48:41.982Z"
   },
   {
    "duration": 11,
    "start_time": "2023-03-03T19:48:42.304Z"
   },
   {
    "duration": 22,
    "start_time": "2023-03-03T19:48:42.317Z"
   },
   {
    "duration": 238,
    "start_time": "2023-03-03T19:48:42.351Z"
   },
   {
    "duration": 12,
    "start_time": "2023-03-03T19:48:42.591Z"
   },
   {
    "duration": 11,
    "start_time": "2023-03-03T19:48:42.604Z"
   },
   {
    "duration": 206,
    "start_time": "2023-03-03T19:48:42.617Z"
   },
   {
    "duration": 7,
    "start_time": "2023-03-03T19:48:42.824Z"
   },
   {
    "duration": 15,
    "start_time": "2023-03-03T19:48:42.841Z"
   },
   {
    "duration": 22,
    "start_time": "2023-03-03T19:48:42.861Z"
   },
   {
    "duration": 7,
    "start_time": "2023-03-03T19:48:42.885Z"
   },
   {
    "duration": 14,
    "start_time": "2023-03-03T19:48:42.893Z"
   },
   {
    "duration": 4,
    "start_time": "2023-03-03T19:48:42.909Z"
   },
   {
    "duration": 7,
    "start_time": "2023-03-03T19:48:42.915Z"
   },
   {
    "duration": 6,
    "start_time": "2023-03-03T19:48:42.943Z"
   },
   {
    "duration": 12,
    "start_time": "2023-03-03T19:48:42.951Z"
   },
   {
    "duration": 21,
    "start_time": "2023-03-03T19:48:42.965Z"
   },
   {
    "duration": 9,
    "start_time": "2023-03-03T19:48:42.988Z"
   },
   {
    "duration": 7,
    "start_time": "2023-03-03T19:48:42.999Z"
   },
   {
    "duration": 14,
    "start_time": "2023-03-03T19:48:43.007Z"
   },
   {
    "duration": 16,
    "start_time": "2023-03-03T19:48:43.023Z"
   },
   {
    "duration": 23,
    "start_time": "2023-03-03T19:48:43.046Z"
   },
   {
    "duration": 31,
    "start_time": "2023-03-03T19:48:43.071Z"
   },
   {
    "duration": 4,
    "start_time": "2023-03-03T19:48:43.105Z"
   },
   {
    "duration": 43,
    "start_time": "2023-03-03T19:48:43.111Z"
   },
   {
    "duration": 12,
    "start_time": "2023-03-03T19:48:43.156Z"
   },
   {
    "duration": 5,
    "start_time": "2023-03-03T19:48:43.171Z"
   },
   {
    "duration": 6,
    "start_time": "2023-03-03T19:48:43.178Z"
   },
   {
    "duration": 172338,
    "start_time": "2023-03-03T19:48:43.186Z"
   },
   {
    "duration": 20,
    "start_time": "2023-03-03T19:51:35.527Z"
   },
   {
    "duration": 16,
    "start_time": "2023-03-03T19:51:35.549Z"
   },
   {
    "duration": 30,
    "start_time": "2023-03-03T19:51:35.567Z"
   },
   {
    "duration": 5,
    "start_time": "2023-03-03T19:51:35.599Z"
   },
   {
    "duration": 8,
    "start_time": "2023-03-03T19:51:35.606Z"
   },
   {
    "duration": 9,
    "start_time": "2023-03-03T19:51:35.616Z"
   },
   {
    "duration": 44464,
    "start_time": "2023-03-03T19:51:35.627Z"
   },
   {
    "duration": 11,
    "start_time": "2023-03-03T19:52:20.093Z"
   },
   {
    "duration": 0,
    "start_time": "2023-03-03T19:52:20.106Z"
   },
   {
    "duration": 3,
    "start_time": "2023-03-03T19:56:04.598Z"
   },
   {
    "duration": 2,
    "start_time": "2023-03-03T19:56:04.799Z"
   },
   {
    "duration": 203619,
    "start_time": "2023-03-03T19:56:05.672Z"
   },
   {
    "duration": 5,
    "start_time": "2023-03-03T20:00:26.830Z"
   },
   {
    "duration": 4,
    "start_time": "2023-03-03T20:00:30.011Z"
   },
   {
    "duration": 69,
    "start_time": "2023-03-03T20:05:17.983Z"
   },
   {
    "duration": 1589,
    "start_time": "2023-03-03T20:05:52.753Z"
   },
   {
    "duration": 54,
    "start_time": "2023-03-03T20:05:54.344Z"
   },
   {
    "duration": 12,
    "start_time": "2023-03-03T20:05:54.400Z"
   },
   {
    "duration": 13,
    "start_time": "2023-03-03T20:05:54.414Z"
   },
   {
    "duration": 6,
    "start_time": "2023-03-03T20:05:54.428Z"
   },
   {
    "duration": 25,
    "start_time": "2023-03-03T20:05:54.436Z"
   },
   {
    "duration": 16,
    "start_time": "2023-03-03T20:05:54.462Z"
   },
   {
    "duration": 18,
    "start_time": "2023-03-03T20:05:54.480Z"
   },
   {
    "duration": 9,
    "start_time": "2023-03-03T20:05:54.500Z"
   },
   {
    "duration": 276,
    "start_time": "2023-03-03T20:05:54.512Z"
   },
   {
    "duration": 8,
    "start_time": "2023-03-03T20:05:54.791Z"
   },
   {
    "duration": 365,
    "start_time": "2023-03-03T20:05:54.801Z"
   },
   {
    "duration": 185,
    "start_time": "2023-03-03T20:05:55.169Z"
   },
   {
    "duration": 283,
    "start_time": "2023-03-03T20:05:55.356Z"
   },
   {
    "duration": 8,
    "start_time": "2023-03-03T20:05:55.651Z"
   },
   {
    "duration": 10,
    "start_time": "2023-03-03T20:05:55.661Z"
   },
   {
    "duration": 23,
    "start_time": "2023-03-03T20:05:55.673Z"
   },
   {
    "duration": 10,
    "start_time": "2023-03-03T20:05:55.698Z"
   },
   {
    "duration": 345,
    "start_time": "2023-03-03T20:05:55.710Z"
   },
   {
    "duration": 11,
    "start_time": "2023-03-03T20:05:56.057Z"
   },
   {
    "duration": 12,
    "start_time": "2023-03-03T20:05:56.070Z"
   },
   {
    "duration": 199,
    "start_time": "2023-03-03T20:05:56.084Z"
   },
   {
    "duration": 11,
    "start_time": "2023-03-03T20:05:56.284Z"
   },
   {
    "duration": 11,
    "start_time": "2023-03-03T20:05:56.297Z"
   },
   {
    "duration": 209,
    "start_time": "2023-03-03T20:05:56.310Z"
   },
   {
    "duration": 5,
    "start_time": "2023-03-03T20:05:56.520Z"
   },
   {
    "duration": 178,
    "start_time": "2023-03-03T20:05:56.527Z"
   },
   {
    "duration": 21,
    "start_time": "2023-03-03T20:05:56.709Z"
   },
   {
    "duration": 12,
    "start_time": "2023-03-03T20:05:56.732Z"
   },
   {
    "duration": 29,
    "start_time": "2023-03-03T20:05:56.745Z"
   },
   {
    "duration": 13,
    "start_time": "2023-03-03T20:05:56.776Z"
   },
   {
    "duration": 16,
    "start_time": "2023-03-03T20:05:56.791Z"
   },
   {
    "duration": 9,
    "start_time": "2023-03-03T20:05:56.809Z"
   },
   {
    "duration": 7,
    "start_time": "2023-03-03T20:05:56.821Z"
   },
   {
    "duration": 22,
    "start_time": "2023-03-03T20:05:56.830Z"
   },
   {
    "duration": 11,
    "start_time": "2023-03-03T20:05:56.854Z"
   },
   {
    "duration": 30,
    "start_time": "2023-03-03T20:05:56.868Z"
   },
   {
    "duration": 16,
    "start_time": "2023-03-03T20:05:56.900Z"
   },
   {
    "duration": 18,
    "start_time": "2023-03-03T20:05:56.918Z"
   },
   {
    "duration": 23,
    "start_time": "2023-03-03T20:05:56.939Z"
   },
   {
    "duration": 29,
    "start_time": "2023-03-03T20:05:56.964Z"
   },
   {
    "duration": 50,
    "start_time": "2023-03-03T20:05:56.995Z"
   },
   {
    "duration": 91,
    "start_time": "2023-03-03T20:05:57.050Z"
   },
   {
    "duration": 26,
    "start_time": "2023-03-03T20:05:57.144Z"
   },
   {
    "duration": 13,
    "start_time": "2023-03-03T20:05:57.172Z"
   },
   {
    "duration": 7,
    "start_time": "2023-03-03T20:05:57.187Z"
   },
   {
    "duration": 240903,
    "start_time": "2023-03-03T20:05:57.196Z"
   },
   {
    "duration": 5,
    "start_time": "2023-03-03T20:09:58.100Z"
   },
   {
    "duration": 16,
    "start_time": "2023-03-03T20:09:58.107Z"
   },
   {
    "duration": 94,
    "start_time": "2023-03-03T20:09:58.125Z"
   },
   {
    "duration": 3,
    "start_time": "2023-03-03T20:09:58.221Z"
   },
   {
    "duration": 20,
    "start_time": "2023-03-03T20:09:58.226Z"
   },
   {
    "duration": 36,
    "start_time": "2023-03-03T20:09:58.248Z"
   },
   {
    "duration": 1573,
    "start_time": "2023-03-03T20:14:25.711Z"
   },
   {
    "duration": 50,
    "start_time": "2023-03-03T20:14:27.286Z"
   },
   {
    "duration": 15,
    "start_time": "2023-03-03T20:14:27.337Z"
   },
   {
    "duration": 27,
    "start_time": "2023-03-03T20:14:27.354Z"
   },
   {
    "duration": 13,
    "start_time": "2023-03-03T20:14:27.382Z"
   },
   {
    "duration": 17,
    "start_time": "2023-03-03T20:14:27.397Z"
   },
   {
    "duration": 38,
    "start_time": "2023-03-03T20:14:27.416Z"
   },
   {
    "duration": 18,
    "start_time": "2023-03-03T20:14:27.456Z"
   },
   {
    "duration": 13,
    "start_time": "2023-03-03T20:14:27.475Z"
   },
   {
    "duration": 292,
    "start_time": "2023-03-03T20:14:27.490Z"
   },
   {
    "duration": 8,
    "start_time": "2023-03-03T20:14:27.784Z"
   },
   {
    "duration": 363,
    "start_time": "2023-03-03T20:14:27.794Z"
   },
   {
    "duration": 204,
    "start_time": "2023-03-03T20:14:28.160Z"
   },
   {
    "duration": 266,
    "start_time": "2023-03-03T20:14:28.366Z"
   },
   {
    "duration": 12,
    "start_time": "2023-03-03T20:14:28.633Z"
   },
   {
    "duration": 27,
    "start_time": "2023-03-03T20:14:28.652Z"
   },
   {
    "duration": 19,
    "start_time": "2023-03-03T20:14:28.681Z"
   },
   {
    "duration": 11,
    "start_time": "2023-03-03T20:14:28.702Z"
   },
   {
    "duration": 325,
    "start_time": "2023-03-03T20:14:28.714Z"
   },
   {
    "duration": 17,
    "start_time": "2023-03-03T20:14:29.041Z"
   },
   {
    "duration": 20,
    "start_time": "2023-03-03T20:14:29.059Z"
   },
   {
    "duration": 187,
    "start_time": "2023-03-03T20:14:29.080Z"
   },
   {
    "duration": 11,
    "start_time": "2023-03-03T20:14:29.268Z"
   },
   {
    "duration": 12,
    "start_time": "2023-03-03T20:14:29.281Z"
   },
   {
    "duration": 195,
    "start_time": "2023-03-03T20:14:29.295Z"
   },
   {
    "duration": 5,
    "start_time": "2023-03-03T20:14:29.492Z"
   },
   {
    "duration": 24,
    "start_time": "2023-03-03T20:14:29.499Z"
   },
   {
    "duration": 43,
    "start_time": "2023-03-03T20:14:29.541Z"
   },
   {
    "duration": 9,
    "start_time": "2023-03-03T20:14:29.586Z"
   },
   {
    "duration": 19,
    "start_time": "2023-03-03T20:14:29.597Z"
   },
   {
    "duration": 11,
    "start_time": "2023-03-03T20:14:29.618Z"
   },
   {
    "duration": 22,
    "start_time": "2023-03-03T20:14:29.630Z"
   },
   {
    "duration": 18,
    "start_time": "2023-03-03T20:14:29.654Z"
   },
   {
    "duration": 12,
    "start_time": "2023-03-03T20:14:29.674Z"
   },
   {
    "duration": 13,
    "start_time": "2023-03-03T20:14:29.688Z"
   },
   {
    "duration": 8,
    "start_time": "2023-03-03T20:14:29.703Z"
   },
   {
    "duration": 17,
    "start_time": "2023-03-03T20:14:29.712Z"
   },
   {
    "duration": 15,
    "start_time": "2023-03-03T20:14:29.731Z"
   },
   {
    "duration": 24,
    "start_time": "2023-03-03T20:14:29.748Z"
   },
   {
    "duration": 10,
    "start_time": "2023-03-03T20:14:29.774Z"
   },
   {
    "duration": 34,
    "start_time": "2023-03-03T20:14:29.786Z"
   },
   {
    "duration": 24,
    "start_time": "2023-03-03T20:14:29.822Z"
   },
   {
    "duration": 100,
    "start_time": "2023-03-03T20:14:29.848Z"
   },
   {
    "duration": 14,
    "start_time": "2023-03-03T20:14:29.950Z"
   },
   {
    "duration": 11,
    "start_time": "2023-03-03T20:14:29.966Z"
   },
   {
    "duration": 9,
    "start_time": "2023-03-03T20:14:29.979Z"
   },
   {
    "duration": 104737,
    "start_time": "2023-03-03T20:14:29.990Z"
   },
   {
    "duration": 25,
    "start_time": "2023-03-03T20:16:14.729Z"
   },
   {
    "duration": 0,
    "start_time": "2023-03-03T20:16:14.756Z"
   },
   {
    "duration": 0,
    "start_time": "2023-03-03T20:16:14.758Z"
   },
   {
    "duration": 0,
    "start_time": "2023-03-03T20:16:14.759Z"
   },
   {
    "duration": 0,
    "start_time": "2023-03-03T20:16:14.761Z"
   },
   {
    "duration": 0,
    "start_time": "2023-03-03T20:16:14.763Z"
   },
   {
    "duration": 0,
    "start_time": "2023-03-03T20:16:14.764Z"
   },
   {
    "duration": 0,
    "start_time": "2023-03-03T20:16:14.765Z"
   },
   {
    "duration": 0,
    "start_time": "2023-03-03T20:16:14.767Z"
   },
   {
    "duration": 1845,
    "start_time": "2023-03-03T20:16:34.360Z"
   },
   {
    "duration": 56,
    "start_time": "2023-03-03T20:16:36.207Z"
   },
   {
    "duration": 15,
    "start_time": "2023-03-03T20:16:36.265Z"
   },
   {
    "duration": 14,
    "start_time": "2023-03-03T20:16:36.282Z"
   },
   {
    "duration": 9,
    "start_time": "2023-03-03T20:16:36.299Z"
   },
   {
    "duration": 35,
    "start_time": "2023-03-03T20:16:36.310Z"
   },
   {
    "duration": 20,
    "start_time": "2023-03-03T20:16:36.348Z"
   },
   {
    "duration": 26,
    "start_time": "2023-03-03T20:16:36.371Z"
   },
   {
    "duration": 8,
    "start_time": "2023-03-03T20:16:36.400Z"
   },
   {
    "duration": 289,
    "start_time": "2023-03-03T20:16:36.410Z"
   },
   {
    "duration": 8,
    "start_time": "2023-03-03T20:16:36.701Z"
   },
   {
    "duration": 373,
    "start_time": "2023-03-03T20:16:36.713Z"
   },
   {
    "duration": 188,
    "start_time": "2023-03-03T20:16:37.088Z"
   },
   {
    "duration": 294,
    "start_time": "2023-03-03T20:16:37.280Z"
   },
   {
    "duration": 7,
    "start_time": "2023-03-03T20:16:37.575Z"
   },
   {
    "duration": 21,
    "start_time": "2023-03-03T20:16:37.584Z"
   },
   {
    "duration": 17,
    "start_time": "2023-03-03T20:16:37.607Z"
   },
   {
    "duration": 13,
    "start_time": "2023-03-03T20:16:37.626Z"
   },
   {
    "duration": 356,
    "start_time": "2023-03-03T20:16:37.646Z"
   },
   {
    "duration": 12,
    "start_time": "2023-03-03T20:16:38.003Z"
   },
   {
    "duration": 34,
    "start_time": "2023-03-03T20:16:38.017Z"
   },
   {
    "duration": 234,
    "start_time": "2023-03-03T20:16:38.053Z"
   },
   {
    "duration": 12,
    "start_time": "2023-03-03T20:16:38.289Z"
   },
   {
    "duration": 15,
    "start_time": "2023-03-03T20:16:38.303Z"
   },
   {
    "duration": 234,
    "start_time": "2023-03-03T20:16:38.320Z"
   },
   {
    "duration": 4,
    "start_time": "2023-03-03T20:16:38.556Z"
   },
   {
    "duration": 38,
    "start_time": "2023-03-03T20:16:38.562Z"
   },
   {
    "duration": 24,
    "start_time": "2023-03-03T20:16:38.602Z"
   },
   {
    "duration": 6,
    "start_time": "2023-03-03T20:16:38.628Z"
   },
   {
    "duration": 39,
    "start_time": "2023-03-03T20:16:38.636Z"
   },
   {
    "duration": 7,
    "start_time": "2023-03-03T20:16:38.677Z"
   },
   {
    "duration": 8,
    "start_time": "2023-03-03T20:16:38.685Z"
   },
   {
    "duration": 7,
    "start_time": "2023-03-03T20:16:38.695Z"
   },
   {
    "duration": 13,
    "start_time": "2023-03-03T20:16:38.704Z"
   },
   {
    "duration": 13,
    "start_time": "2023-03-03T20:16:38.719Z"
   },
   {
    "duration": 21,
    "start_time": "2023-03-03T20:16:38.733Z"
   },
   {
    "duration": 4,
    "start_time": "2023-03-03T20:16:38.756Z"
   },
   {
    "duration": 23,
    "start_time": "2023-03-03T20:16:38.762Z"
   },
   {
    "duration": 33,
    "start_time": "2023-03-03T20:16:38.787Z"
   },
   {
    "duration": 4,
    "start_time": "2023-03-03T20:16:38.821Z"
   },
   {
    "duration": 112,
    "start_time": "2023-03-03T20:16:38.830Z"
   },
   {
    "duration": 5,
    "start_time": "2023-03-03T20:16:38.944Z"
   },
   {
    "duration": 92,
    "start_time": "2023-03-03T20:16:38.954Z"
   },
   {
    "duration": 17,
    "start_time": "2023-03-03T20:16:39.047Z"
   },
   {
    "duration": 9,
    "start_time": "2023-03-03T20:16:39.066Z"
   },
   {
    "duration": 8,
    "start_time": "2023-03-03T20:16:39.077Z"
   },
   {
    "duration": 34459,
    "start_time": "2023-03-03T20:16:39.086Z"
   },
   {
    "duration": 12,
    "start_time": "2023-03-03T20:17:13.552Z"
   },
   {
    "duration": 0,
    "start_time": "2023-03-03T20:17:13.566Z"
   },
   {
    "duration": 0,
    "start_time": "2023-03-03T20:17:13.568Z"
   },
   {
    "duration": 0,
    "start_time": "2023-03-03T20:17:13.569Z"
   },
   {
    "duration": 0,
    "start_time": "2023-03-03T20:17:13.571Z"
   },
   {
    "duration": 0,
    "start_time": "2023-03-03T20:17:13.572Z"
   },
   {
    "duration": 0,
    "start_time": "2023-03-03T20:17:13.574Z"
   },
   {
    "duration": 0,
    "start_time": "2023-03-03T20:17:13.575Z"
   },
   {
    "duration": 0,
    "start_time": "2023-03-03T20:17:13.576Z"
   },
   {
    "duration": 0,
    "start_time": "2023-03-03T20:17:13.579Z"
   },
   {
    "duration": 5,
    "start_time": "2023-03-03T20:17:15.061Z"
   },
   {
    "duration": 4,
    "start_time": "2023-03-03T20:17:44.908Z"
   },
   {
    "duration": 7,
    "start_time": "2023-03-03T20:17:51.420Z"
   },
   {
    "duration": 1504,
    "start_time": "2023-03-03T20:19:10.004Z"
   },
   {
    "duration": 54,
    "start_time": "2023-03-03T20:19:11.510Z"
   },
   {
    "duration": 12,
    "start_time": "2023-03-03T20:19:11.566Z"
   },
   {
    "duration": 10,
    "start_time": "2023-03-03T20:19:11.580Z"
   },
   {
    "duration": 6,
    "start_time": "2023-03-03T20:19:11.592Z"
   },
   {
    "duration": 5,
    "start_time": "2023-03-03T20:19:11.599Z"
   },
   {
    "duration": 7,
    "start_time": "2023-03-03T20:19:11.606Z"
   },
   {
    "duration": 25,
    "start_time": "2023-03-03T20:19:11.637Z"
   },
   {
    "duration": 7,
    "start_time": "2023-03-03T20:19:11.664Z"
   },
   {
    "duration": 254,
    "start_time": "2023-03-03T20:19:11.672Z"
   },
   {
    "duration": 17,
    "start_time": "2023-03-03T20:19:11.927Z"
   },
   {
    "duration": 338,
    "start_time": "2023-03-03T20:19:11.946Z"
   },
   {
    "duration": 195,
    "start_time": "2023-03-03T20:19:12.286Z"
   },
   {
    "duration": 281,
    "start_time": "2023-03-03T20:19:12.486Z"
   },
   {
    "duration": 8,
    "start_time": "2023-03-03T20:19:12.768Z"
   },
   {
    "duration": 8,
    "start_time": "2023-03-03T20:19:12.778Z"
   },
   {
    "duration": 11,
    "start_time": "2023-03-03T20:19:12.788Z"
   },
   {
    "duration": 8,
    "start_time": "2023-03-03T20:19:12.801Z"
   },
   {
    "duration": 330,
    "start_time": "2023-03-03T20:19:12.838Z"
   },
   {
    "duration": 11,
    "start_time": "2023-03-03T20:19:13.170Z"
   },
   {
    "duration": 10,
    "start_time": "2023-03-03T20:19:13.183Z"
   },
   {
    "duration": 206,
    "start_time": "2023-03-03T20:19:13.195Z"
   },
   {
    "duration": 13,
    "start_time": "2023-03-03T20:19:13.403Z"
   },
   {
    "duration": 34,
    "start_time": "2023-03-03T20:19:13.417Z"
   },
   {
    "duration": 181,
    "start_time": "2023-03-03T20:19:13.453Z"
   },
   {
    "duration": 8,
    "start_time": "2023-03-03T20:19:13.636Z"
   },
   {
    "duration": 19,
    "start_time": "2023-03-03T20:19:13.653Z"
   },
   {
    "duration": 27,
    "start_time": "2023-03-03T20:19:13.674Z"
   },
   {
    "duration": 6,
    "start_time": "2023-03-03T20:19:13.703Z"
   },
   {
    "duration": 13,
    "start_time": "2023-03-03T20:19:13.711Z"
   },
   {
    "duration": 6,
    "start_time": "2023-03-03T20:19:13.725Z"
   },
   {
    "duration": 7,
    "start_time": "2023-03-03T20:19:13.733Z"
   },
   {
    "duration": 19,
    "start_time": "2023-03-03T20:19:13.742Z"
   },
   {
    "duration": 10,
    "start_time": "2023-03-03T20:19:13.763Z"
   },
   {
    "duration": 17,
    "start_time": "2023-03-03T20:19:13.775Z"
   },
   {
    "duration": 7,
    "start_time": "2023-03-03T20:19:13.794Z"
   },
   {
    "duration": 4,
    "start_time": "2023-03-03T20:19:13.803Z"
   },
   {
    "duration": 5,
    "start_time": "2023-03-03T20:19:13.809Z"
   },
   {
    "duration": 11,
    "start_time": "2023-03-03T20:19:13.815Z"
   },
   {
    "duration": 2,
    "start_time": "2023-03-03T20:19:13.828Z"
   },
   {
    "duration": 29,
    "start_time": "2023-03-03T20:19:13.834Z"
   },
   {
    "duration": 4,
    "start_time": "2023-03-03T20:19:13.865Z"
   },
   {
    "duration": 11,
    "start_time": "2023-03-03T20:19:13.871Z"
   },
   {
    "duration": 61,
    "start_time": "2023-03-03T20:19:13.884Z"
   },
   {
    "duration": 18,
    "start_time": "2023-03-03T20:19:13.947Z"
   },
   {
    "duration": 6,
    "start_time": "2023-03-03T20:19:13.967Z"
   },
   {
    "duration": 10,
    "start_time": "2023-03-03T20:19:13.975Z"
   },
   {
    "duration": 199471,
    "start_time": "2023-03-03T20:19:13.986Z"
   },
   {
    "duration": 5,
    "start_time": "2023-03-03T20:22:33.459Z"
   },
   {
    "duration": 29,
    "start_time": "2023-03-03T20:22:33.466Z"
   },
   {
    "duration": 68,
    "start_time": "2023-03-03T20:22:33.497Z"
   },
   {
    "duration": 3,
    "start_time": "2023-03-03T20:22:33.567Z"
   },
   {
    "duration": 17,
    "start_time": "2023-03-03T20:22:33.571Z"
   },
   {
    "duration": 31,
    "start_time": "2023-03-03T20:22:33.589Z"
   },
   {
    "duration": 216832,
    "start_time": "2023-03-03T20:22:33.622Z"
   },
   {
    "duration": 9,
    "start_time": "2023-03-03T20:26:10.456Z"
   },
   {
    "duration": 0,
    "start_time": "2023-03-03T20:26:10.467Z"
   },
   {
    "duration": 5,
    "start_time": "2023-03-03T20:38:14.153Z"
   },
   {
    "duration": 94,
    "start_time": "2023-03-03T20:39:07.135Z"
   },
   {
    "duration": 209149,
    "start_time": "2023-03-03T20:39:36.722Z"
   },
   {
    "duration": 671945,
    "start_time": "2023-03-03T20:44:18.292Z"
   },
   {
    "duration": 650523,
    "start_time": "2023-03-03T20:56:12.919Z"
   },
   {
    "duration": 11,
    "start_time": "2023-03-03T21:07:15.808Z"
   },
   {
    "duration": 1681,
    "start_time": "2023-03-04T07:40:56.235Z"
   },
   {
    "duration": 117,
    "start_time": "2023-03-04T07:40:57.918Z"
   },
   {
    "duration": 10,
    "start_time": "2023-03-04T07:40:58.039Z"
   },
   {
    "duration": 12,
    "start_time": "2023-03-04T07:40:58.051Z"
   },
   {
    "duration": 5,
    "start_time": "2023-03-04T07:40:58.065Z"
   },
   {
    "duration": 19,
    "start_time": "2023-03-04T07:40:58.071Z"
   },
   {
    "duration": 9,
    "start_time": "2023-03-04T07:40:58.091Z"
   },
   {
    "duration": 18,
    "start_time": "2023-03-04T07:40:58.101Z"
   },
   {
    "duration": 6,
    "start_time": "2023-03-04T07:40:58.121Z"
   },
   {
    "duration": 224,
    "start_time": "2023-03-04T07:40:58.128Z"
   },
   {
    "duration": 7,
    "start_time": "2023-03-04T07:40:58.354Z"
   },
   {
    "duration": 287,
    "start_time": "2023-03-04T07:40:58.362Z"
   },
   {
    "duration": 141,
    "start_time": "2023-03-04T07:40:58.650Z"
   },
   {
    "duration": 216,
    "start_time": "2023-03-04T07:40:58.792Z"
   },
   {
    "duration": 6,
    "start_time": "2023-03-04T07:40:59.010Z"
   },
   {
    "duration": 10,
    "start_time": "2023-03-04T07:40:59.017Z"
   },
   {
    "duration": 26,
    "start_time": "2023-03-04T07:40:59.029Z"
   },
   {
    "duration": 17,
    "start_time": "2023-03-04T07:40:59.057Z"
   },
   {
    "duration": 288,
    "start_time": "2023-03-04T07:40:59.075Z"
   },
   {
    "duration": 9,
    "start_time": "2023-03-04T07:40:59.365Z"
   },
   {
    "duration": 16,
    "start_time": "2023-03-04T07:40:59.376Z"
   },
   {
    "duration": 163,
    "start_time": "2023-03-04T07:40:59.393Z"
   },
   {
    "duration": 9,
    "start_time": "2023-03-04T07:40:59.558Z"
   },
   {
    "duration": 31,
    "start_time": "2023-03-04T07:40:59.569Z"
   },
   {
    "duration": 155,
    "start_time": "2023-03-04T07:40:59.602Z"
   },
   {
    "duration": 4,
    "start_time": "2023-03-04T07:40:59.759Z"
   },
   {
    "duration": 27,
    "start_time": "2023-03-04T07:40:59.766Z"
   },
   {
    "duration": 40,
    "start_time": "2023-03-04T07:40:59.794Z"
   },
   {
    "duration": 26,
    "start_time": "2023-03-04T07:40:59.836Z"
   },
   {
    "duration": 18,
    "start_time": "2023-03-04T07:40:59.863Z"
   },
   {
    "duration": 8,
    "start_time": "2023-03-04T07:40:59.883Z"
   },
   {
    "duration": 13,
    "start_time": "2023-03-04T07:40:59.892Z"
   },
   {
    "duration": 4,
    "start_time": "2023-03-04T07:40:59.907Z"
   },
   {
    "duration": 5,
    "start_time": "2023-03-04T07:40:59.913Z"
   },
   {
    "duration": 5,
    "start_time": "2023-03-04T07:40:59.919Z"
   },
   {
    "duration": 25,
    "start_time": "2023-03-04T07:40:59.925Z"
   },
   {
    "duration": 7,
    "start_time": "2023-03-04T07:40:59.951Z"
   },
   {
    "duration": 6,
    "start_time": "2023-03-04T07:40:59.960Z"
   },
   {
    "duration": 4,
    "start_time": "2023-03-04T07:40:59.967Z"
   },
   {
    "duration": 9,
    "start_time": "2023-03-04T07:40:59.972Z"
   },
   {
    "duration": 5,
    "start_time": "2023-03-04T07:40:59.982Z"
   },
   {
    "duration": 5,
    "start_time": "2023-03-04T07:40:59.988Z"
   },
   {
    "duration": 165,
    "start_time": "2023-03-04T07:40:59.994Z"
   },
   {
    "duration": 198,
    "start_time": "2023-03-04T07:41:00.161Z"
   },
   {
    "duration": 0,
    "start_time": "2023-03-04T07:41:00.360Z"
   },
   {
    "duration": 0,
    "start_time": "2023-03-04T07:41:00.362Z"
   },
   {
    "duration": 0,
    "start_time": "2023-03-04T07:41:00.363Z"
   },
   {
    "duration": 0,
    "start_time": "2023-03-04T07:41:00.364Z"
   },
   {
    "duration": 0,
    "start_time": "2023-03-04T07:41:00.364Z"
   },
   {
    "duration": 0,
    "start_time": "2023-03-04T07:41:00.365Z"
   },
   {
    "duration": 0,
    "start_time": "2023-03-04T07:41:00.366Z"
   },
   {
    "duration": 0,
    "start_time": "2023-03-04T07:41:00.367Z"
   },
   {
    "duration": 0,
    "start_time": "2023-03-04T07:41:00.368Z"
   },
   {
    "duration": 0,
    "start_time": "2023-03-04T07:41:00.370Z"
   },
   {
    "duration": 0,
    "start_time": "2023-03-04T07:41:00.371Z"
   },
   {
    "duration": 0,
    "start_time": "2023-03-04T07:41:00.372Z"
   },
   {
    "duration": 0,
    "start_time": "2023-03-04T07:41:00.373Z"
   },
   {
    "duration": 0,
    "start_time": "2023-03-04T07:41:00.374Z"
   },
   {
    "duration": 0,
    "start_time": "2023-03-04T07:41:00.375Z"
   },
   {
    "duration": 0,
    "start_time": "2023-03-04T07:41:00.376Z"
   },
   {
    "duration": 0,
    "start_time": "2023-03-04T07:41:00.377Z"
   },
   {
    "duration": 0,
    "start_time": "2023-03-04T07:41:00.378Z"
   },
   {
    "duration": 0,
    "start_time": "2023-03-04T07:41:00.379Z"
   },
   {
    "duration": 0,
    "start_time": "2023-03-04T07:41:00.380Z"
   },
   {
    "duration": 0,
    "start_time": "2023-03-04T07:41:00.381Z"
   },
   {
    "duration": 0,
    "start_time": "2023-03-04T07:41:00.382Z"
   },
   {
    "duration": 6,
    "start_time": "2023-03-04T07:41:08.689Z"
   },
   {
    "duration": 10,
    "start_time": "2023-03-04T07:41:08.901Z"
   },
   {
    "duration": 4,
    "start_time": "2023-03-04T07:41:17.426Z"
   },
   {
    "duration": 13,
    "start_time": "2023-03-04T07:41:19.386Z"
   },
   {
    "duration": 8,
    "start_time": "2023-03-04T07:41:29.625Z"
   },
   {
    "duration": 4,
    "start_time": "2023-03-04T08:03:58.607Z"
   },
   {
    "duration": 11,
    "start_time": "2023-03-04T08:06:41.833Z"
   },
   {
    "duration": 11,
    "start_time": "2023-03-04T08:07:04.739Z"
   },
   {
    "duration": 2,
    "start_time": "2023-03-04T08:09:47.078Z"
   },
   {
    "duration": 2,
    "start_time": "2023-03-04T08:09:47.243Z"
   },
   {
    "duration": 2,
    "start_time": "2023-03-04T08:09:47.392Z"
   },
   {
    "duration": 167179,
    "start_time": "2023-03-04T08:09:47.565Z"
   },
   {
    "duration": 4,
    "start_time": "2023-03-04T08:12:34.749Z"
   },
   {
    "duration": 8,
    "start_time": "2023-03-04T08:12:34.754Z"
   },
   {
    "duration": 55,
    "start_time": "2023-03-04T08:13:45.683Z"
   },
   {
    "duration": 12,
    "start_time": "2023-03-04T08:14:13.127Z"
   },
   {
    "duration": 2,
    "start_time": "2023-03-04T08:14:51.175Z"
   },
   {
    "duration": 4,
    "start_time": "2023-03-04T08:14:51.327Z"
   },
   {
    "duration": 3,
    "start_time": "2023-03-04T08:14:51.495Z"
   },
   {
    "duration": 167849,
    "start_time": "2023-03-04T08:14:51.672Z"
   },
   {
    "duration": 5,
    "start_time": "2023-03-04T08:17:39.523Z"
   },
   {
    "duration": 22,
    "start_time": "2023-03-04T08:17:39.529Z"
   },
   {
    "duration": 3,
    "start_time": "2023-03-04T08:26:53.120Z"
   },
   {
    "duration": 3,
    "start_time": "2023-03-04T08:26:53.299Z"
   },
   {
    "duration": 4,
    "start_time": "2023-03-04T08:26:53.470Z"
   },
   {
    "duration": 266565,
    "start_time": "2023-03-04T08:26:53.803Z"
   },
   {
    "duration": 6,
    "start_time": "2023-03-04T08:31:20.372Z"
   },
   {
    "duration": 87,
    "start_time": "2023-03-04T08:40:35.735Z"
   },
   {
    "duration": 6,
    "start_time": "2023-03-04T08:40:39.110Z"
   },
   {
    "duration": 3,
    "start_time": "2023-03-04T08:40:39.261Z"
   },
   {
    "duration": 2,
    "start_time": "2023-03-04T08:40:39.399Z"
   },
   {
    "duration": 3,
    "start_time": "2023-03-04T08:40:39.679Z"
   },
   {
    "duration": 9607,
    "start_time": "2023-03-04T08:40:39.835Z"
   },
   {
    "duration": 10,
    "start_time": "2023-03-04T08:40:49.445Z"
   },
   {
    "duration": 0,
    "start_time": "2023-03-04T08:40:49.456Z"
   },
   {
    "duration": 763763,
    "start_time": "2023-03-04T08:41:05.493Z"
   },
   {
    "duration": 3,
    "start_time": "2023-03-04T08:57:53.783Z"
   },
   {
    "duration": 641,
    "start_time": "2023-03-04T08:58:14.413Z"
   },
   {
    "duration": 3,
    "start_time": "2023-03-04T08:58:39.259Z"
   },
   {
    "duration": 488,
    "start_time": "2023-03-04T08:58:39.470Z"
   },
   {
    "duration": 10,
    "start_time": "2023-03-04T08:59:03.096Z"
   },
   {
    "duration": 3,
    "start_time": "2023-03-04T09:09:18.194Z"
   },
   {
    "duration": 3,
    "start_time": "2023-03-04T09:09:31.296Z"
   },
   {
    "duration": 3,
    "start_time": "2023-03-04T09:09:32.913Z"
   },
   {
    "duration": 3733,
    "start_time": "2023-03-04T09:09:33.420Z"
   },
   {
    "duration": 63878,
    "start_time": "2023-03-04T09:10:08.378Z"
   },
   {
    "duration": 1603,
    "start_time": "2023-03-04T12:22:28.371Z"
   },
   {
    "duration": 108,
    "start_time": "2023-03-04T12:22:29.977Z"
   },
   {
    "duration": 12,
    "start_time": "2023-03-04T12:22:30.086Z"
   },
   {
    "duration": 17,
    "start_time": "2023-03-04T12:22:30.100Z"
   },
   {
    "duration": 6,
    "start_time": "2023-03-04T12:22:30.119Z"
   },
   {
    "duration": 6,
    "start_time": "2023-03-04T12:22:30.127Z"
   },
   {
    "duration": 29,
    "start_time": "2023-03-04T12:22:30.135Z"
   },
   {
    "duration": 36,
    "start_time": "2023-03-04T12:22:30.165Z"
   },
   {
    "duration": 16,
    "start_time": "2023-03-04T12:22:30.203Z"
   },
   {
    "duration": 265,
    "start_time": "2023-03-04T12:22:30.222Z"
   },
   {
    "duration": 11,
    "start_time": "2023-03-04T12:22:30.489Z"
   },
   {
    "duration": 396,
    "start_time": "2023-03-04T12:22:30.502Z"
   },
   {
    "duration": 181,
    "start_time": "2023-03-04T12:22:30.899Z"
   },
   {
    "duration": 273,
    "start_time": "2023-03-04T12:22:31.083Z"
   },
   {
    "duration": 7,
    "start_time": "2023-03-04T12:22:31.358Z"
   },
   {
    "duration": 25,
    "start_time": "2023-03-04T12:22:31.366Z"
   },
   {
    "duration": 35,
    "start_time": "2023-03-04T12:22:31.393Z"
   },
   {
    "duration": 27,
    "start_time": "2023-03-04T12:22:31.431Z"
   },
   {
    "duration": 355,
    "start_time": "2023-03-04T12:22:31.460Z"
   },
   {
    "duration": 26,
    "start_time": "2023-03-04T12:22:31.818Z"
   },
   {
    "duration": 24,
    "start_time": "2023-03-04T12:22:31.846Z"
   },
   {
    "duration": 262,
    "start_time": "2023-03-04T12:22:31.872Z"
   },
   {
    "duration": 12,
    "start_time": "2023-03-04T12:22:32.137Z"
   },
   {
    "duration": 62,
    "start_time": "2023-03-04T12:22:32.150Z"
   },
   {
    "duration": 193,
    "start_time": "2023-03-04T12:22:32.214Z"
   },
   {
    "duration": 4,
    "start_time": "2023-03-04T12:22:32.411Z"
   },
   {
    "duration": 98,
    "start_time": "2023-03-04T12:22:32.417Z"
   },
   {
    "duration": 40,
    "start_time": "2023-03-04T12:22:32.522Z"
   },
   {
    "duration": 65,
    "start_time": "2023-03-04T12:22:32.564Z"
   },
   {
    "duration": 71,
    "start_time": "2023-03-04T12:22:32.632Z"
   },
   {
    "duration": 40,
    "start_time": "2023-03-04T12:22:32.706Z"
   },
   {
    "duration": 49,
    "start_time": "2023-03-04T12:22:32.748Z"
   },
   {
    "duration": 33,
    "start_time": "2023-03-04T12:22:32.800Z"
   },
   {
    "duration": 18,
    "start_time": "2023-03-04T12:22:32.835Z"
   },
   {
    "duration": 20,
    "start_time": "2023-03-04T12:22:32.856Z"
   },
   {
    "duration": 10,
    "start_time": "2023-03-04T12:22:32.878Z"
   },
   {
    "duration": 12,
    "start_time": "2023-03-04T12:22:32.890Z"
   },
   {
    "duration": 26,
    "start_time": "2023-03-04T12:22:32.903Z"
   },
   {
    "duration": 26,
    "start_time": "2023-03-04T12:22:32.931Z"
   },
   {
    "duration": 45,
    "start_time": "2023-03-04T12:22:32.959Z"
   },
   {
    "duration": 28,
    "start_time": "2023-03-04T12:22:33.006Z"
   },
   {
    "duration": 40,
    "start_time": "2023-03-04T12:22:33.036Z"
   },
   {
    "duration": 277,
    "start_time": "2023-03-04T12:22:33.078Z"
   },
   {
    "duration": 9,
    "start_time": "2023-03-04T12:22:33.358Z"
   },
   {
    "duration": 71,
    "start_time": "2023-03-04T12:22:33.369Z"
   },
   {
    "duration": 30,
    "start_time": "2023-03-04T12:22:33.443Z"
   },
   {
    "duration": 38,
    "start_time": "2023-03-04T12:22:33.476Z"
   },
   {
    "duration": 48,
    "start_time": "2023-03-04T12:22:33.537Z"
   },
   {
    "duration": 22,
    "start_time": "2023-03-04T12:22:33.587Z"
   },
   {
    "duration": 15,
    "start_time": "2023-03-04T12:22:33.610Z"
   },
   {
    "duration": 191405,
    "start_time": "2023-03-04T12:22:33.626Z"
   },
   {
    "duration": 7,
    "start_time": "2023-03-04T12:25:45.032Z"
   },
   {
    "duration": 22,
    "start_time": "2023-03-04T12:25:45.041Z"
   },
   {
    "duration": 65,
    "start_time": "2023-03-04T12:25:45.065Z"
   },
   {
    "duration": 5,
    "start_time": "2023-03-04T12:25:45.132Z"
   },
   {
    "duration": 23,
    "start_time": "2023-03-04T12:25:45.139Z"
   },
   {
    "duration": 9,
    "start_time": "2023-03-04T12:25:45.163Z"
   },
   {
    "duration": 14,
    "start_time": "2023-03-04T12:25:45.174Z"
   },
   {
    "duration": 24857,
    "start_time": "2023-03-04T12:25:45.190Z"
   },
   {
    "duration": 6901,
    "start_time": "2023-03-04T12:26:10.049Z"
   },
   {
    "duration": 3,
    "start_time": "2023-03-04T12:26:16.951Z"
   },
   {
    "duration": 684,
    "start_time": "2023-03-04T12:26:16.955Z"
   },
   {
    "duration": 11,
    "start_time": "2023-03-04T12:26:17.640Z"
   },
   {
    "duration": 6,
    "start_time": "2023-03-04T12:26:17.653Z"
   },
   {
    "duration": 15,
    "start_time": "2023-03-04T12:26:17.661Z"
   },
   {
    "duration": 881,
    "start_time": "2023-03-04T12:26:17.678Z"
   },
   {
    "duration": 12,
    "start_time": "2023-03-04T12:26:18.639Z"
   },
   {
    "duration": 5,
    "start_time": "2023-03-04T12:31:56.197Z"
   },
   {
    "duration": 2,
    "start_time": "2023-03-04T12:38:10.375Z"
   },
   {
    "duration": 3,
    "start_time": "2023-03-04T12:38:13.888Z"
   },
   {
    "duration": 4,
    "start_time": "2023-03-04T12:38:14.266Z"
   },
   {
    "duration": 251312,
    "start_time": "2023-03-04T12:38:14.735Z"
   },
   {
    "duration": 4,
    "start_time": "2023-03-04T12:43:24.016Z"
   },
   {
    "duration": 4,
    "start_time": "2023-03-04T12:43:44.239Z"
   },
   {
    "duration": 4,
    "start_time": "2023-03-04T12:44:28.969Z"
   },
   {
    "duration": 3,
    "start_time": "2023-03-04T12:44:45.563Z"
   },
   {
    "duration": 4,
    "start_time": "2023-03-04T12:45:20.213Z"
   },
   {
    "duration": 3,
    "start_time": "2023-03-04T12:45:20.488Z"
   },
   {
    "duration": 12937,
    "start_time": "2023-03-04T12:45:21.178Z"
   },
   {
    "duration": 3,
    "start_time": "2023-03-04T12:45:54.104Z"
   },
   {
    "duration": 3,
    "start_time": "2023-03-04T12:45:54.398Z"
   },
   {
    "duration": 4,
    "start_time": "2023-03-04T12:45:54.782Z"
   },
   {
    "duration": 689918,
    "start_time": "2023-03-04T12:45:55.340Z"
   },
   {
    "duration": 4,
    "start_time": "2023-03-04T12:57:59.538Z"
   },
   {
    "duration": 4,
    "start_time": "2023-03-04T12:58:01.453Z"
   },
   {
    "duration": 4,
    "start_time": "2023-03-04T13:42:45.834Z"
   },
   {
    "duration": 4,
    "start_time": "2023-03-04T13:42:46.392Z"
   },
   {
    "duration": 119007,
    "start_time": "2023-03-04T13:42:46.728Z"
   },
   {
    "duration": 4,
    "start_time": "2023-03-04T13:44:57.119Z"
   },
   {
    "duration": 1443821,
    "start_time": "2023-03-04T13:44:57.328Z"
   },
   {
    "duration": 3,
    "start_time": "2023-03-04T14:09:12.040Z"
   },
   {
    "duration": 4,
    "start_time": "2023-03-04T14:09:12.342Z"
   },
   {
    "duration": 165777,
    "start_time": "2023-03-04T14:09:12.669Z"
   },
   {
    "duration": 4,
    "start_time": "2023-03-04T14:13:50.108Z"
   },
   {
    "duration": 16,
    "start_time": "2023-03-04T14:14:14.111Z"
   },
   {
    "duration": 5,
    "start_time": "2023-03-04T14:14:37.923Z"
   },
   {
    "duration": 4,
    "start_time": "2023-03-04T14:14:49.159Z"
   },
   {
    "duration": 3,
    "start_time": "2023-03-04T14:15:34.541Z"
   },
   {
    "duration": 2,
    "start_time": "2023-03-04T14:15:43.040Z"
   },
   {
    "duration": 3,
    "start_time": "2023-03-04T14:15:43.206Z"
   },
   {
    "duration": 75158,
    "start_time": "2023-03-04T14:15:43.592Z"
   },
   {
    "duration": 4,
    "start_time": "2023-03-04T14:18:16.916Z"
   },
   {
    "duration": 12,
    "start_time": "2023-03-04T14:18:18.190Z"
   },
   {
    "duration": 4,
    "start_time": "2023-03-04T14:18:34.779Z"
   },
   {
    "duration": 4,
    "start_time": "2023-03-04T14:33:38.410Z"
   },
   {
    "duration": 4,
    "start_time": "2023-03-04T14:33:42.379Z"
   },
   {
    "duration": 4,
    "start_time": "2023-03-04T14:33:42.783Z"
   },
   {
    "duration": 4028475,
    "start_time": "2023-03-04T14:33:43.183Z"
   },
   {
    "duration": 4277,
    "start_time": "2023-03-04T15:40:59.703Z"
   },
   {
    "duration": 1582,
    "start_time": "2023-03-04T15:41:09.939Z"
   },
   {
    "duration": 104,
    "start_time": "2023-03-04T15:41:11.523Z"
   },
   {
    "duration": 13,
    "start_time": "2023-03-04T15:41:11.629Z"
   },
   {
    "duration": 22,
    "start_time": "2023-03-04T15:41:11.645Z"
   },
   {
    "duration": 6,
    "start_time": "2023-03-04T15:41:11.670Z"
   },
   {
    "duration": 12,
    "start_time": "2023-03-04T15:41:11.678Z"
   },
   {
    "duration": 16,
    "start_time": "2023-03-04T15:41:11.692Z"
   },
   {
    "duration": 17,
    "start_time": "2023-03-04T15:41:11.710Z"
   },
   {
    "duration": 13,
    "start_time": "2023-03-04T15:41:11.730Z"
   },
   {
    "duration": 315,
    "start_time": "2023-03-04T15:41:11.746Z"
   },
   {
    "duration": 8,
    "start_time": "2023-03-04T15:41:12.064Z"
   },
   {
    "duration": 347,
    "start_time": "2023-03-04T15:41:12.074Z"
   },
   {
    "duration": 216,
    "start_time": "2023-03-04T15:41:12.423Z"
   },
   {
    "duration": 362,
    "start_time": "2023-03-04T15:41:12.642Z"
   },
   {
    "duration": 6,
    "start_time": "2023-03-04T15:41:13.006Z"
   },
   {
    "duration": 26,
    "start_time": "2023-03-04T15:41:13.014Z"
   },
   {
    "duration": 18,
    "start_time": "2023-03-04T15:41:13.042Z"
   },
   {
    "duration": 12,
    "start_time": "2023-03-04T15:41:13.062Z"
   },
   {
    "duration": 388,
    "start_time": "2023-03-04T15:41:13.076Z"
   },
   {
    "duration": 13,
    "start_time": "2023-03-04T15:41:13.465Z"
   },
   {
    "duration": 14,
    "start_time": "2023-03-04T15:41:13.480Z"
   },
   {
    "duration": 206,
    "start_time": "2023-03-04T15:41:13.496Z"
   },
   {
    "duration": 14,
    "start_time": "2023-03-04T15:41:13.704Z"
   },
   {
    "duration": 23,
    "start_time": "2023-03-04T15:41:13.720Z"
   },
   {
    "duration": 196,
    "start_time": "2023-03-04T15:41:13.744Z"
   },
   {
    "duration": 6,
    "start_time": "2023-03-04T15:41:13.942Z"
   },
   {
    "duration": 18,
    "start_time": "2023-03-04T15:41:13.951Z"
   },
   {
    "duration": 22,
    "start_time": "2023-03-04T15:41:13.975Z"
   },
   {
    "duration": 47,
    "start_time": "2023-03-04T15:41:13.998Z"
   },
   {
    "duration": 26,
    "start_time": "2023-03-04T15:41:14.047Z"
   },
   {
    "duration": 8,
    "start_time": "2023-03-04T15:41:14.076Z"
   },
   {
    "duration": 15,
    "start_time": "2023-03-04T15:41:14.085Z"
   },
   {
    "duration": 5,
    "start_time": "2023-03-04T15:41:14.102Z"
   },
   {
    "duration": 33,
    "start_time": "2023-03-04T15:41:14.109Z"
   },
   {
    "duration": 6,
    "start_time": "2023-03-04T15:41:14.144Z"
   },
   {
    "duration": 9,
    "start_time": "2023-03-04T15:41:14.152Z"
   },
   {
    "duration": 14,
    "start_time": "2023-03-04T15:41:14.163Z"
   },
   {
    "duration": 14,
    "start_time": "2023-03-04T15:41:14.179Z"
   },
   {
    "duration": 9,
    "start_time": "2023-03-04T15:41:14.195Z"
   },
   {
    "duration": 6,
    "start_time": "2023-03-04T15:41:14.206Z"
   },
   {
    "duration": 8,
    "start_time": "2023-03-04T15:41:14.214Z"
   },
   {
    "duration": 19,
    "start_time": "2023-03-04T15:41:14.224Z"
   },
   {
    "duration": 94,
    "start_time": "2023-03-04T15:41:14.245Z"
   },
   {
    "duration": 9,
    "start_time": "2023-03-04T15:41:14.342Z"
   },
   {
    "duration": 20,
    "start_time": "2023-03-04T15:41:14.354Z"
   },
   {
    "duration": 68,
    "start_time": "2023-03-04T15:41:14.378Z"
   },
   {
    "duration": 21,
    "start_time": "2023-03-04T15:41:14.448Z"
   },
   {
    "duration": 4,
    "start_time": "2023-03-04T15:41:14.472Z"
   },
   {
    "duration": 8,
    "start_time": "2023-03-04T15:41:14.479Z"
   },
   {
    "duration": 7,
    "start_time": "2023-03-04T15:41:14.489Z"
   },
   {
    "duration": 203774,
    "start_time": "2023-03-04T15:41:14.498Z"
   },
   {
    "duration": 5,
    "start_time": "2023-03-04T15:44:38.274Z"
   },
   {
    "duration": 39,
    "start_time": "2023-03-04T15:44:38.281Z"
   },
   {
    "duration": 111,
    "start_time": "2023-03-04T15:44:38.322Z"
   },
   {
    "duration": 7,
    "start_time": "2023-03-04T15:44:38.435Z"
   },
   {
    "duration": 42,
    "start_time": "2023-03-04T15:44:38.446Z"
   },
   {
    "duration": 40,
    "start_time": "2023-03-04T15:44:38.491Z"
   },
   {
    "duration": 100928,
    "start_time": "2023-03-04T15:44:38.533Z"
   },
   {
    "duration": 5,
    "start_time": "2023-03-04T15:46:19.464Z"
   },
   {
    "duration": 29,
    "start_time": "2023-03-04T15:46:19.472Z"
   },
   {
    "duration": 0,
    "start_time": "2023-03-04T15:46:19.503Z"
   },
   {
    "duration": 0,
    "start_time": "2023-03-04T15:46:19.505Z"
   },
   {
    "duration": 0,
    "start_time": "2023-03-04T15:46:19.506Z"
   },
   {
    "duration": 0,
    "start_time": "2023-03-04T15:46:19.507Z"
   },
   {
    "duration": 0,
    "start_time": "2023-03-04T15:46:19.509Z"
   },
   {
    "duration": 0,
    "start_time": "2023-03-04T15:46:19.510Z"
   },
   {
    "duration": 0,
    "start_time": "2023-03-04T15:46:19.512Z"
   },
   {
    "duration": 0,
    "start_time": "2023-03-04T15:46:19.514Z"
   },
   {
    "duration": 0,
    "start_time": "2023-03-04T15:46:19.515Z"
   },
   {
    "duration": 0,
    "start_time": "2023-03-04T15:46:19.517Z"
   },
   {
    "duration": 1,
    "start_time": "2023-03-04T15:46:19.518Z"
   },
   {
    "duration": 0,
    "start_time": "2023-03-04T15:46:19.538Z"
   },
   {
    "duration": 0,
    "start_time": "2023-03-04T15:46:19.539Z"
   },
   {
    "duration": 0,
    "start_time": "2023-03-04T15:46:19.540Z"
   },
   {
    "duration": 4,
    "start_time": "2023-03-04T15:46:22.915Z"
   },
   {
    "duration": 3,
    "start_time": "2023-03-04T15:46:23.255Z"
   },
   {
    "duration": 4,
    "start_time": "2023-03-04T15:46:26.034Z"
   },
   {
    "duration": 939773,
    "start_time": "2023-03-04T15:46:26.712Z"
   },
   {
    "duration": 122,
    "start_time": "2023-03-04T16:02:44.333Z"
   },
   {
    "duration": 4,
    "start_time": "2023-03-04T16:02:55.758Z"
   },
   {
    "duration": 235774,
    "start_time": "2023-03-04T16:02:56.069Z"
   },
   {
    "duration": 4,
    "start_time": "2023-03-04T16:07:27.986Z"
   },
   {
    "duration": 241984,
    "start_time": "2023-03-04T16:07:28.777Z"
   },
   {
    "duration": 3,
    "start_time": "2023-03-04T16:12:32.211Z"
   },
   {
    "duration": 4,
    "start_time": "2023-03-04T16:17:57.454Z"
   },
   {
    "duration": 4,
    "start_time": "2023-03-04T16:20:18.243Z"
   },
   {
    "duration": 5,
    "start_time": "2023-03-04T16:21:24.504Z"
   },
   {
    "duration": 652528,
    "start_time": "2023-03-04T16:21:44.389Z"
   },
   {
    "duration": 4,
    "start_time": "2023-03-04T16:32:43.760Z"
   },
   {
    "duration": 4,
    "start_time": "2023-03-04T16:33:39.710Z"
   },
   {
    "duration": 3,
    "start_time": "2023-03-04T16:33:45.407Z"
   },
   {
    "duration": 497342,
    "start_time": "2023-03-04T16:33:45.718Z"
   },
   {
    "duration": 1698,
    "start_time": "2023-03-04T16:43:08.161Z"
   },
   {
    "duration": 51,
    "start_time": "2023-03-04T16:43:09.862Z"
   },
   {
    "duration": 16,
    "start_time": "2023-03-04T16:43:09.915Z"
   },
   {
    "duration": 18,
    "start_time": "2023-03-04T16:43:09.937Z"
   },
   {
    "duration": 7,
    "start_time": "2023-03-04T16:43:09.957Z"
   },
   {
    "duration": 10,
    "start_time": "2023-03-04T16:43:09.966Z"
   },
   {
    "duration": 27,
    "start_time": "2023-03-04T16:43:09.978Z"
   },
   {
    "duration": 22,
    "start_time": "2023-03-04T16:43:10.007Z"
   },
   {
    "duration": 31,
    "start_time": "2023-03-04T16:43:10.032Z"
   },
   {
    "duration": 323,
    "start_time": "2023-03-04T16:43:10.068Z"
   },
   {
    "duration": 11,
    "start_time": "2023-03-04T16:43:10.393Z"
   },
   {
    "duration": 427,
    "start_time": "2023-03-04T16:43:10.406Z"
   },
   {
    "duration": 205,
    "start_time": "2023-03-04T16:43:10.835Z"
   },
   {
    "duration": 368,
    "start_time": "2023-03-04T16:43:11.043Z"
   },
   {
    "duration": 10,
    "start_time": "2023-03-04T16:43:11.413Z"
   },
   {
    "duration": 21,
    "start_time": "2023-03-04T16:43:11.439Z"
   },
   {
    "duration": 23,
    "start_time": "2023-03-04T16:43:11.462Z"
   },
   {
    "duration": 14,
    "start_time": "2023-03-04T16:43:11.487Z"
   },
   {
    "duration": 457,
    "start_time": "2023-03-04T16:43:11.503Z"
   },
   {
    "duration": 13,
    "start_time": "2023-03-04T16:43:11.961Z"
   },
   {
    "duration": 18,
    "start_time": "2023-03-04T16:43:11.976Z"
   },
   {
    "duration": 215,
    "start_time": "2023-03-04T16:43:11.996Z"
   },
   {
    "duration": 28,
    "start_time": "2023-03-04T16:43:12.214Z"
   },
   {
    "duration": 9,
    "start_time": "2023-03-04T16:43:12.245Z"
   },
   {
    "duration": 252,
    "start_time": "2023-03-04T16:43:12.257Z"
   },
   {
    "duration": 7,
    "start_time": "2023-03-04T16:43:12.512Z"
   },
   {
    "duration": 48,
    "start_time": "2023-03-04T16:43:12.521Z"
   },
   {
    "duration": 36,
    "start_time": "2023-03-04T16:43:12.576Z"
   },
   {
    "duration": 34,
    "start_time": "2023-03-04T16:43:12.618Z"
   },
   {
    "duration": 35,
    "start_time": "2023-03-04T16:43:12.658Z"
   },
   {
    "duration": 13,
    "start_time": "2023-03-04T16:43:12.698Z"
   },
   {
    "duration": 28,
    "start_time": "2023-03-04T16:43:12.715Z"
   },
   {
    "duration": 13,
    "start_time": "2023-03-04T16:43:12.746Z"
   },
   {
    "duration": 9,
    "start_time": "2023-03-04T16:43:12.762Z"
   },
   {
    "duration": 8,
    "start_time": "2023-03-04T16:43:12.773Z"
   },
   {
    "duration": 17,
    "start_time": "2023-03-04T16:43:12.784Z"
   },
   {
    "duration": 11,
    "start_time": "2023-03-04T16:43:12.804Z"
   },
   {
    "duration": 11,
    "start_time": "2023-03-04T16:43:12.817Z"
   },
   {
    "duration": 4,
    "start_time": "2023-03-04T16:43:12.837Z"
   },
   {
    "duration": 14,
    "start_time": "2023-03-04T16:43:12.842Z"
   },
   {
    "duration": 16,
    "start_time": "2023-03-04T16:43:12.858Z"
   },
   {
    "duration": 12,
    "start_time": "2023-03-04T16:43:12.877Z"
   },
   {
    "duration": 73,
    "start_time": "2023-03-04T16:43:12.891Z"
   },
   {
    "duration": 8,
    "start_time": "2023-03-04T16:43:12.967Z"
   },
   {
    "duration": 7,
    "start_time": "2023-03-04T16:43:13.038Z"
   },
   {
    "duration": 17,
    "start_time": "2023-03-04T16:43:13.047Z"
   },
   {
    "duration": 80,
    "start_time": "2023-03-04T16:43:13.067Z"
   },
   {
    "duration": 4,
    "start_time": "2023-03-04T16:43:13.149Z"
   },
   {
    "duration": 16,
    "start_time": "2023-03-04T16:43:13.155Z"
   },
   {
    "duration": 25,
    "start_time": "2023-03-04T16:43:13.173Z"
   },
   {
    "duration": 210596,
    "start_time": "2023-03-04T16:43:13.201Z"
   },
   {
    "duration": 6,
    "start_time": "2023-03-04T16:46:43.799Z"
   },
   {
    "duration": 12,
    "start_time": "2023-03-04T16:46:43.808Z"
   },
   {
    "duration": 60,
    "start_time": "2023-03-04T16:46:43.840Z"
   },
   {
    "duration": 5,
    "start_time": "2023-03-04T16:46:43.902Z"
   },
   {
    "duration": 8,
    "start_time": "2023-03-04T16:46:43.909Z"
   },
   {
    "duration": 22,
    "start_time": "2023-03-04T16:46:43.919Z"
   },
   {
    "duration": 171227,
    "start_time": "2023-03-04T16:46:43.943Z"
   },
   {
    "duration": 4,
    "start_time": "2023-03-04T16:49:35.172Z"
   },
   {
    "duration": 25,
    "start_time": "2023-03-04T16:49:35.178Z"
   },
   {
    "duration": 0,
    "start_time": "2023-03-04T16:49:35.205Z"
   },
   {
    "duration": 0,
    "start_time": "2023-03-04T16:49:35.206Z"
   },
   {
    "duration": 0,
    "start_time": "2023-03-04T16:49:35.207Z"
   },
   {
    "duration": 1,
    "start_time": "2023-03-04T16:49:35.208Z"
   },
   {
    "duration": 0,
    "start_time": "2023-03-04T16:49:35.210Z"
   },
   {
    "duration": 0,
    "start_time": "2023-03-04T16:49:35.211Z"
   },
   {
    "duration": 0,
    "start_time": "2023-03-04T16:49:35.212Z"
   },
   {
    "duration": 0,
    "start_time": "2023-03-04T16:49:35.213Z"
   },
   {
    "duration": 0,
    "start_time": "2023-03-04T16:49:35.214Z"
   },
   {
    "duration": 0,
    "start_time": "2023-03-04T16:49:35.215Z"
   },
   {
    "duration": 0,
    "start_time": "2023-03-04T16:49:35.216Z"
   },
   {
    "duration": 0,
    "start_time": "2023-03-04T16:49:35.217Z"
   },
   {
    "duration": 0,
    "start_time": "2023-03-04T16:49:35.218Z"
   },
   {
    "duration": 0,
    "start_time": "2023-03-04T16:49:35.219Z"
   },
   {
    "duration": 0,
    "start_time": "2023-03-04T16:49:35.221Z"
   },
   {
    "duration": 3,
    "start_time": "2023-03-04T16:49:59.362Z"
   },
   {
    "duration": 219746,
    "start_time": "2023-03-04T16:49:59.813Z"
   },
   {
    "duration": 3,
    "start_time": "2023-03-04T16:56:54.734Z"
   },
   {
    "duration": 4,
    "start_time": "2023-03-04T16:56:54.933Z"
   },
   {
    "duration": 509019,
    "start_time": "2023-03-04T16:56:55.945Z"
   },
   {
    "duration": 10,
    "start_time": "2023-03-04T17:06:04.090Z"
   },
   {
    "duration": 240493,
    "start_time": "2023-03-04T17:06:12.965Z"
   },
   {
    "duration": 5,
    "start_time": "2023-03-04T18:08:58.467Z"
   },
   {
    "duration": 282469,
    "start_time": "2023-03-04T18:08:58.474Z"
   },
   {
    "duration": 3,
    "start_time": "2023-03-04T18:14:59.004Z"
   },
   {
    "duration": 91,
    "start_time": "2023-03-04T18:14:59.229Z"
   },
   {
    "duration": 2,
    "start_time": "2023-03-04T18:15:25.906Z"
   },
   {
    "duration": 3,
    "start_time": "2023-03-04T18:15:26.089Z"
   },
   {
    "duration": 3,
    "start_time": "2023-03-04T18:15:26.343Z"
   },
   {
    "duration": 16005,
    "start_time": "2023-03-04T18:15:26.770Z"
   },
   {
    "duration": 5,
    "start_time": "2023-03-04T18:16:16.518Z"
   },
   {
    "duration": 5,
    "start_time": "2023-03-04T18:16:20.343Z"
   },
   {
    "duration": 3,
    "start_time": "2023-03-04T18:16:46.557Z"
   },
   {
    "duration": 3,
    "start_time": "2023-03-04T18:16:46.746Z"
   },
   {
    "duration": 3480,
    "start_time": "2023-03-04T18:16:47.028Z"
   },
   {
    "duration": 4,
    "start_time": "2023-03-04T18:16:55.647Z"
   },
   {
    "duration": 9,
    "start_time": "2023-03-04T18:16:57.154Z"
   },
   {
    "duration": 11,
    "start_time": "2023-03-04T18:17:04.748Z"
   },
   {
    "duration": 9,
    "start_time": "2023-03-04T18:17:15.597Z"
   },
   {
    "duration": 5,
    "start_time": "2023-03-04T18:17:32.396Z"
   },
   {
    "duration": 3790,
    "start_time": "2023-03-04T18:17:32.899Z"
   },
   {
    "duration": 5,
    "start_time": "2023-03-04T18:17:40.673Z"
   },
   {
    "duration": 11,
    "start_time": "2023-03-04T18:17:41.902Z"
   },
   {
    "duration": 4,
    "start_time": "2023-03-04T18:21:11.812Z"
   },
   {
    "duration": 5,
    "start_time": "2023-03-04T18:21:12.151Z"
   },
   {
    "duration": 3,
    "start_time": "2023-03-04T18:21:12.787Z"
   },
   {
    "duration": 14890,
    "start_time": "2023-03-04T18:21:13.207Z"
   },
   {
    "duration": 12,
    "start_time": "2023-03-04T18:21:44.531Z"
   },
   {
    "duration": 5,
    "start_time": "2023-03-04T18:21:46.470Z"
   },
   {
    "duration": 4,
    "start_time": "2023-03-04T18:22:06.911Z"
   },
   {
    "duration": 3,
    "start_time": "2023-03-04T18:22:07.177Z"
   },
   {
    "duration": 3767,
    "start_time": "2023-03-04T18:22:07.571Z"
   },
   {
    "duration": 4,
    "start_time": "2023-03-04T18:22:15.748Z"
   },
   {
    "duration": 10,
    "start_time": "2023-03-04T18:22:18.612Z"
   },
   {
    "duration": 243,
    "start_time": "2023-03-04T18:23:29.232Z"
   },
   {
    "duration": 4,
    "start_time": "2023-03-04T18:23:31.176Z"
   },
   {
    "duration": 3,
    "start_time": "2023-03-04T18:23:31.513Z"
   },
   {
    "duration": 4,
    "start_time": "2023-03-04T18:23:31.931Z"
   },
   {
    "duration": 11629,
    "start_time": "2023-03-04T18:23:32.779Z"
   },
   {
    "duration": 3,
    "start_time": "2023-03-04T18:23:46.406Z"
   },
   {
    "duration": 18189,
    "start_time": "2023-03-04T18:23:47.027Z"
   },
   {
    "duration": 3,
    "start_time": "2023-03-04T18:24:26.241Z"
   },
   {
    "duration": 3,
    "start_time": "2023-03-04T18:24:26.470Z"
   },
   {
    "duration": 4,
    "start_time": "2023-03-04T18:24:27.473Z"
   },
   {
    "duration": 15003,
    "start_time": "2023-03-04T18:24:27.849Z"
   },
   {
    "duration": 4,
    "start_time": "2023-03-04T18:24:45.822Z"
   },
   {
    "duration": 4,
    "start_time": "2023-03-04T18:24:47.449Z"
   },
   {
    "duration": 4,
    "start_time": "2023-03-04T18:25:01.945Z"
   },
   {
    "duration": 3,
    "start_time": "2023-03-04T18:25:02.266Z"
   },
   {
    "duration": 3647,
    "start_time": "2023-03-04T18:25:03.282Z"
   },
   {
    "duration": 5,
    "start_time": "2023-03-04T18:25:09.451Z"
   },
   {
    "duration": 13,
    "start_time": "2023-03-04T18:25:10.168Z"
   },
   {
    "duration": 3,
    "start_time": "2023-03-04T18:31:19.271Z"
   },
   {
    "duration": 3,
    "start_time": "2023-03-04T18:31:19.474Z"
   },
   {
    "duration": 11,
    "start_time": "2023-03-04T18:31:19.697Z"
   },
   {
    "duration": 2,
    "start_time": "2023-03-04T18:31:24.351Z"
   },
   {
    "duration": 4,
    "start_time": "2023-03-04T18:31:27.893Z"
   },
   {
    "duration": 33,
    "start_time": "2023-03-04T18:31:28.155Z"
   },
   {
    "duration": 7,
    "start_time": "2023-03-04T18:31:32.222Z"
   },
   {
    "duration": 4,
    "start_time": "2023-03-04T18:31:32.643Z"
   },
   {
    "duration": 9,
    "start_time": "2023-03-04T18:31:33.354Z"
   },
   {
    "duration": 3,
    "start_time": "2023-03-04T18:34:54.544Z"
   },
   {
    "duration": 4,
    "start_time": "2023-03-04T19:30:05.874Z"
   },
   {
    "duration": 4,
    "start_time": "2023-03-04T19:31:48.310Z"
   },
   {
    "duration": 4,
    "start_time": "2023-03-04T19:43:08.320Z"
   },
   {
    "duration": 83,
    "start_time": "2023-03-04T19:43:54.634Z"
   },
   {
    "duration": 3,
    "start_time": "2023-03-04T19:44:03.608Z"
   },
   {
    "duration": 6,
    "start_time": "2023-03-04T19:44:04.846Z"
   },
   {
    "duration": 11284,
    "start_time": "2023-03-04T19:44:05.161Z"
   },
   {
    "duration": 5,
    "start_time": "2023-03-04T19:44:19.771Z"
   },
   {
    "duration": 16,
    "start_time": "2023-03-04T19:44:21.536Z"
   },
   {
    "duration": 7,
    "start_time": "2023-03-04T19:44:30.238Z"
   },
   {
    "duration": 5,
    "start_time": "2023-03-04T19:44:34.262Z"
   },
   {
    "duration": 21305,
    "start_time": "2023-03-04T19:44:34.422Z"
   },
   {
    "duration": 3,
    "start_time": "2023-03-04T19:44:59.232Z"
   },
   {
    "duration": 6,
    "start_time": "2023-03-04T19:45:00.852Z"
   },
   {
    "duration": 4,
    "start_time": "2023-03-04T19:45:40.663Z"
   },
   {
    "duration": 12,
    "start_time": "2023-03-04T19:51:26.917Z"
   },
   {
    "duration": 4,
    "start_time": "2023-03-04T20:10:48.724Z"
   },
   {
    "duration": 3,
    "start_time": "2023-03-04T20:11:23.501Z"
   },
   {
    "duration": 5,
    "start_time": "2023-03-04T20:11:49.636Z"
   },
   {
    "duration": 5,
    "start_time": "2023-03-04T20:12:42.003Z"
   },
   {
    "duration": 2595,
    "start_time": "2023-03-05T16:45:29.053Z"
   },
   {
    "duration": 185,
    "start_time": "2023-03-05T16:45:31.651Z"
   },
   {
    "duration": 17,
    "start_time": "2023-03-05T16:45:31.838Z"
   },
   {
    "duration": 16,
    "start_time": "2023-03-05T16:45:31.858Z"
   },
   {
    "duration": 17,
    "start_time": "2023-03-05T16:45:31.876Z"
   },
   {
    "duration": 6,
    "start_time": "2023-03-05T16:45:31.896Z"
   },
   {
    "duration": 14,
    "start_time": "2023-03-05T16:45:31.904Z"
   },
   {
    "duration": 17,
    "start_time": "2023-03-05T16:45:31.920Z"
   },
   {
    "duration": 9,
    "start_time": "2023-03-05T16:45:31.939Z"
   },
   {
    "duration": 429,
    "start_time": "2023-03-05T16:45:31.953Z"
   },
   {
    "duration": 17,
    "start_time": "2023-03-05T16:45:32.385Z"
   },
   {
    "duration": 445,
    "start_time": "2023-03-05T16:45:32.424Z"
   },
   {
    "duration": 268,
    "start_time": "2023-03-05T16:45:32.872Z"
   },
   {
    "duration": 396,
    "start_time": "2023-03-05T16:45:33.142Z"
   },
   {
    "duration": 18,
    "start_time": "2023-03-05T16:45:33.546Z"
   },
   {
    "duration": 12,
    "start_time": "2023-03-05T16:45:33.567Z"
   },
   {
    "duration": 26,
    "start_time": "2023-03-05T16:45:33.581Z"
   },
   {
    "duration": 12,
    "start_time": "2023-03-05T16:45:33.610Z"
   },
   {
    "duration": 473,
    "start_time": "2023-03-05T16:45:33.624Z"
   },
   {
    "duration": 18,
    "start_time": "2023-03-05T16:45:34.100Z"
   },
   {
    "duration": 16,
    "start_time": "2023-03-05T16:45:34.124Z"
   },
   {
    "duration": 257,
    "start_time": "2023-03-05T16:45:34.147Z"
   },
   {
    "duration": 15,
    "start_time": "2023-03-05T16:45:34.406Z"
   },
   {
    "duration": 10,
    "start_time": "2023-03-05T16:45:34.423Z"
   },
   {
    "duration": 261,
    "start_time": "2023-03-05T16:45:34.435Z"
   },
   {
    "duration": 6,
    "start_time": "2023-03-05T16:45:34.698Z"
   },
   {
    "duration": 16,
    "start_time": "2023-03-05T16:45:34.711Z"
   },
   {
    "duration": 28,
    "start_time": "2023-03-05T16:45:34.732Z"
   },
   {
    "duration": 19,
    "start_time": "2023-03-05T16:45:34.762Z"
   },
   {
    "duration": 40,
    "start_time": "2023-03-05T16:45:34.784Z"
   },
   {
    "duration": 9,
    "start_time": "2023-03-05T16:45:34.826Z"
   },
   {
    "duration": 26,
    "start_time": "2023-03-05T16:45:34.837Z"
   },
   {
    "duration": 4,
    "start_time": "2023-03-05T16:45:34.865Z"
   },
   {
    "duration": 11,
    "start_time": "2023-03-05T16:45:34.871Z"
   },
   {
    "duration": 7,
    "start_time": "2023-03-05T16:45:34.884Z"
   },
   {
    "duration": 6,
    "start_time": "2023-03-05T16:45:34.893Z"
   },
   {
    "duration": 4,
    "start_time": "2023-03-05T16:45:34.901Z"
   },
   {
    "duration": 7,
    "start_time": "2023-03-05T16:45:34.907Z"
   },
   {
    "duration": 21,
    "start_time": "2023-03-05T16:45:34.916Z"
   },
   {
    "duration": 5,
    "start_time": "2023-03-05T16:45:34.939Z"
   },
   {
    "duration": 187,
    "start_time": "2023-03-05T16:45:34.947Z"
   },
   {
    "duration": 12,
    "start_time": "2023-03-05T16:45:35.137Z"
   },
   {
    "duration": 8,
    "start_time": "2023-03-05T16:45:35.152Z"
   },
   {
    "duration": 53,
    "start_time": "2023-03-05T16:45:35.162Z"
   },
   {
    "duration": 5,
    "start_time": "2023-03-05T16:45:35.218Z"
   },
   {
    "duration": 8,
    "start_time": "2023-03-05T16:45:35.225Z"
   },
   {
    "duration": 11,
    "start_time": "2023-03-05T16:45:35.236Z"
   },
   {
    "duration": 228202,
    "start_time": "2023-03-05T16:45:35.250Z"
   },
   {
    "duration": 5,
    "start_time": "2023-03-05T16:49:23.454Z"
   },
   {
    "duration": 15,
    "start_time": "2023-03-05T16:49:23.461Z"
   },
   {
    "duration": 9,
    "start_time": "2023-03-05T16:49:23.478Z"
   },
   {
    "duration": 25,
    "start_time": "2023-03-05T16:49:23.489Z"
   },
   {
    "duration": 7,
    "start_time": "2023-03-05T16:49:23.518Z"
   },
   {
    "duration": 14,
    "start_time": "2023-03-05T16:49:23.527Z"
   },
   {
    "duration": 322845,
    "start_time": "2023-03-05T16:49:23.544Z"
   },
   {
    "duration": 12,
    "start_time": "2023-03-05T16:54:46.391Z"
   },
   {
    "duration": 0,
    "start_time": "2023-03-05T16:54:46.405Z"
   },
   {
    "duration": 0,
    "start_time": "2023-03-05T16:54:46.407Z"
   },
   {
    "duration": 0,
    "start_time": "2023-03-05T16:54:46.409Z"
   },
   {
    "duration": 0,
    "start_time": "2023-03-05T16:54:46.411Z"
   },
   {
    "duration": 0,
    "start_time": "2023-03-05T16:54:46.413Z"
   },
   {
    "duration": 0,
    "start_time": "2023-03-05T16:54:46.415Z"
   },
   {
    "duration": 0,
    "start_time": "2023-03-05T16:54:46.420Z"
   },
   {
    "duration": 0,
    "start_time": "2023-03-05T16:54:46.421Z"
   },
   {
    "duration": 0,
    "start_time": "2023-03-05T16:54:46.422Z"
   },
   {
    "duration": 0,
    "start_time": "2023-03-05T16:54:46.423Z"
   },
   {
    "duration": 0,
    "start_time": "2023-03-05T16:54:46.424Z"
   },
   {
    "duration": 4,
    "start_time": "2023-03-05T16:55:39.454Z"
   },
   {
    "duration": 3,
    "start_time": "2023-03-05T16:55:39.639Z"
   },
   {
    "duration": 115034,
    "start_time": "2023-03-05T16:55:39.846Z"
   },
   {
    "duration": 12,
    "start_time": "2023-03-05T16:57:34.882Z"
   },
   {
    "duration": 0,
    "start_time": "2023-03-05T16:57:34.897Z"
   },
   {
    "duration": 4,
    "start_time": "2023-03-05T16:57:47.685Z"
   },
   {
    "duration": 222726,
    "start_time": "2023-03-05T16:57:48.165Z"
   },
   {
    "duration": 6,
    "start_time": "2023-03-05T17:01:34.675Z"
   },
   {
    "duration": 1729757,
    "start_time": "2023-03-05T17:01:35.045Z"
   },
   {
    "duration": 4,
    "start_time": "2023-03-05T17:30:36.679Z"
   },
   {
    "duration": 170673,
    "start_time": "2023-03-05T17:30:36.869Z"
   },
   {
    "duration": 1759,
    "start_time": "2023-03-05T17:34:26.932Z"
   },
   {
    "duration": 72,
    "start_time": "2023-03-05T17:34:28.693Z"
   },
   {
    "duration": 14,
    "start_time": "2023-03-05T17:34:28.767Z"
   },
   {
    "duration": 12,
    "start_time": "2023-03-05T17:34:28.783Z"
   },
   {
    "duration": 7,
    "start_time": "2023-03-05T17:34:28.799Z"
   },
   {
    "duration": 22,
    "start_time": "2023-03-05T17:34:28.808Z"
   },
   {
    "duration": 7,
    "start_time": "2023-03-05T17:34:28.837Z"
   },
   {
    "duration": 16,
    "start_time": "2023-03-05T17:34:28.846Z"
   },
   {
    "duration": 16,
    "start_time": "2023-03-05T17:34:28.865Z"
   },
   {
    "duration": 359,
    "start_time": "2023-03-05T17:34:28.884Z"
   },
   {
    "duration": 14,
    "start_time": "2023-03-05T17:34:29.246Z"
   },
   {
    "duration": 384,
    "start_time": "2023-03-05T17:34:29.264Z"
   },
   {
    "duration": 192,
    "start_time": "2023-03-05T17:34:29.658Z"
   },
   {
    "duration": 287,
    "start_time": "2023-03-05T17:34:29.854Z"
   },
   {
    "duration": 9,
    "start_time": "2023-03-05T17:34:30.143Z"
   },
   {
    "duration": 15,
    "start_time": "2023-03-05T17:34:30.154Z"
   },
   {
    "duration": 22,
    "start_time": "2023-03-05T17:34:30.171Z"
   },
   {
    "duration": 40,
    "start_time": "2023-03-05T17:34:30.195Z"
   },
   {
    "duration": 363,
    "start_time": "2023-03-05T17:34:30.243Z"
   },
   {
    "duration": 13,
    "start_time": "2023-03-05T17:34:30.608Z"
   },
   {
    "duration": 44,
    "start_time": "2023-03-05T17:34:30.623Z"
   },
   {
    "duration": 222,
    "start_time": "2023-03-05T17:34:30.670Z"
   },
   {
    "duration": 26,
    "start_time": "2023-03-05T17:34:30.894Z"
   },
   {
    "duration": 27,
    "start_time": "2023-03-05T17:34:30.922Z"
   },
   {
    "duration": 237,
    "start_time": "2023-03-05T17:34:30.951Z"
   },
   {
    "duration": 5,
    "start_time": "2023-03-05T17:34:31.190Z"
   },
   {
    "duration": 49,
    "start_time": "2023-03-05T17:34:31.198Z"
   },
   {
    "duration": 54,
    "start_time": "2023-03-05T17:34:31.249Z"
   },
   {
    "duration": 10,
    "start_time": "2023-03-05T17:34:31.305Z"
   },
   {
    "duration": 42,
    "start_time": "2023-03-05T17:34:31.317Z"
   },
   {
    "duration": 3,
    "start_time": "2023-03-05T17:34:31.361Z"
   },
   {
    "duration": 19,
    "start_time": "2023-03-05T17:34:31.366Z"
   },
   {
    "duration": 11,
    "start_time": "2023-03-05T17:34:31.387Z"
   },
   {
    "duration": 23,
    "start_time": "2023-03-05T17:34:31.401Z"
   },
   {
    "duration": 14,
    "start_time": "2023-03-05T17:34:31.426Z"
   },
   {
    "duration": 22,
    "start_time": "2023-03-05T17:34:31.444Z"
   },
   {
    "duration": 21,
    "start_time": "2023-03-05T17:34:31.468Z"
   },
   {
    "duration": 11,
    "start_time": "2023-03-05T17:34:31.491Z"
   },
   {
    "duration": 23,
    "start_time": "2023-03-05T17:34:31.505Z"
   },
   {
    "duration": 15,
    "start_time": "2023-03-05T17:34:31.533Z"
   },
   {
    "duration": 44,
    "start_time": "2023-03-05T17:34:31.553Z"
   },
   {
    "duration": 16,
    "start_time": "2023-03-05T17:34:31.599Z"
   },
   {
    "duration": 12,
    "start_time": "2023-03-05T17:34:31.617Z"
   },
   {
    "duration": 10,
    "start_time": "2023-03-05T17:34:31.635Z"
   },
   {
    "duration": 18,
    "start_time": "2023-03-05T17:34:31.647Z"
   },
   {
    "duration": 7,
    "start_time": "2023-03-05T17:34:31.668Z"
   },
   {
    "duration": 55,
    "start_time": "2023-03-05T17:34:31.677Z"
   },
   {
    "duration": 212453,
    "start_time": "2023-03-05T17:34:31.741Z"
   },
   {
    "duration": 22,
    "start_time": "2023-03-05T17:38:04.197Z"
   },
   {
    "duration": 13,
    "start_time": "2023-03-05T17:38:04.221Z"
   },
   {
    "duration": 3,
    "start_time": "2023-03-05T17:38:04.236Z"
   },
   {
    "duration": 29,
    "start_time": "2023-03-05T17:38:04.241Z"
   },
   {
    "duration": 4,
    "start_time": "2023-03-05T17:38:04.274Z"
   },
   {
    "duration": 5,
    "start_time": "2023-03-05T17:38:04.279Z"
   },
   {
    "duration": 1022029,
    "start_time": "2023-03-05T17:38:04.286Z"
   },
   {
    "duration": 24,
    "start_time": "2023-03-05T17:55:06.324Z"
   },
   {
    "duration": 0,
    "start_time": "2023-03-05T17:55:06.355Z"
   },
   {
    "duration": 0,
    "start_time": "2023-03-05T17:55:06.363Z"
   },
   {
    "duration": 0,
    "start_time": "2023-03-05T17:55:06.369Z"
   },
   {
    "duration": 0,
    "start_time": "2023-03-05T17:55:06.376Z"
   },
   {
    "duration": 0,
    "start_time": "2023-03-05T17:55:06.381Z"
   },
   {
    "duration": 0,
    "start_time": "2023-03-05T17:55:06.382Z"
   },
   {
    "duration": 0,
    "start_time": "2023-03-05T17:55:06.385Z"
   },
   {
    "duration": 0,
    "start_time": "2023-03-05T17:55:06.387Z"
   },
   {
    "duration": 0,
    "start_time": "2023-03-05T17:55:06.391Z"
   },
   {
    "duration": 0,
    "start_time": "2023-03-05T17:55:06.393Z"
   },
   {
    "duration": 0,
    "start_time": "2023-03-05T17:55:06.395Z"
   },
   {
    "duration": 85,
    "start_time": "2023-03-05T17:55:30.445Z"
   },
   {
    "duration": 107,
    "start_time": "2023-03-05T17:56:44.616Z"
   },
   {
    "duration": 2094,
    "start_time": "2023-03-05T17:56:50.693Z"
   },
   {
    "duration": 68,
    "start_time": "2023-03-05T17:56:52.792Z"
   },
   {
    "duration": 18,
    "start_time": "2023-03-05T17:56:52.865Z"
   },
   {
    "duration": 13,
    "start_time": "2023-03-05T17:56:52.888Z"
   },
   {
    "duration": 7,
    "start_time": "2023-03-05T17:56:52.902Z"
   },
   {
    "duration": 18,
    "start_time": "2023-03-05T17:56:52.911Z"
   },
   {
    "duration": 20,
    "start_time": "2023-03-05T17:56:52.936Z"
   },
   {
    "duration": 13,
    "start_time": "2023-03-05T17:56:52.963Z"
   },
   {
    "duration": 11,
    "start_time": "2023-03-05T17:56:52.980Z"
   },
   {
    "duration": 374,
    "start_time": "2023-03-05T17:56:52.995Z"
   },
   {
    "duration": 14,
    "start_time": "2023-03-05T17:56:53.372Z"
   },
   {
    "duration": 390,
    "start_time": "2023-03-05T17:56:53.393Z"
   },
   {
    "duration": 205,
    "start_time": "2023-03-05T17:56:53.785Z"
   },
   {
    "duration": 434,
    "start_time": "2023-03-05T17:56:53.992Z"
   },
   {
    "duration": 15,
    "start_time": "2023-03-05T17:56:54.428Z"
   },
   {
    "duration": 37,
    "start_time": "2023-03-05T17:56:54.450Z"
   },
   {
    "duration": 17,
    "start_time": "2023-03-05T17:56:54.490Z"
   },
   {
    "duration": 19,
    "start_time": "2023-03-05T17:56:54.510Z"
   },
   {
    "duration": 488,
    "start_time": "2023-03-05T17:56:54.531Z"
   },
   {
    "duration": 19,
    "start_time": "2023-03-05T17:56:55.026Z"
   },
   {
    "duration": 15,
    "start_time": "2023-03-05T17:56:55.052Z"
   },
   {
    "duration": 261,
    "start_time": "2023-03-05T17:56:55.074Z"
   },
   {
    "duration": 16,
    "start_time": "2023-03-05T17:56:55.341Z"
   },
   {
    "duration": 14,
    "start_time": "2023-03-05T17:56:55.368Z"
   },
   {
    "duration": 292,
    "start_time": "2023-03-05T17:56:55.384Z"
   },
   {
    "duration": 7,
    "start_time": "2023-03-05T17:56:55.688Z"
   },
   {
    "duration": 18,
    "start_time": "2023-03-05T17:56:55.700Z"
   },
   {
    "duration": 83,
    "start_time": "2023-03-05T17:56:55.727Z"
   },
   {
    "duration": 21,
    "start_time": "2023-03-05T17:56:55.811Z"
   },
   {
    "duration": 22,
    "start_time": "2023-03-05T17:56:55.839Z"
   },
   {
    "duration": 4,
    "start_time": "2023-03-05T17:56:55.866Z"
   },
   {
    "duration": 5,
    "start_time": "2023-03-05T17:56:55.875Z"
   },
   {
    "duration": 4,
    "start_time": "2023-03-05T17:56:55.885Z"
   },
   {
    "duration": 6,
    "start_time": "2023-03-05T17:56:55.894Z"
   },
   {
    "duration": 9,
    "start_time": "2023-03-05T17:56:55.905Z"
   },
   {
    "duration": 7,
    "start_time": "2023-03-05T17:56:55.926Z"
   },
   {
    "duration": 4,
    "start_time": "2023-03-05T17:56:55.939Z"
   },
   {
    "duration": 5,
    "start_time": "2023-03-05T17:56:55.949Z"
   },
   {
    "duration": 14,
    "start_time": "2023-03-05T17:56:55.960Z"
   },
   {
    "duration": 6,
    "start_time": "2023-03-05T17:56:55.985Z"
   },
   {
    "duration": 54,
    "start_time": "2023-03-05T17:56:55.998Z"
   },
   {
    "duration": 24,
    "start_time": "2023-03-05T17:56:56.064Z"
   },
   {
    "duration": 22,
    "start_time": "2023-03-05T17:56:56.098Z"
   },
   {
    "duration": 10,
    "start_time": "2023-03-05T17:56:56.133Z"
   },
   {
    "duration": 11,
    "start_time": "2023-03-05T17:56:56.145Z"
   },
   {
    "duration": 8,
    "start_time": "2023-03-05T17:56:56.167Z"
   },
   {
    "duration": 8,
    "start_time": "2023-03-05T17:56:56.181Z"
   },
   {
    "duration": 248150,
    "start_time": "2023-03-05T17:56:56.195Z"
   },
   {
    "duration": 8,
    "start_time": "2023-03-05T18:01:04.350Z"
   },
   {
    "duration": 14,
    "start_time": "2023-03-05T18:01:04.364Z"
   },
   {
    "duration": 9,
    "start_time": "2023-03-05T18:01:04.381Z"
   },
   {
    "duration": 7,
    "start_time": "2023-03-05T18:01:04.395Z"
   },
   {
    "duration": 10,
    "start_time": "2023-03-05T18:01:04.404Z"
   },
   {
    "duration": 10,
    "start_time": "2023-03-05T18:01:04.416Z"
   },
   {
    "duration": 969480,
    "start_time": "2023-03-05T18:01:04.428Z"
   },
   {
    "duration": 25,
    "start_time": "2023-03-05T18:17:13.911Z"
   },
   {
    "duration": 0,
    "start_time": "2023-03-05T18:17:13.944Z"
   },
   {
    "duration": 0,
    "start_time": "2023-03-05T18:17:13.952Z"
   },
   {
    "duration": 0,
    "start_time": "2023-03-05T18:17:13.954Z"
   },
   {
    "duration": 0,
    "start_time": "2023-03-05T18:17:13.955Z"
   },
   {
    "duration": 0,
    "start_time": "2023-03-05T18:17:13.958Z"
   },
   {
    "duration": 0,
    "start_time": "2023-03-05T18:17:13.959Z"
   },
   {
    "duration": 0,
    "start_time": "2023-03-05T18:17:13.960Z"
   },
   {
    "duration": 0,
    "start_time": "2023-03-05T18:17:13.961Z"
   },
   {
    "duration": 0,
    "start_time": "2023-03-05T18:17:13.962Z"
   },
   {
    "duration": 0,
    "start_time": "2023-03-05T18:17:13.965Z"
   },
   {
    "duration": 0,
    "start_time": "2023-03-05T18:17:13.966Z"
   },
   {
    "duration": 6,
    "start_time": "2023-03-05T18:17:18.729Z"
   },
   {
    "duration": 78994,
    "start_time": "2023-03-05T18:17:20.354Z"
   },
   {
    "duration": 9,
    "start_time": "2023-03-05T18:18:56.853Z"
   },
   {
    "duration": 5,
    "start_time": "2023-03-05T18:18:57.034Z"
   },
   {
    "duration": 4,
    "start_time": "2023-03-05T18:18:57.174Z"
   },
   {
    "duration": 20571,
    "start_time": "2023-03-05T18:18:57.581Z"
   },
   {
    "duration": 6,
    "start_time": "2023-03-05T18:22:13.869Z"
   },
   {
    "duration": 20,
    "start_time": "2023-03-05T18:22:14.053Z"
   },
   {
    "duration": 8,
    "start_time": "2023-03-05T18:22:14.283Z"
   },
   {
    "duration": 8,
    "start_time": "2023-03-05T18:22:14.360Z"
   },
   {
    "duration": 21502,
    "start_time": "2023-03-05T18:22:14.493Z"
   },
   {
    "duration": 6,
    "start_time": "2023-03-05T18:23:51.593Z"
   },
   {
    "duration": 5,
    "start_time": "2023-03-05T18:23:51.774Z"
   },
   {
    "duration": 4,
    "start_time": "2023-03-05T18:23:52.058Z"
   },
   {
    "duration": 17,
    "start_time": "2023-03-05T18:23:58.138Z"
   },
   {
    "duration": 5,
    "start_time": "2023-03-05T18:23:59.773Z"
   },
   {
    "duration": 5,
    "start_time": "2023-03-05T18:23:59.961Z"
   },
   {
    "duration": 6,
    "start_time": "2023-03-05T18:24:00.170Z"
   },
   {
    "duration": 14,
    "start_time": "2023-03-05T18:36:53.618Z"
   },
   {
    "duration": 471,
    "start_time": "2023-03-05T18:37:07.481Z"
   },
   {
    "duration": 5,
    "start_time": "2023-03-05T18:39:23.403Z"
   },
   {
    "duration": 4,
    "start_time": "2023-03-05T18:42:58.080Z"
   },
   {
    "duration": 38,
    "start_time": "2023-03-05T18:48:06.204Z"
   },
   {
    "duration": 5,
    "start_time": "2023-03-05T18:48:32.491Z"
   },
   {
    "duration": 2,
    "start_time": "2023-03-05T18:53:31.497Z"
   },
   {
    "duration": 7,
    "start_time": "2023-03-05T18:53:36.518Z"
   },
   {
    "duration": 31,
    "start_time": "2023-03-05T18:54:12.980Z"
   },
   {
    "duration": 7,
    "start_time": "2023-03-05T18:54:18.933Z"
   },
   {
    "duration": 5,
    "start_time": "2023-03-05T18:54:31.119Z"
   },
   {
    "duration": 3,
    "start_time": "2023-03-05T18:54:45.460Z"
   },
   {
    "duration": 30,
    "start_time": "2023-03-05T18:54:45.660Z"
   },
   {
    "duration": 5,
    "start_time": "2023-03-05T18:54:45.856Z"
   },
   {
    "duration": 2,
    "start_time": "2023-03-05T18:55:24.068Z"
   },
   {
    "duration": 20,
    "start_time": "2023-03-05T18:55:24.314Z"
   },
   {
    "duration": 16,
    "start_time": "2023-03-05T18:55:48.288Z"
   },
   {
    "duration": 3,
    "start_time": "2023-03-05T18:55:54.348Z"
   },
   {
    "duration": 8,
    "start_time": "2023-03-05T18:55:57.913Z"
   },
   {
    "duration": 8,
    "start_time": "2023-03-05T18:56:03.000Z"
   },
   {
    "duration": 4,
    "start_time": "2023-03-05T18:56:44.833Z"
   },
   {
    "duration": 331,
    "start_time": "2023-03-05T18:56:52.239Z"
   },
   {
    "duration": 314,
    "start_time": "2023-03-05T18:57:14.788Z"
   }
  ],
  "kernelspec": {
   "display_name": "Python 3 (ipykernel)",
   "language": "python",
   "name": "python3"
  },
  "language_info": {
   "codemirror_mode": {
    "name": "ipython",
    "version": 3
   },
   "file_extension": ".py",
   "mimetype": "text/x-python",
   "name": "python",
   "nbconvert_exporter": "python",
   "pygments_lexer": "ipython3",
   "version": "3.9.5"
  },
  "toc": {
   "base_numbering": 1,
   "nav_menu": {
    "height": "239px",
    "width": "306px"
   },
   "number_sections": true,
   "sideBar": true,
   "skip_h1_title": true,
   "title_cell": "Содержание",
   "title_sidebar": "Contents",
   "toc_cell": true,
   "toc_position": {
    "height": "calc(100% - 180px)",
    "left": "10px",
    "top": "150px",
    "width": "289.438px"
   },
   "toc_section_display": true,
   "toc_window_display": false
  }
 },
 "nbformat": 4,
 "nbformat_minor": 2
}
